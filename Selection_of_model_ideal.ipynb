{
  "nbformat": 4,
  "nbformat_minor": 0,
  "metadata": {
    "colab": {
      "name": "Selection of model ideal.ipynb",
      "provenance": [],
      "collapsed_sections": [],
      "mount_file_id": "1qsO-RDpKKoQoBkj0w-ReUOVMZYcLEMY-",
      "authorship_tag": "ABX9TyNcMPov+lMyWpNuyaKTg/Ss",
      "include_colab_link": true
    },
    "kernelspec": {
      "name": "python3",
      "display_name": "Python 3"
    },
    "language_info": {
      "name": "python"
    },
    "accelerator": "GPU",
    "gpuClass": "standard"
  },
  "cells": [
    {
      "cell_type": "markdown",
      "metadata": {
        "id": "view-in-github",
        "colab_type": "text"
      },
      "source": [
        "<a href=\"https://colab.research.google.com/github/Jesus-Vazquez-A/Insurence/blob/main/Selection_of_model_ideal.ipynb\" target=\"_parent\"><img src=\"https://colab.research.google.com/assets/colab-badge.svg\" alt=\"Open In Colab\"/></a>"
      ]
    },
    {
      "cell_type": "code",
      "execution_count": 1,
      "metadata": {
        "id": "42mAl_1sAeG8"
      },
      "outputs": [],
      "source": [
        "import warnings # ignore warnings\n",
        "import pandas as pd # data manipulation\n",
        "import numpy as np # linear algebra\n",
        "import matplotlib.pyplot as plt # plots\n",
        "import seaborn as sns # plots"
      ]
    },
    {
      "cell_type": "code",
      "source": [
        "warnings.filterwarnings(\"ignore\")"
      ],
      "metadata": {
        "id": "cSVA3RjPAqF8"
      },
      "execution_count": 2,
      "outputs": []
    },
    {
      "cell_type": "code",
      "source": [
        "df=pd.read_csv(\"/content/insurence_clear\")\n",
        "df=df.drop([\"Unnamed: 0\"],axis=\"columns\")"
      ],
      "metadata": {
        "id": "L1XaFcLIAtCj"
      },
      "execution_count": 65,
      "outputs": []
    },
    {
      "cell_type": "code",
      "source": [
        "df.head()"
      ],
      "metadata": {
        "colab": {
          "base_uri": "https://localhost:8080/",
          "height": 206
        },
        "id": "Oi-3A_k5A2vO",
        "outputId": "0f147e6a-a5af-41bc-b3c6-75da2561eb0e"
      },
      "execution_count": 66,
      "outputs": [
        {
          "output_type": "execute_result",
          "data": {
            "text/plain": [
              "   age   sex    bmi  children smoker     region    charges\n",
              "0   18  male  33.77         1     no  southeast  1725.5523\n",
              "1   28  male  33.00         3     no  southeast  4449.4620\n",
              "2   25  male  26.22         0     no  northeast  2721.3208\n",
              "3   23  male  34.40         0     no  southwest  1826.8430\n",
              "4   19  male  24.60         1     no  southwest  1837.2370"
            ],
            "text/html": [
              "\n",
              "  <div id=\"df-6ade13d6-5069-4174-9d9f-ef65dd7e6f74\">\n",
              "    <div class=\"colab-df-container\">\n",
              "      <div>\n",
              "<style scoped>\n",
              "    .dataframe tbody tr th:only-of-type {\n",
              "        vertical-align: middle;\n",
              "    }\n",
              "\n",
              "    .dataframe tbody tr th {\n",
              "        vertical-align: top;\n",
              "    }\n",
              "\n",
              "    .dataframe thead th {\n",
              "        text-align: right;\n",
              "    }\n",
              "</style>\n",
              "<table border=\"1\" class=\"dataframe\">\n",
              "  <thead>\n",
              "    <tr style=\"text-align: right;\">\n",
              "      <th></th>\n",
              "      <th>age</th>\n",
              "      <th>sex</th>\n",
              "      <th>bmi</th>\n",
              "      <th>children</th>\n",
              "      <th>smoker</th>\n",
              "      <th>region</th>\n",
              "      <th>charges</th>\n",
              "    </tr>\n",
              "  </thead>\n",
              "  <tbody>\n",
              "    <tr>\n",
              "      <th>0</th>\n",
              "      <td>18</td>\n",
              "      <td>male</td>\n",
              "      <td>33.77</td>\n",
              "      <td>1</td>\n",
              "      <td>no</td>\n",
              "      <td>southeast</td>\n",
              "      <td>1725.5523</td>\n",
              "    </tr>\n",
              "    <tr>\n",
              "      <th>1</th>\n",
              "      <td>28</td>\n",
              "      <td>male</td>\n",
              "      <td>33.00</td>\n",
              "      <td>3</td>\n",
              "      <td>no</td>\n",
              "      <td>southeast</td>\n",
              "      <td>4449.4620</td>\n",
              "    </tr>\n",
              "    <tr>\n",
              "      <th>2</th>\n",
              "      <td>25</td>\n",
              "      <td>male</td>\n",
              "      <td>26.22</td>\n",
              "      <td>0</td>\n",
              "      <td>no</td>\n",
              "      <td>northeast</td>\n",
              "      <td>2721.3208</td>\n",
              "    </tr>\n",
              "    <tr>\n",
              "      <th>3</th>\n",
              "      <td>23</td>\n",
              "      <td>male</td>\n",
              "      <td>34.40</td>\n",
              "      <td>0</td>\n",
              "      <td>no</td>\n",
              "      <td>southwest</td>\n",
              "      <td>1826.8430</td>\n",
              "    </tr>\n",
              "    <tr>\n",
              "      <th>4</th>\n",
              "      <td>19</td>\n",
              "      <td>male</td>\n",
              "      <td>24.60</td>\n",
              "      <td>1</td>\n",
              "      <td>no</td>\n",
              "      <td>southwest</td>\n",
              "      <td>1837.2370</td>\n",
              "    </tr>\n",
              "  </tbody>\n",
              "</table>\n",
              "</div>\n",
              "      <button class=\"colab-df-convert\" onclick=\"convertToInteractive('df-6ade13d6-5069-4174-9d9f-ef65dd7e6f74')\"\n",
              "              title=\"Convert this dataframe to an interactive table.\"\n",
              "              style=\"display:none;\">\n",
              "        \n",
              "  <svg xmlns=\"http://www.w3.org/2000/svg\" height=\"24px\"viewBox=\"0 0 24 24\"\n",
              "       width=\"24px\">\n",
              "    <path d=\"M0 0h24v24H0V0z\" fill=\"none\"/>\n",
              "    <path d=\"M18.56 5.44l.94 2.06.94-2.06 2.06-.94-2.06-.94-.94-2.06-.94 2.06-2.06.94zm-11 1L8.5 8.5l.94-2.06 2.06-.94-2.06-.94L8.5 2.5l-.94 2.06-2.06.94zm10 10l.94 2.06.94-2.06 2.06-.94-2.06-.94-.94-2.06-.94 2.06-2.06.94z\"/><path d=\"M17.41 7.96l-1.37-1.37c-.4-.4-.92-.59-1.43-.59-.52 0-1.04.2-1.43.59L10.3 9.45l-7.72 7.72c-.78.78-.78 2.05 0 2.83L4 21.41c.39.39.9.59 1.41.59.51 0 1.02-.2 1.41-.59l7.78-7.78 2.81-2.81c.8-.78.8-2.07 0-2.86zM5.41 20L4 18.59l7.72-7.72 1.47 1.35L5.41 20z\"/>\n",
              "  </svg>\n",
              "      </button>\n",
              "      \n",
              "  <style>\n",
              "    .colab-df-container {\n",
              "      display:flex;\n",
              "      flex-wrap:wrap;\n",
              "      gap: 12px;\n",
              "    }\n",
              "\n",
              "    .colab-df-convert {\n",
              "      background-color: #E8F0FE;\n",
              "      border: none;\n",
              "      border-radius: 50%;\n",
              "      cursor: pointer;\n",
              "      display: none;\n",
              "      fill: #1967D2;\n",
              "      height: 32px;\n",
              "      padding: 0 0 0 0;\n",
              "      width: 32px;\n",
              "    }\n",
              "\n",
              "    .colab-df-convert:hover {\n",
              "      background-color: #E2EBFA;\n",
              "      box-shadow: 0px 1px 2px rgba(60, 64, 67, 0.3), 0px 1px 3px 1px rgba(60, 64, 67, 0.15);\n",
              "      fill: #174EA6;\n",
              "    }\n",
              "\n",
              "    [theme=dark] .colab-df-convert {\n",
              "      background-color: #3B4455;\n",
              "      fill: #D2E3FC;\n",
              "    }\n",
              "\n",
              "    [theme=dark] .colab-df-convert:hover {\n",
              "      background-color: #434B5C;\n",
              "      box-shadow: 0px 1px 3px 1px rgba(0, 0, 0, 0.15);\n",
              "      filter: drop-shadow(0px 1px 2px rgba(0, 0, 0, 0.3));\n",
              "      fill: #FFFFFF;\n",
              "    }\n",
              "  </style>\n",
              "\n",
              "      <script>\n",
              "        const buttonEl =\n",
              "          document.querySelector('#df-6ade13d6-5069-4174-9d9f-ef65dd7e6f74 button.colab-df-convert');\n",
              "        buttonEl.style.display =\n",
              "          google.colab.kernel.accessAllowed ? 'block' : 'none';\n",
              "\n",
              "        async function convertToInteractive(key) {\n",
              "          const element = document.querySelector('#df-6ade13d6-5069-4174-9d9f-ef65dd7e6f74');\n",
              "          const dataTable =\n",
              "            await google.colab.kernel.invokeFunction('convertToInteractive',\n",
              "                                                     [key], {});\n",
              "          if (!dataTable) return;\n",
              "\n",
              "          const docLinkHtml = 'Like what you see? Visit the ' +\n",
              "            '<a target=\"_blank\" href=https://colab.research.google.com/notebooks/data_table.ipynb>data table notebook</a>'\n",
              "            + ' to learn more about interactive tables.';\n",
              "          element.innerHTML = '';\n",
              "          dataTable['output_type'] = 'display_data';\n",
              "          await google.colab.output.renderOutput(dataTable, element);\n",
              "          const docLink = document.createElement('div');\n",
              "          docLink.innerHTML = docLinkHtml;\n",
              "          element.appendChild(docLink);\n",
              "        }\n",
              "      </script>\n",
              "    </div>\n",
              "  </div>\n",
              "  "
            ]
          },
          "metadata": {},
          "execution_count": 66
        }
      ]
    },
    {
      "cell_type": "code",
      "source": [
        "def dataset():\n",
        "    return df.drop([\"charges\"],axis=\"columns\"),df.charges.values\n",
        "\n",
        "X,y=dataset()\n"
      ],
      "metadata": {
        "id": "veeUE41MRogD"
      },
      "execution_count": 67,
      "outputs": []
    },
    {
      "cell_type": "markdown",
      "source": [
        "# **Split data**"
      ],
      "metadata": {
        "id": "rZ5mQsNYS3B1"
      }
    },
    {
      "cell_type": "code",
      "source": [
        "from sklearn.model_selection import train_test_split\n",
        "\n",
        "X_train,X_test,Y_train,Y_test=train_test_split(X,\n",
        "                                               y,\n",
        "                                               test_size=0.33,\n",
        "                                               random_state=42)"
      ],
      "metadata": {
        "id": "Nh7nahYkRslr"
      },
      "execution_count": 68,
      "outputs": []
    },
    {
      "cell_type": "markdown",
      "source": [
        "### **Data preprocessing**\n",
        "\n",
        "* **MinMaxScaler**  It consists of adjusting the data on a scale from 0 to 1. With the aim that the variables are comparable to each other. \n",
        "\n",
        "* **OneHotEncoding** It is used for qualitative variables. For example the geographical location or the color of a car.\n",
        "It consists of creating several fictitious variables according to the number of categorical variables. Where a 1 is indicated if said observation belongs to the class. It's a similar thing with truth tables if you're familiar with programming.\n",
        "\n",
        "\n",
        "* **PolynomialFeatures** It consists of raising to a certain power. To break the linearity of the data. Since sometimes a linear regression is not enough to solve the problem."
      ],
      "metadata": {
        "id": "t4jI7eUcTBWs"
      }
    },
    {
      "cell_type": "code",
      "source": [
        "from sklearn.preprocessing import MinMaxScaler,OneHotEncoder,PolynomialFeatures "
      ],
      "metadata": {
        "id": "0V5NIR2cS_S9"
      },
      "execution_count": 69,
      "outputs": []
    },
    {
      "cell_type": "code",
      "source": [
        "poly=PolynomialFeatures(degree=2) # degree polynomial\n",
        "rescale=MinMaxScaler()\n",
        "def poly_transform(x):\n",
        "    \n",
        "    x=pd.get_dummies(x,drop_first=True) # dummy variables\n",
        "    x[[\"age\",\"bmi\",\"children\"]]=rescale.fit_transform(x[[\"age\",\"bmi\",\"children\"]]) # reescale\n",
        "    \n",
        "    return poly.fit_transform(x) # polynomial transform"
      ],
      "metadata": {
        "id": "v6OJ6yfURww6"
      },
      "execution_count": 70,
      "outputs": []
    },
    {
      "cell_type": "code",
      "source": [
        "X_train_poly=poly_transform(X_train)\n",
        "X_test_poly=poly_transform(X_test)"
      ],
      "metadata": {
        "id": "fkZwwbtbR0Yy"
      },
      "execution_count": 71,
      "outputs": []
    },
    {
      "cell_type": "markdown",
      "source": [
        "## **Creation of the polynomial model**"
      ],
      "metadata": {
        "id": "sRTKPyOTVLv9"
      }
    },
    {
      "cell_type": "code",
      "source": [
        "from sklearn.linear_model import LinearRegression"
      ],
      "metadata": {
        "id": "nNZOjqQSVLHt"
      },
      "execution_count": 72,
      "outputs": []
    },
    {
      "cell_type": "code",
      "source": [
        "poly.fit(X_train_poly,Y_train) # we give the training data"
      ],
      "metadata": {
        "colab": {
          "base_uri": "https://localhost:8080/"
        },
        "id": "psIWSnO_Vb6s",
        "outputId": "61325aed-cbd3-4d5c-80ec-721d01054049"
      },
      "execution_count": 73,
      "outputs": [
        {
          "output_type": "execute_result",
          "data": {
            "text/plain": [
              "PolynomialFeatures()"
            ]
          },
          "metadata": {},
          "execution_count": 73
        }
      ]
    },
    {
      "cell_type": "code",
      "source": [
        "lm=LinearRegression()"
      ],
      "metadata": {
        "id": "qS3NdwQmR3Vq"
      },
      "execution_count": 74,
      "outputs": []
    },
    {
      "cell_type": "code",
      "source": [
        "lm.fit(X_train_poly,Y_train) #  we give the training data"
      ],
      "metadata": {
        "colab": {
          "base_uri": "https://localhost:8080/"
        },
        "id": "B2PQdP8ER63x",
        "outputId": "49232249-a8ce-49b3-ab23-2918d9e39180"
      },
      "execution_count": 75,
      "outputs": [
        {
          "output_type": "execute_result",
          "data": {
            "text/plain": [
              "LinearRegression()"
            ]
          },
          "metadata": {},
          "execution_count": 75
        }
      ]
    },
    {
      "cell_type": "code",
      "source": [
        "lm.score(X_train_poly,Y_train) # evaluate with training data"
      ],
      "metadata": {
        "colab": {
          "base_uri": "https://localhost:8080/"
        },
        "id": "M_3ekbnHR-f0",
        "outputId": "5e93b0a0-849a-4ae2-8cba-eff8ef2326a8"
      },
      "execution_count": 76,
      "outputs": [
        {
          "output_type": "execute_result",
          "data": {
            "text/plain": [
              "0.9638277366641799"
            ]
          },
          "metadata": {},
          "execution_count": 76
        }
      ]
    },
    {
      "cell_type": "code",
      "source": [
        "lm.score(X_test_poly,Y_test) # evaluate with testing data"
      ],
      "metadata": {
        "colab": {
          "base_uri": "https://localhost:8080/"
        },
        "id": "J92yjaXvV0ei",
        "outputId": "27e46160-1e55-47a9-e687-fcfa7b8d3637"
      },
      "execution_count": 77,
      "outputs": [
        {
          "output_type": "execute_result",
          "data": {
            "text/plain": [
              "0.9535453012796803"
            ]
          },
          "metadata": {},
          "execution_count": 77
        }
      ]
    },
    {
      "cell_type": "markdown",
      "source": [
        "## **Data transform**"
      ],
      "metadata": {
        "id": "yVsDcHc1WhBQ"
      }
    },
    {
      "cell_type": "code",
      "source": [
        "from sklearn.compose import make_column_transformer\n",
        "from sklearn.pipeline import Pipeline"
      ],
      "metadata": {
        "id": "exgYTGS4V9BJ"
      },
      "execution_count": 78,
      "outputs": []
    },
    {
      "cell_type": "code",
      "source": [
        "tf_colummns=make_column_transformer((MinMaxScaler(),[\"age\",\"bmi\",\"children\"]), # Reescale\n",
        "                                   (OneHotEncoder(drop=\"if_binary\"),[\"region\",\"sex\",\"smoker\"])) # OneHotEncoding"
      ],
      "metadata": {
        "id": "Z9FTJ7GGWpPI"
      },
      "execution_count": 79,
      "outputs": []
    },
    {
      "cell_type": "markdown",
      "source": [
        "## *Mean square error*\n",
        "Measures the average error between the original and predicted values."
      ],
      "metadata": {
        "id": "O5qQ7mEcW_x9"
      }
    },
    {
      "cell_type": "code",
      "source": [
        "from sklearn.metrics import mean_squared_error"
      ],
      "metadata": {
        "id": "2MyI37mDXGss"
      },
      "execution_count": 80,
      "outputs": []
    },
    {
      "cell_type": "markdown",
      "source": [
        "# **Gradient Boosting**\n",
        "\n",
        "It is an algorithm that uses such complex algorithms. That is perfected according to the learning rate assigned by the user. In such a way that each tree will become better than the previous one. And the predicted value is going to average the predictions of the weakest algorithms."
      ],
      "metadata": {
        "id": "96SbaBbiXi5L"
      }
    },
    {
      "cell_type": "code",
      "source": [
        "from sklearn.ensemble import GradientBoostingRegressor"
      ],
      "metadata": {
        "id": "pcic8pflXqLd"
      },
      "execution_count": 81,
      "outputs": []
    },
    {
      "cell_type": "code",
      "source": [
        "def evaluate(max_depth,lr):\n",
        "    \n",
        "    estimator_list=[]\n",
        "    mse_train_list=[]\n",
        "    mse_test_list=[]\n",
        "\n",
        "    estimators=np.arange(100,1000,step=2)\n",
        "    for estimator in estimators:\n",
        "      \n",
        "        model=GradientBoostingRegressor(max_depth=max_depth,n_estimators=estimator,learning_rate=lr,random_state=42)\n",
        "        model=Pipeline([(\"transform\",tf_colummns),(\"model\",model)])\n",
        "        model.fit(X_train,Y_train)\n",
        "        pred_train=model.predict(X_train)\n",
        "        pred_test=model.predict(X_test)\n",
        "        \n",
        "        mse_train=mean_squared_error(Y_train,pred_train)\n",
        "        mse_test=mean_squared_error(Y_test,pred_test)\n",
        "        \n",
        "        estimator_list.append(estimator)\n",
        "        mse_test_list.append(mse_test)\n",
        "        mse_train_list.append(mse_train)\n",
        "\n",
        "        \n",
        "    return estimator_list,mse_test_list,mse_train_list"
      ],
      "metadata": {
        "id": "ewz8sjXKX66h"
      },
      "execution_count": 82,
      "outputs": []
    },
    {
      "cell_type": "code",
      "source": [
        "def dataframe_evaluate_trees(max_depth,lr):\n",
        "  \n",
        "    n_trees,mse_test,mse_train=evaluate(max_depth=max_depth,lr=lr)\n",
        "\n",
        "    df_evaluate=pd.DataFrame({\"n_trees\": n_trees,\"mse_test\":mse_test,\"mse_train\":mse_train}) \n",
        "  \n",
        "    return df_evaluate"
      ],
      "metadata": {
        "id": "Mt2f4-Z-YZsw"
      },
      "execution_count": 83,
      "outputs": []
    },
    {
      "cell_type": "code",
      "source": [
        "first_evaluete=dataframe_evaluate_trees(max_depth=2,lr=0.01)"
      ],
      "metadata": {
        "id": "MIldZkYNYlNJ"
      },
      "execution_count": 84,
      "outputs": []
    },
    {
      "cell_type": "code",
      "source": [
        "second_evalue=dataframe_evaluate_trees(max_depth=3,lr=0.01)"
      ],
      "metadata": {
        "id": "Xd68dNgvZLTU"
      },
      "execution_count": 85,
      "outputs": []
    },
    {
      "cell_type": "markdown",
      "source": [
        "### *Ideal number of estimators*"
      ],
      "metadata": {
        "id": "Pzbl7sL5beWT"
      }
    },
    {
      "cell_type": "code",
      "source": [
        "sns.set_style(style=\"whitegrid\")\n",
        "fig,(ax,ax_1)=plt.subplots(1,2,figsize=(20,8))\n",
        "\n",
        "ax.set_title(\"Max depth 2\")\n",
        "ax.plot(first_evaluete[\"n_trees\"],first_evaluete[\"mse_train\"],label=\"Train MSE\")\n",
        "ax.plot(first_evaluete[\"n_trees\"],first_evaluete[\"mse_test\"],label=\"Test MSE\")\n",
        "ax.set_xlabel(\"n_estimators\")\n",
        "ax.set_ylabel(\"mse\")\n",
        "    \n",
        "ax_1.set_title(\"Max depth 3\")\n",
        "ax_1.plot(second_evalue[\"n_trees\"],second_evalue[\"mse_train\"],label=\"Train MSE\")\n",
        "ax_1.plot(second_evalue[\"n_trees\"],second_evalue[\"mse_test\"],label=\"Test MSE\")\n",
        "ax_1.set_xlabel(\"n_estimators\")\n",
        "ax_1.set_ylabel(\"mse\")\n",
        "    \n",
        "\n",
        "    \n",
        "ax.legend()\n",
        "ax_1.legend()\n",
        "\n",
        "\n",
        "plt.show()"
      ],
      "metadata": {
        "colab": {
          "base_uri": "https://localhost:8080/",
          "height": 432
        },
        "id": "9vf1MtBqZRbz",
        "outputId": "4f0d0d25-69db-443d-a90c-ab05a1997d16"
      },
      "execution_count": 86,
      "outputs": [
        {
          "output_type": "display_data",
          "data": {
            "text/plain": [
              "<Figure size 1440x576 with 2 Axes>"
            ],
            "image/png": "[encoded data removed]"
          },
          "metadata": {}
        }
      ]
    },
    {
      "cell_type": "markdown",
      "source": [
        "With a maximum depth of 2 there is less overfitting. The ideal number of estimators for this model ranges from **600** to **650**."
      ],
      "metadata": {
        "id": "vDXJeiZOgePN"
      }
    },
    {
      "cell_type": "code",
      "source": [
        "first_evaluete.query(\"n_trees>=610 and n_trees<=650\")"
      ],
      "metadata": {
        "colab": {
          "base_uri": "https://localhost:8080/",
          "height": 708
        },
        "id": "5FZ9Rjtlb2J7",
        "outputId": "90e88d5d-ef59-4e1f-e049-b9ecc38b68e0"
      },
      "execution_count": 88,
      "outputs": [
        {
          "output_type": "execute_result",
          "data": {
            "text/plain": [
              "     n_trees      mse_test     mse_train\n",
              "255      610  2.565604e+06  2.022880e+06\n",
              "256      612  2.563759e+06  2.019562e+06\n",
              "257      614  2.560127e+06  2.012498e+06\n",
              "258      616  2.559540e+06  2.009736e+06\n",
              "259      618  2.556909e+06  2.006515e+06\n",
              "260      620  2.551986e+06  2.001062e+06\n",
              "261      622  2.550468e+06  1.998355e+06\n",
              "262      624  2.545394e+06  1.991937e+06\n",
              "263      626  2.541826e+06  1.989505e+06\n",
              "264      628  2.539224e+06  1.983893e+06\n",
              "265      630  2.534782e+06  1.978365e+06\n",
              "266      632  2.531979e+06  1.976128e+06\n",
              "267      634  2.529469e+06  1.973175e+06\n",
              "268      636  2.526606e+06  1.968714e+06\n",
              "269      638  2.523126e+06  1.962862e+06\n",
              "270      640  2.520429e+06  1.960719e+06\n",
              "271      642  2.517682e+06  1.957813e+06\n",
              "272      644  2.514759e+06  1.951126e+06\n",
              "273      646  2.513286e+06  1.948380e+06\n",
              "274      648  2.509258e+06  1.943521e+06\n",
              "275      650  2.506312e+06  1.939267e+06"
            ],
            "text/html": [
              "\n",
              "  <div id=\"df-c5d211dc-9590-4361-b9bf-aa3bd6697d07\">\n",
              "    <div class=\"colab-df-container\">\n",
              "      <div>\n",
              "<style scoped>\n",
              "    .dataframe tbody tr th:only-of-type {\n",
              "        vertical-align: middle;\n",
              "    }\n",
              "\n",
              "    .dataframe tbody tr th {\n",
              "        vertical-align: top;\n",
              "    }\n",
              "\n",
              "    .dataframe thead th {\n",
              "        text-align: right;\n",
              "    }\n",
              "</style>\n",
              "<table border=\"1\" class=\"dataframe\">\n",
              "  <thead>\n",
              "    <tr style=\"text-align: right;\">\n",
              "      <th></th>\n",
              "      <th>n_trees</th>\n",
              "      <th>mse_test</th>\n",
              "      <th>mse_train</th>\n",
              "    </tr>\n",
              "  </thead>\n",
              "  <tbody>\n",
              "    <tr>\n",
              "      <th>255</th>\n",
              "      <td>610</td>\n",
              "      <td>2.565604e+06</td>\n",
              "      <td>2.022880e+06</td>\n",
              "    </tr>\n",
              "    <tr>\n",
              "      <th>256</th>\n",
              "      <td>612</td>\n",
              "      <td>2.563759e+06</td>\n",
              "      <td>2.019562e+06</td>\n",
              "    </tr>\n",
              "    <tr>\n",
              "      <th>257</th>\n",
              "      <td>614</td>\n",
              "      <td>2.560127e+06</td>\n",
              "      <td>2.012498e+06</td>\n",
              "    </tr>\n",
              "    <tr>\n",
              "      <th>258</th>\n",
              "      <td>616</td>\n",
              "      <td>2.559540e+06</td>\n",
              "      <td>2.009736e+06</td>\n",
              "    </tr>\n",
              "    <tr>\n",
              "      <th>259</th>\n",
              "      <td>618</td>\n",
              "      <td>2.556909e+06</td>\n",
              "      <td>2.006515e+06</td>\n",
              "    </tr>\n",
              "    <tr>\n",
              "      <th>260</th>\n",
              "      <td>620</td>\n",
              "      <td>2.551986e+06</td>\n",
              "      <td>2.001062e+06</td>\n",
              "    </tr>\n",
              "    <tr>\n",
              "      <th>261</th>\n",
              "      <td>622</td>\n",
              "      <td>2.550468e+06</td>\n",
              "      <td>1.998355e+06</td>\n",
              "    </tr>\n",
              "    <tr>\n",
              "      <th>262</th>\n",
              "      <td>624</td>\n",
              "      <td>2.545394e+06</td>\n",
              "      <td>1.991937e+06</td>\n",
              "    </tr>\n",
              "    <tr>\n",
              "      <th>263</th>\n",
              "      <td>626</td>\n",
              "      <td>2.541826e+06</td>\n",
              "      <td>1.989505e+06</td>\n",
              "    </tr>\n",
              "    <tr>\n",
              "      <th>264</th>\n",
              "      <td>628</td>\n",
              "      <td>2.539224e+06</td>\n",
              "      <td>1.983893e+06</td>\n",
              "    </tr>\n",
              "    <tr>\n",
              "      <th>265</th>\n",
              "      <td>630</td>\n",
              "      <td>2.534782e+06</td>\n",
              "      <td>1.978365e+06</td>\n",
              "    </tr>\n",
              "    <tr>\n",
              "      <th>266</th>\n",
              "      <td>632</td>\n",
              "      <td>2.531979e+06</td>\n",
              "      <td>1.976128e+06</td>\n",
              "    </tr>\n",
              "    <tr>\n",
              "      <th>267</th>\n",
              "      <td>634</td>\n",
              "      <td>2.529469e+06</td>\n",
              "      <td>1.973175e+06</td>\n",
              "    </tr>\n",
              "    <tr>\n",
              "      <th>268</th>\n",
              "      <td>636</td>\n",
              "      <td>2.526606e+06</td>\n",
              "      <td>1.968714e+06</td>\n",
              "    </tr>\n",
              "    <tr>\n",
              "      <th>269</th>\n",
              "      <td>638</td>\n",
              "      <td>2.523126e+06</td>\n",
              "      <td>1.962862e+06</td>\n",
              "    </tr>\n",
              "    <tr>\n",
              "      <th>270</th>\n",
              "      <td>640</td>\n",
              "      <td>2.520429e+06</td>\n",
              "      <td>1.960719e+06</td>\n",
              "    </tr>\n",
              "    <tr>\n",
              "      <th>271</th>\n",
              "      <td>642</td>\n",
              "      <td>2.517682e+06</td>\n",
              "      <td>1.957813e+06</td>\n",
              "    </tr>\n",
              "    <tr>\n",
              "      <th>272</th>\n",
              "      <td>644</td>\n",
              "      <td>2.514759e+06</td>\n",
              "      <td>1.951126e+06</td>\n",
              "    </tr>\n",
              "    <tr>\n",
              "      <th>273</th>\n",
              "      <td>646</td>\n",
              "      <td>2.513286e+06</td>\n",
              "      <td>1.948380e+06</td>\n",
              "    </tr>\n",
              "    <tr>\n",
              "      <th>274</th>\n",
              "      <td>648</td>\n",
              "      <td>2.509258e+06</td>\n",
              "      <td>1.943521e+06</td>\n",
              "    </tr>\n",
              "    <tr>\n",
              "      <th>275</th>\n",
              "      <td>650</td>\n",
              "      <td>2.506312e+06</td>\n",
              "      <td>1.939267e+06</td>\n",
              "    </tr>\n",
              "  </tbody>\n",
              "</table>\n",
              "</div>\n",
              "      <button class=\"colab-df-convert\" onclick=\"convertToInteractive('df-c5d211dc-9590-4361-b9bf-aa3bd6697d07')\"\n",
              "              title=\"Convert this dataframe to an interactive table.\"\n",
              "              style=\"display:none;\">\n",
              "        \n",
              "  <svg xmlns=\"http://www.w3.org/2000/svg\" height=\"24px\"viewBox=\"0 0 24 24\"\n",
              "       width=\"24px\">\n",
              "    <path d=\"M0 0h24v24H0V0z\" fill=\"none\"/>\n",
              "    <path d=\"M18.56 5.44l.94 2.06.94-2.06 2.06-.94-2.06-.94-.94-2.06-.94 2.06-2.06.94zm-11 1L8.5 8.5l.94-2.06 2.06-.94-2.06-.94L8.5 2.5l-.94 2.06-2.06.94zm10 10l.94 2.06.94-2.06 2.06-.94-2.06-.94-.94-2.06-.94 2.06-2.06.94z\"/><path d=\"M17.41 7.96l-1.37-1.37c-.4-.4-.92-.59-1.43-.59-.52 0-1.04.2-1.43.59L10.3 9.45l-7.72 7.72c-.78.78-.78 2.05 0 2.83L4 21.41c.39.39.9.59 1.41.59.51 0 1.02-.2 1.41-.59l7.78-7.78 2.81-2.81c.8-.78.8-2.07 0-2.86zM5.41 20L4 18.59l7.72-7.72 1.47 1.35L5.41 20z\"/>\n",
              "  </svg>\n",
              "      </button>\n",
              "      \n",
              "  <style>\n",
              "    .colab-df-container {\n",
              "      display:flex;\n",
              "      flex-wrap:wrap;\n",
              "      gap: 12px;\n",
              "    }\n",
              "\n",
              "    .colab-df-convert {\n",
              "      background-color: #E8F0FE;\n",
              "      border: none;\n",
              "      border-radius: 50%;\n",
              "      cursor: pointer;\n",
              "      display: none;\n",
              "      fill: #1967D2;\n",
              "      height: 32px;\n",
              "      padding: 0 0 0 0;\n",
              "      width: 32px;\n",
              "    }\n",
              "\n",
              "    .colab-df-convert:hover {\n",
              "      background-color: #E2EBFA;\n",
              "      box-shadow: 0px 1px 2px rgba(60, 64, 67, 0.3), 0px 1px 3px 1px rgba(60, 64, 67, 0.15);\n",
              "      fill: #174EA6;\n",
              "    }\n",
              "\n",
              "    [theme=dark] .colab-df-convert {\n",
              "      background-color: #3B4455;\n",
              "      fill: #D2E3FC;\n",
              "    }\n",
              "\n",
              "    [theme=dark] .colab-df-convert:hover {\n",
              "      background-color: #434B5C;\n",
              "      box-shadow: 0px 1px 3px 1px rgba(0, 0, 0, 0.15);\n",
              "      filter: drop-shadow(0px 1px 2px rgba(0, 0, 0, 0.3));\n",
              "      fill: #FFFFFF;\n",
              "    }\n",
              "  </style>\n",
              "\n",
              "      <script>\n",
              "        const buttonEl =\n",
              "          document.querySelector('#df-c5d211dc-9590-4361-b9bf-aa3bd6697d07 button.colab-df-convert');\n",
              "        buttonEl.style.display =\n",
              "          google.colab.kernel.accessAllowed ? 'block' : 'none';\n",
              "\n",
              "        async function convertToInteractive(key) {\n",
              "          const element = document.querySelector('#df-c5d211dc-9590-4361-b9bf-aa3bd6697d07');\n",
              "          const dataTable =\n",
              "            await google.colab.kernel.invokeFunction('convertToInteractive',\n",
              "                                                     [key], {});\n",
              "          if (!dataTable) return;\n",
              "\n",
              "          const docLinkHtml = 'Like what you see? Visit the ' +\n",
              "            '<a target=\"_blank\" href=https://colab.research.google.com/notebooks/data_table.ipynb>data table notebook</a>'\n",
              "            + ' to learn more about interactive tables.';\n",
              "          element.innerHTML = '';\n",
              "          dataTable['output_type'] = 'display_data';\n",
              "          await google.colab.output.renderOutput(dataTable, element);\n",
              "          const docLink = document.createElement('div');\n",
              "          docLink.innerHTML = docLinkHtml;\n",
              "          element.appendChild(docLink);\n",
              "        }\n",
              "      </script>\n",
              "    </div>\n",
              "  </div>\n",
              "  "
            ]
          },
          "metadata": {},
          "execution_count": 88
        }
      ]
    },
    {
      "cell_type": "markdown",
      "source": [
        "\n",
        "Starting from the estimator number 614 there is no longer an improvement for the test data."
      ],
      "metadata": {
        "id": "zWN6f6QyheoS"
      }
    },
    {
      "cell_type": "code",
      "source": [
        "gbr=GradientBoostingRegressor(max_depth=2,\n",
        "                          learning_rate=0.01,\n",
        "                          n_estimators=620,\n",
        "                          random_state=42)"
      ],
      "metadata": {
        "id": "_DVKG_29bif8"
      },
      "execution_count": 89,
      "outputs": []
    },
    {
      "cell_type": "code",
      "source": [
        "gbr_pipeline=Pipeline([('preprocess',tf_colummns),\n",
        "                       ('adaboost',gbr)])"
      ],
      "metadata": {
        "id": "VT7EMw5Mcfmn"
      },
      "execution_count": 90,
      "outputs": []
    },
    {
      "cell_type": "code",
      "source": [
        "gbr_pipeline.fit(X_train,Y_train)"
      ],
      "metadata": {
        "colab": {
          "base_uri": "https://localhost:8080/"
        },
        "id": "7yKZyROpcho-",
        "outputId": "dd9c2447-804d-45bd-fc42-7642d095477e"
      },
      "execution_count": 91,
      "outputs": [
        {
          "output_type": "execute_result",
          "data": {
            "text/plain": [
              "Pipeline(steps=[('preprocess',\n",
              "                 ColumnTransformer(transformers=[('minmaxscaler',\n",
              "                                                  MinMaxScaler(),\n",
              "                                                  ['age', 'bmi', 'children']),\n",
              "                                                 ('onehotencoder',\n",
              "                                                  OneHotEncoder(drop='if_binary'),\n",
              "                                                  ['region', 'sex',\n",
              "                                                   'smoker'])])),\n",
              "                ('adaboost',\n",
              "                 GradientBoostingRegressor(learning_rate=0.01, max_depth=2,\n",
              "                                           n_estimators=620,\n",
              "                                           random_state=42))])"
            ]
          },
          "metadata": {},
          "execution_count": 91
        }
      ]
    },
    {
      "cell_type": "code",
      "source": [
        "gbr_pipeline.score(X_train,Y_train) # evaluate with training data"
      ],
      "metadata": {
        "colab": {
          "base_uri": "https://localhost:8080/"
        },
        "id": "-5TwJpF4dCn9",
        "outputId": "cc5e0218-cd2c-43ff-dcf5-ded8e4674226"
      },
      "execution_count": 92,
      "outputs": [
        {
          "output_type": "execute_result",
          "data": {
            "text/plain": [
              "0.9851745897833021"
            ]
          },
          "metadata": {},
          "execution_count": 92
        }
      ]
    },
    {
      "cell_type": "code",
      "source": [
        "gbr_pipeline.score(X_test,Y_test) # evaluate with test data"
      ],
      "metadata": {
        "colab": {
          "base_uri": "https://localhost:8080/"
        },
        "id": "uxgmIN9Zcldm",
        "outputId": "5f362703-48d7-4789-bf78-c44fac354711"
      },
      "execution_count": 93,
      "outputs": [
        {
          "output_type": "execute_result",
          "data": {
            "text/plain": [
              "0.981613309151634"
            ]
          },
          "metadata": {},
          "execution_count": 93
        }
      ]
    },
    {
      "cell_type": "markdown",
      "source": [
        "# *XGBOOST*\n",
        "\n",
        "It is similar to adaboost. With the difference that xgboost can be used with GPU. Which training will be faster."
      ],
      "metadata": {
        "id": "GgyRWgPLdWGi"
      }
    },
    {
      "cell_type": "code",
      "source": [
        "from xgboost import XGBRegressor"
      ],
      "metadata": {
        "id": "uNTjA5wabxNC"
      },
      "execution_count": 94,
      "outputs": []
    },
    {
      "cell_type": "markdown",
      "source": [
        "## *Selection number of estimators XGBOOST*"
      ],
      "metadata": {
        "id": "hH-PfzgQeJIA"
      }
    },
    {
      "cell_type": "code",
      "source": [
        "def evaluate(max_depth,lr):\n",
        "    \n",
        "    estimator_list=[]\n",
        "    mse_train_list=[]\n",
        "    mse_test_list=[]\n",
        "    \n",
        "    estimators=np.arange(100,1000,step=2)\n",
        "    for estimator in estimators:\n",
        "      \n",
        "        model=XGBRegressor(max_depth=max_depth,n_estimators=estimator,learning_rate=lr,random_state=42,verbosity=0)\n",
        "        model=Pipeline([(\"transform\",tf_colummns),(\"model\",model)])\n",
        "        model.fit(X_train,Y_train)\n",
        "        pred_train=model.predict(X_train)\n",
        "        pred_test=model.predict(X_test)\n",
        "        \n",
        "        mse_train=mean_squared_error(Y_train,pred_train)\n",
        "        mse_test=mean_squared_error(Y_test,pred_test)\n",
        "        \n",
        "        estimator_list.append(estimator)\n",
        "        mse_test_list.append(mse_test)\n",
        "        mse_train_list.append(mse_train)\n",
        "\n",
        "        \n",
        "    return estimator_list,mse_test_list,mse_train_list"
      ],
      "metadata": {
        "id": "jsTqIqgldxlh"
      },
      "execution_count": 95,
      "outputs": []
    },
    {
      "cell_type": "code",
      "source": [
        "first_evaluete=dataframe_evaluate_trees(max_depth=2,lr=0.01)"
      ],
      "metadata": {
        "id": "57XmsP4KefZo"
      },
      "execution_count": 96,
      "outputs": []
    },
    {
      "cell_type": "code",
      "source": [
        "second_evaluete=dataframe_evaluate_trees(max_depth=3,lr=0.01)"
      ],
      "metadata": {
        "id": "u4iDJV6XfORr"
      },
      "execution_count": 97,
      "outputs": []
    },
    {
      "cell_type": "code",
      "source": [
        "sns.set_style(style=\"whitegrid\")\n",
        "fig,(ax,ax_1)=plt.subplots(1,2,figsize=(20,8))\n",
        "\n",
        "ax.set_title(\"Max depth 2\")\n",
        "ax.plot(first_evaluete[\"n_trees\"],first_evaluete[\"mse_train\"],label=\"Train MSE\")\n",
        "ax.plot(first_evaluete[\"n_trees\"],first_evaluete[\"mse_test\"],label=\"Test MSE\")\n",
        "ax.set_xlabel(\"n_estimators\")\n",
        "ax.set_ylabel(\"mse\")\n",
        "    \n",
        "ax_1.set_title(\"Max depth 3\")\n",
        "ax_1.plot(second_evalue[\"n_trees\"],second_evalue[\"mse_train\"],label=\"Train MSE\")\n",
        "ax_1.plot(second_evalue[\"n_trees\"],second_evalue[\"mse_test\"],label=\"Test MSE\")\n",
        "ax_1.set_xlabel(\"n_estimators\")\n",
        "ax_1.set_ylabel(\"mse\")\n",
        "    \n",
        "\n",
        "    \n",
        "ax.legend()\n",
        "ax_1.legend()\n",
        "\n",
        "\n",
        "plt.show()"
      ],
      "metadata": {
        "colab": {
          "base_uri": "https://localhost:8080/",
          "height": 436
        },
        "id": "VvUMzV4NfTmD",
        "outputId": "e32503d7-2912-41cc-b3f0-2edab494a9e3"
      },
      "execution_count": 98,
      "outputs": [
        {
          "output_type": "display_data",
          "data": {
            "text/plain": [
              "<Figure size 1440x576 with 2 Axes>"
            ],
            "image/png": "[encoded data removed]"
          },
          "metadata": {}
        }
      ]
    },
    {
      "cell_type": "markdown",
      "source": [
        "\n",
        "It happens in a similar way. With the difference that I can use more estimator without overfitting the model. The ideal range is between **600** to **650** estimators. Since from this amount, the error does not decrease drastically for the test data."
      ],
      "metadata": {
        "id": "VFz7kcKth2qR"
      }
    },
    {
      "cell_type": "code",
      "source": [
        "first_evaluete.query(\"n_trees>=600 and n_trees<=650\")"
      ],
      "metadata": {
        "colab": {
          "base_uri": "https://localhost:8080/",
          "height": 865
        },
        "id": "IenIjWWyh9gJ",
        "outputId": "fe6751f5-8288-4a3e-9e9a-766ff19d62a3"
      },
      "execution_count": 106,
      "outputs": [
        {
          "output_type": "execute_result",
          "data": {
            "text/plain": [
              "     n_trees      mse_test     mse_train\n",
              "250      600  2.586768e+06  2.093440e+06\n",
              "251      602  2.585983e+06  2.090484e+06\n",
              "252      604  2.584313e+06  2.084226e+06\n",
              "253      606  2.581511e+06  2.081058e+06\n",
              "254      608  2.575910e+06  2.075198e+06\n",
              "255      610  2.573407e+06  2.072100e+06\n",
              "256      612  2.571179e+06  2.067199e+06\n",
              "257      614  2.566200e+06  2.060868e+06\n",
              "258      616  2.562364e+06  2.058199e+06\n",
              "259      618  2.560341e+06  2.055163e+06\n",
              "260      620  2.557314e+06  2.050508e+06\n",
              "261      622  2.555818e+06  2.044612e+06\n",
              "262      624  2.555278e+06  2.041313e+06\n",
              "263      626  2.550850e+06  2.035902e+06\n",
              "264      628  2.548384e+06  2.033610e+06\n",
              "265      630  2.543239e+06  2.028454e+06\n",
              "266      632  2.541312e+06  2.025616e+06\n",
              "267      634  2.538124e+06  2.021086e+06\n",
              "268      636  2.536422e+06  2.018382e+06\n",
              "269      638  2.534285e+06  2.013316e+06\n",
              "270      640  2.530142e+06  2.008210e+06\n",
              "271      642  2.527296e+06  2.005439e+06\n",
              "272      644  2.524866e+06  2.001284e+06\n",
              "273      646  2.522665e+06  1.999279e+06\n",
              "274      648  2.518681e+06  1.993977e+06\n",
              "275      650  2.515952e+06  1.991326e+06"
            ],
            "text/html": [
              "\n",
              "  <div id=\"df-cfc9ca75-09c9-4536-897d-f6372e00a864\">\n",
              "    <div class=\"colab-df-container\">\n",
              "      <div>\n",
              "<style scoped>\n",
              "    .dataframe tbody tr th:only-of-type {\n",
              "        vertical-align: middle;\n",
              "    }\n",
              "\n",
              "    .dataframe tbody tr th {\n",
              "        vertical-align: top;\n",
              "    }\n",
              "\n",
              "    .dataframe thead th {\n",
              "        text-align: right;\n",
              "    }\n",
              "</style>\n",
              "<table border=\"1\" class=\"dataframe\">\n",
              "  <thead>\n",
              "    <tr style=\"text-align: right;\">\n",
              "      <th></th>\n",
              "      <th>n_trees</th>\n",
              "      <th>mse_test</th>\n",
              "      <th>mse_train</th>\n",
              "    </tr>\n",
              "  </thead>\n",
              "  <tbody>\n",
              "    <tr>\n",
              "      <th>250</th>\n",
              "      <td>600</td>\n",
              "      <td>2.586768e+06</td>\n",
              "      <td>2.093440e+06</td>\n",
              "    </tr>\n",
              "    <tr>\n",
              "      <th>251</th>\n",
              "      <td>602</td>\n",
              "      <td>2.585983e+06</td>\n",
              "      <td>2.090484e+06</td>\n",
              "    </tr>\n",
              "    <tr>\n",
              "      <th>252</th>\n",
              "      <td>604</td>\n",
              "      <td>2.584313e+06</td>\n",
              "      <td>2.084226e+06</td>\n",
              "    </tr>\n",
              "    <tr>\n",
              "      <th>253</th>\n",
              "      <td>606</td>\n",
              "      <td>2.581511e+06</td>\n",
              "      <td>2.081058e+06</td>\n",
              "    </tr>\n",
              "    <tr>\n",
              "      <th>254</th>\n",
              "      <td>608</td>\n",
              "      <td>2.575910e+06</td>\n",
              "      <td>2.075198e+06</td>\n",
              "    </tr>\n",
              "    <tr>\n",
              "      <th>255</th>\n",
              "      <td>610</td>\n",
              "      <td>2.573407e+06</td>\n",
              "      <td>2.072100e+06</td>\n",
              "    </tr>\n",
              "    <tr>\n",
              "      <th>256</th>\n",
              "      <td>612</td>\n",
              "      <td>2.571179e+06</td>\n",
              "      <td>2.067199e+06</td>\n",
              "    </tr>\n",
              "    <tr>\n",
              "      <th>257</th>\n",
              "      <td>614</td>\n",
              "      <td>2.566200e+06</td>\n",
              "      <td>2.060868e+06</td>\n",
              "    </tr>\n",
              "    <tr>\n",
              "      <th>258</th>\n",
              "      <td>616</td>\n",
              "      <td>2.562364e+06</td>\n",
              "      <td>2.058199e+06</td>\n",
              "    </tr>\n",
              "    <tr>\n",
              "      <th>259</th>\n",
              "      <td>618</td>\n",
              "      <td>2.560341e+06</td>\n",
              "      <td>2.055163e+06</td>\n",
              "    </tr>\n",
              "    <tr>\n",
              "      <th>260</th>\n",
              "      <td>620</td>\n",
              "      <td>2.557314e+06</td>\n",
              "      <td>2.050508e+06</td>\n",
              "    </tr>\n",
              "    <tr>\n",
              "      <th>261</th>\n",
              "      <td>622</td>\n",
              "      <td>2.555818e+06</td>\n",
              "      <td>2.044612e+06</td>\n",
              "    </tr>\n",
              "    <tr>\n",
              "      <th>262</th>\n",
              "      <td>624</td>\n",
              "      <td>2.555278e+06</td>\n",
              "      <td>2.041313e+06</td>\n",
              "    </tr>\n",
              "    <tr>\n",
              "      <th>263</th>\n",
              "      <td>626</td>\n",
              "      <td>2.550850e+06</td>\n",
              "      <td>2.035902e+06</td>\n",
              "    </tr>\n",
              "    <tr>\n",
              "      <th>264</th>\n",
              "      <td>628</td>\n",
              "      <td>2.548384e+06</td>\n",
              "      <td>2.033610e+06</td>\n",
              "    </tr>\n",
              "    <tr>\n",
              "      <th>265</th>\n",
              "      <td>630</td>\n",
              "      <td>2.543239e+06</td>\n",
              "      <td>2.028454e+06</td>\n",
              "    </tr>\n",
              "    <tr>\n",
              "      <th>266</th>\n",
              "      <td>632</td>\n",
              "      <td>2.541312e+06</td>\n",
              "      <td>2.025616e+06</td>\n",
              "    </tr>\n",
              "    <tr>\n",
              "      <th>267</th>\n",
              "      <td>634</td>\n",
              "      <td>2.538124e+06</td>\n",
              "      <td>2.021086e+06</td>\n",
              "    </tr>\n",
              "    <tr>\n",
              "      <th>268</th>\n",
              "      <td>636</td>\n",
              "      <td>2.536422e+06</td>\n",
              "      <td>2.018382e+06</td>\n",
              "    </tr>\n",
              "    <tr>\n",
              "      <th>269</th>\n",
              "      <td>638</td>\n",
              "      <td>2.534285e+06</td>\n",
              "      <td>2.013316e+06</td>\n",
              "    </tr>\n",
              "    <tr>\n",
              "      <th>270</th>\n",
              "      <td>640</td>\n",
              "      <td>2.530142e+06</td>\n",
              "      <td>2.008210e+06</td>\n",
              "    </tr>\n",
              "    <tr>\n",
              "      <th>271</th>\n",
              "      <td>642</td>\n",
              "      <td>2.527296e+06</td>\n",
              "      <td>2.005439e+06</td>\n",
              "    </tr>\n",
              "    <tr>\n",
              "      <th>272</th>\n",
              "      <td>644</td>\n",
              "      <td>2.524866e+06</td>\n",
              "      <td>2.001284e+06</td>\n",
              "    </tr>\n",
              "    <tr>\n",
              "      <th>273</th>\n",
              "      <td>646</td>\n",
              "      <td>2.522665e+06</td>\n",
              "      <td>1.999279e+06</td>\n",
              "    </tr>\n",
              "    <tr>\n",
              "      <th>274</th>\n",
              "      <td>648</td>\n",
              "      <td>2.518681e+06</td>\n",
              "      <td>1.993977e+06</td>\n",
              "    </tr>\n",
              "    <tr>\n",
              "      <th>275</th>\n",
              "      <td>650</td>\n",
              "      <td>2.515952e+06</td>\n",
              "      <td>1.991326e+06</td>\n",
              "    </tr>\n",
              "  </tbody>\n",
              "</table>\n",
              "</div>\n",
              "      <button class=\"colab-df-convert\" onclick=\"convertToInteractive('df-cfc9ca75-09c9-4536-897d-f6372e00a864')\"\n",
              "              title=\"Convert this dataframe to an interactive table.\"\n",
              "              style=\"display:none;\">\n",
              "        \n",
              "  <svg xmlns=\"http://www.w3.org/2000/svg\" height=\"24px\"viewBox=\"0 0 24 24\"\n",
              "       width=\"24px\">\n",
              "    <path d=\"M0 0h24v24H0V0z\" fill=\"none\"/>\n",
              "    <path d=\"M18.56 5.44l.94 2.06.94-2.06 2.06-.94-2.06-.94-.94-2.06-.94 2.06-2.06.94zm-11 1L8.5 8.5l.94-2.06 2.06-.94-2.06-.94L8.5 2.5l-.94 2.06-2.06.94zm10 10l.94 2.06.94-2.06 2.06-.94-2.06-.94-.94-2.06-.94 2.06-2.06.94z\"/><path d=\"M17.41 7.96l-1.37-1.37c-.4-.4-.92-.59-1.43-.59-.52 0-1.04.2-1.43.59L10.3 9.45l-7.72 7.72c-.78.78-.78 2.05 0 2.83L4 21.41c.39.39.9.59 1.41.59.51 0 1.02-.2 1.41-.59l7.78-7.78 2.81-2.81c.8-.78.8-2.07 0-2.86zM5.41 20L4 18.59l7.72-7.72 1.47 1.35L5.41 20z\"/>\n",
              "  </svg>\n",
              "      </button>\n",
              "      \n",
              "  <style>\n",
              "    .colab-df-container {\n",
              "      display:flex;\n",
              "      flex-wrap:wrap;\n",
              "      gap: 12px;\n",
              "    }\n",
              "\n",
              "    .colab-df-convert {\n",
              "      background-color: #E8F0FE;\n",
              "      border: none;\n",
              "      border-radius: 50%;\n",
              "      cursor: pointer;\n",
              "      display: none;\n",
              "      fill: #1967D2;\n",
              "      height: 32px;\n",
              "      padding: 0 0 0 0;\n",
              "      width: 32px;\n",
              "    }\n",
              "\n",
              "    .colab-df-convert:hover {\n",
              "      background-color: #E2EBFA;\n",
              "      box-shadow: 0px 1px 2px rgba(60, 64, 67, 0.3), 0px 1px 3px 1px rgba(60, 64, 67, 0.15);\n",
              "      fill: #174EA6;\n",
              "    }\n",
              "\n",
              "    [theme=dark] .colab-df-convert {\n",
              "      background-color: #3B4455;\n",
              "      fill: #D2E3FC;\n",
              "    }\n",
              "\n",
              "    [theme=dark] .colab-df-convert:hover {\n",
              "      background-color: #434B5C;\n",
              "      box-shadow: 0px 1px 3px 1px rgba(0, 0, 0, 0.15);\n",
              "      filter: drop-shadow(0px 1px 2px rgba(0, 0, 0, 0.3));\n",
              "      fill: #FFFFFF;\n",
              "    }\n",
              "  </style>\n",
              "\n",
              "      <script>\n",
              "        const buttonEl =\n",
              "          document.querySelector('#df-cfc9ca75-09c9-4536-897d-f6372e00a864 button.colab-df-convert');\n",
              "        buttonEl.style.display =\n",
              "          google.colab.kernel.accessAllowed ? 'block' : 'none';\n",
              "\n",
              "        async function convertToInteractive(key) {\n",
              "          const element = document.querySelector('#df-cfc9ca75-09c9-4536-897d-f6372e00a864');\n",
              "          const dataTable =\n",
              "            await google.colab.kernel.invokeFunction('convertToInteractive',\n",
              "                                                     [key], {});\n",
              "          if (!dataTable) return;\n",
              "\n",
              "          const docLinkHtml = 'Like what you see? Visit the ' +\n",
              "            '<a target=\"_blank\" href=https://colab.research.google.com/notebooks/data_table.ipynb>data table notebook</a>'\n",
              "            + ' to learn more about interactive tables.';\n",
              "          element.innerHTML = '';\n",
              "          dataTable['output_type'] = 'display_data';\n",
              "          await google.colab.output.renderOutput(dataTable, element);\n",
              "          const docLink = document.createElement('div');\n",
              "          docLink.innerHTML = docLinkHtml;\n",
              "          element.appendChild(docLink);\n",
              "        }\n",
              "      </script>\n",
              "    </div>\n",
              "  </div>\n",
              "  "
            ]
          },
          "metadata": {},
          "execution_count": 106
        }
      ]
    },
    {
      "cell_type": "markdown",
      "source": [
        "We select 650. Since from ciho estimator there is no significant improvement."
      ],
      "metadata": {
        "id": "PzLeu9aNi2M9"
      }
    },
    {
      "cell_type": "code",
      "source": [
        "xgb_reg=XGBRegressor(max_depth=2,\n",
        "                     learning_rate=0.01,\n",
        "                     n_estimators=650,\n",
        "                     verbosity=0,\n",
        "                     random_state=42)\n",
        "\n",
        "xgb_pipeline=Pipeline([(\"transform\",tf_colummns),(\"gbr\",xgb_reg)])"
      ],
      "metadata": {
        "id": "Jf7JM25cjBsk"
      },
      "execution_count": 116,
      "outputs": []
    },
    {
      "cell_type": "code",
      "source": [
        "xgb_pipeline.fit(X_train,Y_train)"
      ],
      "metadata": {
        "colab": {
          "base_uri": "https://localhost:8080/"
        },
        "id": "tNPxLHbfjpw7",
        "outputId": "cb8fd301-3135-4bb8-f9c7-da0e8836af73"
      },
      "execution_count": 117,
      "outputs": [
        {
          "output_type": "execute_result",
          "data": {
            "text/plain": [
              "Pipeline(steps=[('transform',\n",
              "                 ColumnTransformer(transformers=[('minmaxscaler',\n",
              "                                                  MinMaxScaler(),\n",
              "                                                  ['age', 'bmi', 'children']),\n",
              "                                                 ('onehotencoder',\n",
              "                                                  OneHotEncoder(drop='if_binary'),\n",
              "                                                  ['region', 'sex',\n",
              "                                                   'smoker'])])),\n",
              "                ('gbr',\n",
              "                 XGBRegressor(learning_rate=0.01, max_depth=2, n_estimators=650,\n",
              "                              random_state=42, verbosity=0))])"
            ]
          },
          "metadata": {},
          "execution_count": 117
        }
      ]
    },
    {
      "cell_type": "code",
      "source": [
        "xgb_pipeline.score(X_train,Y_train)"
      ],
      "metadata": {
        "colab": {
          "base_uri": "https://localhost:8080/"
        },
        "id": "lmBiBP0FjwI5",
        "outputId": "2dec75cf-50a2-4394-8725-466fe6bae656"
      },
      "execution_count": 118,
      "outputs": [
        {
          "output_type": "execute_result",
          "data": {
            "text/plain": [
              "0.9852467167414591"
            ]
          },
          "metadata": {},
          "execution_count": 118
        }
      ]
    },
    {
      "cell_type": "code",
      "source": [
        "xgb_pipeline.score(X_test,Y_test)"
      ],
      "metadata": {
        "colab": {
          "base_uri": "https://localhost:8080/"
        },
        "id": "_UlO9o_bjz-S",
        "outputId": "93503c2f-6634-4293-aecd-3cf082ed268b"
      },
      "execution_count": 119,
      "outputs": [
        {
          "output_type": "execute_result",
          "data": {
            "text/plain": [
              "0.9818729241879265"
            ]
          },
          "metadata": {},
          "execution_count": 119
        }
      ]
    },
    {
      "cell_type": "code",
      "source": [
        "def predict(model,x):\n",
        "    \n",
        "    return model.predict(x)\n",
        "\n",
        "pred_poly_train=predict(lm,X_train_poly)\n",
        "pred_poly_test=predict(lm,X_test_poly)\n",
        "\n",
        "pred_gbr_train=predict(gbr_pipeline,X_train)\n",
        "pred_gbr_test=predict(gbr_pipeline,X_test)\n",
        "\n",
        "pred_xgb_train=predict(xgb_pipeline,X_train)\n",
        "pred_xgb_test=predict(xgb_pipeline,X_test)      "
      ],
      "metadata": {
        "id": "kPphCLpfkYAf"
      },
      "execution_count": 120,
      "outputs": []
    },
    {
      "cell_type": "code",
      "source": [
        "def mse(y_true,y_pred):\n",
        "\n",
        "    return mean_squared_error(y_true=y_true,y_pred=y_pred)\n",
        "\n",
        "mse_poly_train=mse(Y_train,pred_poly_train)\n",
        "mse_poly_test=mse(Y_test,pred_poly_test)\n",
        "\n",
        "mse_gbr_train=mse(Y_train,pred_gbr_train)\n",
        "mse_gbr_test=mse(Y_test,pred_gbr_test)\n",
        "\n",
        "mse_xgb_train=mse(Y_train,pred_xgb_train)\n",
        "mse_xgb_test=mse(Y_test,pred_xgb_test)  "
      ],
      "metadata": {
        "id": "OgLMj0ABk1r1"
      },
      "execution_count": 121,
      "outputs": []
    },
    {
      "cell_type": "markdown",
      "source": [
        "### **Cross Validation**"
      ],
      "metadata": {
        "id": "xSA8UEnKlI0S"
      }
    },
    {
      "cell_type": "code",
      "source": [
        "from sklearn.model_selection import cross_val_score"
      ],
      "metadata": {
        "id": "R-DrmCZElcHT"
      },
      "execution_count": 124,
      "outputs": []
    },
    {
      "cell_type": "code",
      "source": [
        "def cv_score(model,x,y):\n",
        "    \n",
        "    return cross_val_score(model,x,y,cv=10).mean()"
      ],
      "metadata": {
        "id": "x3zEhc4plCvq"
      },
      "execution_count": 125,
      "outputs": []
    },
    {
      "cell_type": "code",
      "source": [
        "cv_poly=cv_score(lm,X_test_poly,Y_test)\n",
        "cv_gbr=cv_score(gbr_pipeline,X_test,Y_test)\n",
        "cv_xgb=cv_score(xgb_pipeline,X_test,Y_test)"
      ],
      "metadata": {
        "id": "L15mlOyMlRBN"
      },
      "execution_count": 126,
      "outputs": []
    },
    {
      "cell_type": "markdown",
      "source": [
        "### **Dataframe evaluation**"
      ],
      "metadata": {
        "id": "STCqQNHBluDh"
      }
    },
    {
      "cell_type": "code",
      "source": [
        "models_names=[\"Polynomial Regression\",\"Gradient Boosting\",\"XGBOOST\"]\n",
        "mse_train=[mse_poly_train,mse_gbr_train,mse_xgb_train]\n",
        "mse_test=[mse_poly_test,mse_gbr_test,mse_xgb_test]\n",
        "\n",
        "cv=[cv_poly,cv_gbr,cv_xgb]\n",
        "\n",
        "evaluate_df=pd.DataFrame({\"Model\":models_names,\n",
        "                          \"MSE train\":mse_train,\n",
        "                          \"MSE test\":mse_test,\"CV\":cv})"
      ],
      "metadata": {
        "id": "StxVuJVuli9j"
      },
      "execution_count": 127,
      "outputs": []
    },
    {
      "cell_type": "code",
      "source": [
        "evaluate_df"
      ],
      "metadata": {
        "colab": {
          "base_uri": "https://localhost:8080/",
          "height": 143
        },
        "id": "20yHi37ql2lz",
        "outputId": "61818866-8f2e-459f-d3ec-ac7390c23a46"
      },
      "execution_count": 128,
      "outputs": [
        {
          "output_type": "execute_result",
          "data": {
            "text/plain": [
              "                   Model     MSE train      MSE test        CV\n",
              "0  Polynomial Regression  4.882356e+06  6.447692e+06  0.950892\n",
              "1      Gradient Boosting  2.001062e+06  2.551986e+06  0.978268\n",
              "2                XGBOOST  1.991326e+06  2.515952e+06  0.979193"
            ],
            "text/html": [
              "\n",
              "  <div id=\"df-b4a502ed-7575-4eee-aeb0-e54d40a6287c\">\n",
              "    <div class=\"colab-df-container\">\n",
              "      <div>\n",
              "<style scoped>\n",
              "    .dataframe tbody tr th:only-of-type {\n",
              "        vertical-align: middle;\n",
              "    }\n",
              "\n",
              "    .dataframe tbody tr th {\n",
              "        vertical-align: top;\n",
              "    }\n",
              "\n",
              "    .dataframe thead th {\n",
              "        text-align: right;\n",
              "    }\n",
              "</style>\n",
              "<table border=\"1\" class=\"dataframe\">\n",
              "  <thead>\n",
              "    <tr style=\"text-align: right;\">\n",
              "      <th></th>\n",
              "      <th>Model</th>\n",
              "      <th>MSE train</th>\n",
              "      <th>MSE test</th>\n",
              "      <th>CV</th>\n",
              "    </tr>\n",
              "  </thead>\n",
              "  <tbody>\n",
              "    <tr>\n",
              "      <th>0</th>\n",
              "      <td>Polynomial Regression</td>\n",
              "      <td>4.882356e+06</td>\n",
              "      <td>6.447692e+06</td>\n",
              "      <td>0.950892</td>\n",
              "    </tr>\n",
              "    <tr>\n",
              "      <th>1</th>\n",
              "      <td>Gradient Boosting</td>\n",
              "      <td>2.001062e+06</td>\n",
              "      <td>2.551986e+06</td>\n",
              "      <td>0.978268</td>\n",
              "    </tr>\n",
              "    <tr>\n",
              "      <th>2</th>\n",
              "      <td>XGBOOST</td>\n",
              "      <td>1.991326e+06</td>\n",
              "      <td>2.515952e+06</td>\n",
              "      <td>0.979193</td>\n",
              "    </tr>\n",
              "  </tbody>\n",
              "</table>\n",
              "</div>\n",
              "      <button class=\"colab-df-convert\" onclick=\"convertToInteractive('df-b4a502ed-7575-4eee-aeb0-e54d40a6287c')\"\n",
              "              title=\"Convert this dataframe to an interactive table.\"\n",
              "              style=\"display:none;\">\n",
              "        \n",
              "  <svg xmlns=\"http://www.w3.org/2000/svg\" height=\"24px\"viewBox=\"0 0 24 24\"\n",
              "       width=\"24px\">\n",
              "    <path d=\"M0 0h24v24H0V0z\" fill=\"none\"/>\n",
              "    <path d=\"M18.56 5.44l.94 2.06.94-2.06 2.06-.94-2.06-.94-.94-2.06-.94 2.06-2.06.94zm-11 1L8.5 8.5l.94-2.06 2.06-.94-2.06-.94L8.5 2.5l-.94 2.06-2.06.94zm10 10l.94 2.06.94-2.06 2.06-.94-2.06-.94-.94-2.06-.94 2.06-2.06.94z\"/><path d=\"M17.41 7.96l-1.37-1.37c-.4-.4-.92-.59-1.43-.59-.52 0-1.04.2-1.43.59L10.3 9.45l-7.72 7.72c-.78.78-.78 2.05 0 2.83L4 21.41c.39.39.9.59 1.41.59.51 0 1.02-.2 1.41-.59l7.78-7.78 2.81-2.81c.8-.78.8-2.07 0-2.86zM5.41 20L4 18.59l7.72-7.72 1.47 1.35L5.41 20z\"/>\n",
              "  </svg>\n",
              "      </button>\n",
              "      \n",
              "  <style>\n",
              "    .colab-df-container {\n",
              "      display:flex;\n",
              "      flex-wrap:wrap;\n",
              "      gap: 12px;\n",
              "    }\n",
              "\n",
              "    .colab-df-convert {\n",
              "      background-color: #E8F0FE;\n",
              "      border: none;\n",
              "      border-radius: 50%;\n",
              "      cursor: pointer;\n",
              "      display: none;\n",
              "      fill: #1967D2;\n",
              "      height: 32px;\n",
              "      padding: 0 0 0 0;\n",
              "      width: 32px;\n",
              "    }\n",
              "\n",
              "    .colab-df-convert:hover {\n",
              "      background-color: #E2EBFA;\n",
              "      box-shadow: 0px 1px 2px rgba(60, 64, 67, 0.3), 0px 1px 3px 1px rgba(60, 64, 67, 0.15);\n",
              "      fill: #174EA6;\n",
              "    }\n",
              "\n",
              "    [theme=dark] .colab-df-convert {\n",
              "      background-color: #3B4455;\n",
              "      fill: #D2E3FC;\n",
              "    }\n",
              "\n",
              "    [theme=dark] .colab-df-convert:hover {\n",
              "      background-color: #434B5C;\n",
              "      box-shadow: 0px 1px 3px 1px rgba(0, 0, 0, 0.15);\n",
              "      filter: drop-shadow(0px 1px 2px rgba(0, 0, 0, 0.3));\n",
              "      fill: #FFFFFF;\n",
              "    }\n",
              "  </style>\n",
              "\n",
              "      <script>\n",
              "        const buttonEl =\n",
              "          document.querySelector('#df-b4a502ed-7575-4eee-aeb0-e54d40a6287c button.colab-df-convert');\n",
              "        buttonEl.style.display =\n",
              "          google.colab.kernel.accessAllowed ? 'block' : 'none';\n",
              "\n",
              "        async function convertToInteractive(key) {\n",
              "          const element = document.querySelector('#df-b4a502ed-7575-4eee-aeb0-e54d40a6287c');\n",
              "          const dataTable =\n",
              "            await google.colab.kernel.invokeFunction('convertToInteractive',\n",
              "                                                     [key], {});\n",
              "          if (!dataTable) return;\n",
              "\n",
              "          const docLinkHtml = 'Like what you see? Visit the ' +\n",
              "            '<a target=\"_blank\" href=https://colab.research.google.com/notebooks/data_table.ipynb>data table notebook</a>'\n",
              "            + ' to learn more about interactive tables.';\n",
              "          element.innerHTML = '';\n",
              "          dataTable['output_type'] = 'display_data';\n",
              "          await google.colab.output.renderOutput(dataTable, element);\n",
              "          const docLink = document.createElement('div');\n",
              "          docLink.innerHTML = docLinkHtml;\n",
              "          element.appendChild(docLink);\n",
              "        }\n",
              "      </script>\n",
              "    </div>\n",
              "  </div>\n",
              "  "
            ]
          },
          "metadata": {},
          "execution_count": 128
        }
      ]
    },
    {
      "cell_type": "markdown",
      "source": [
        "**XGBOOST** has better performance metrics than the Polynomial model and Gradient Boosting"
      ],
      "metadata": {
        "id": "9xf-O9rnWS2c"
      }
    },
    {
      "cell_type": "code",
      "source": [
        "\n",
        "\n",
        "df_test=pd.DataFrame({\"true_values\":Y_test,\n",
        "                        \"pred_poly\":pred_poly_test,\n",
        "                      \"pred_adaboost\":pred_gbr_test,\n",
        "                      \"pred_xgb\":pred_xgb_test,\n",
        "                      \"smoker\":X_test[\"smoker\"]\n",
        "                     })"
      ],
      "metadata": {
        "id": "3dYaQAGimZu_"
      },
      "execution_count": 129,
      "outputs": []
    },
    {
      "cell_type": "code",
      "source": [
        "fig,(ax_0,ax_1,ax_2)=plt.subplots(1,3,figsize=(20,8))\n",
        "sns.set_style(style=\"whitegrid\")\n",
        "\n",
        "ax_0.set_title(\"Polinomial Regression\")\n",
        "sns.scatterplot(data=df_test,x=\"true_values\",y=\"pred_poly\",color=\"red\",hue=\"smoker\",ax=ax_0,palette=\"cool\")\n",
        "sns.lineplot(data=df_test,x=\"true_values\",y=\"true_values\",color=\"c\",ax=ax_0)\n",
        "\n",
        "\n",
        "ax_1.set_title(\"GradientBoosting\")\n",
        "sns.scatterplot(data=df_test,x=\"true_values\",y=\"pred_adaboost\",color=\"red\",hue=\"smoker\",ax=ax_1,palette=\"cool\")\n",
        "sns.lineplot(data=df_test,x=\"true_values\",y=\"true_values\",color=\"c\",ax=ax_1)\n",
        "\n",
        "ax_2.set_title(\"XGBOOST\")\n",
        "sns.scatterplot(data=df_test,x=\"true_values\",y=\"pred_xgb\",color=\"red\",hue=\"smoker\",ax=ax_2,palette=\"cool\")\n",
        "sns.lineplot(data=df_test,x=\"true_values\",y=\"true_values\",color=\"c\",ax=ax_2)\n",
        "\n",
        "plt.show()"
      ],
      "metadata": {
        "colab": {
          "base_uri": "https://localhost:8080/",
          "height": 422
        },
        "id": "npejWUOwmrw-",
        "outputId": "b9356884-b1a3-4b0a-976e-cef567e93532"
      },
      "execution_count": 130,
      "outputs": [
        {
          "output_type": "display_data",
          "data": {
            "text/plain": [
              "<Figure size 1440x576 with 3 Axes>"
            ],
            "image/png": "[encoded data removed]"
          },
          "metadata": {}
        }
      ]
    },
    {
      "cell_type": "markdown",
      "source": [
        "## **Conclusion** \n",
        "\n",
        "* The **Polynomial Regression** is good to predict those users who do not smoke, for smokers it gives not so accurate predictions.\n",
        "\n",
        "* **Gradient Boosting** It is good for both cases.\n",
        "\n",
        "* **XGBOOST** Has a better root mean square error than using gradient boosting. In turn, it is faster to train and presents fewer symptoms of overfitting."
      ],
      "metadata": {
        "id": "Gl-A1_KNVQCQ"
      }
    }
  ]
}