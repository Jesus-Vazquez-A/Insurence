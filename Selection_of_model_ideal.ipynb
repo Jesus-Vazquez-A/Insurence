{
  "nbformat": 4,
  "nbformat_minor": 0,
  "metadata": {
    "colab": {
      "name": "Selection of model ideal.ipynb",
      "provenance": [],
      "collapsed_sections": [],
      "mount_file_id": "1qsO-RDpKKoQoBkj0w-ReUOVMZYcLEMY-",
      "authorship_tag": "ABX9TyMRj+wXRlzD0seuwU+dqXpp",
      "include_colab_link": true
    },
    "kernelspec": {
      "name": "python3",
      "display_name": "Python 3"
    },
    "language_info": {
      "name": "python"
    },
    "accelerator": "GPU",
    "gpuClass": "standard"
  },
  "cells": [
    {
      "cell_type": "markdown",
      "metadata": {
        "id": "view-in-github",
        "colab_type": "text"
      },
      "source": [
        "<a href=\"https://colab.research.google.com/github/Jesus-Vazquez-A/Insurence/blob/main/Selection_of_model_ideal.ipynb\" target=\"_parent\"><img src=\"https://colab.research.google.com/assets/colab-badge.svg\" alt=\"Open In Colab\"/></a>"
      ]
    },
    {
      "cell_type": "code",
      "execution_count": 1,
      "metadata": {
        "id": "42mAl_1sAeG8"
      },
      "outputs": [],
      "source": [
        "import warnings # ignore warnings\n",
        "import pandas as pd # data manipulation\n",
        "import numpy as np # linear algebra\n",
        "import matplotlib.pyplot as plt # plots\n",
        "import seaborn as sns # plots"
      ]
    },
    {
      "cell_type": "code",
      "source": [
        "warnings.filterwarnings(\"ignore\")"
      ],
      "metadata": {
        "id": "cSVA3RjPAqF8"
      },
      "execution_count": 2,
      "outputs": []
    },
    {
      "cell_type": "code",
      "source": [
        "df=pd.read_csv(\"/content/insurence_clear.csv\")\n",
        "df=df.drop([\"Unnamed: 0\"],axis=\"columns\")"
      ],
      "metadata": {
        "id": "L1XaFcLIAtCj"
      },
      "execution_count": 3,
      "outputs": []
    },
    {
      "cell_type": "code",
      "source": [
        "df.head()"
      ],
      "metadata": {
        "colab": {
          "base_uri": "https://localhost:8080/",
          "height": 206
        },
        "id": "Oi-3A_k5A2vO",
        "outputId": "4aa40c14-5278-4867-954d-9a222bba919d"
      },
      "execution_count": 4,
      "outputs": [
        {
          "output_type": "execute_result",
          "data": {
            "text/plain": [
              "   age   sex    bmi  children smoker     region    charges\n",
              "0   18  male  33.77         1     no  southeast  1725.5523\n",
              "1   28  male  33.00         3     no  southeast  4449.4620\n",
              "2   25  male  26.22         0     no  northeast  2721.3208\n",
              "3   23  male  34.40         0     no  southwest  1826.8430\n",
              "4   19  male  24.60         1     no  southwest  1837.2370"
            ],
            "text/html": [
              "\n",
              "  <div id=\"df-996afbec-f158-496b-a912-005cc024270b\">\n",
              "    <div class=\"colab-df-container\">\n",
              "      <div>\n",
              "<style scoped>\n",
              "    .dataframe tbody tr th:only-of-type {\n",
              "        vertical-align: middle;\n",
              "    }\n",
              "\n",
              "    .dataframe tbody tr th {\n",
              "        vertical-align: top;\n",
              "    }\n",
              "\n",
              "    .dataframe thead th {\n",
              "        text-align: right;\n",
              "    }\n",
              "</style>\n",
              "<table border=\"1\" class=\"dataframe\">\n",
              "  <thead>\n",
              "    <tr style=\"text-align: right;\">\n",
              "      <th></th>\n",
              "      <th>age</th>\n",
              "      <th>sex</th>\n",
              "      <th>bmi</th>\n",
              "      <th>children</th>\n",
              "      <th>smoker</th>\n",
              "      <th>region</th>\n",
              "      <th>charges</th>\n",
              "    </tr>\n",
              "  </thead>\n",
              "  <tbody>\n",
              "    <tr>\n",
              "      <th>0</th>\n",
              "      <td>18</td>\n",
              "      <td>male</td>\n",
              "      <td>33.77</td>\n",
              "      <td>1</td>\n",
              "      <td>no</td>\n",
              "      <td>southeast</td>\n",
              "      <td>1725.5523</td>\n",
              "    </tr>\n",
              "    <tr>\n",
              "      <th>1</th>\n",
              "      <td>28</td>\n",
              "      <td>male</td>\n",
              "      <td>33.00</td>\n",
              "      <td>3</td>\n",
              "      <td>no</td>\n",
              "      <td>southeast</td>\n",
              "      <td>4449.4620</td>\n",
              "    </tr>\n",
              "    <tr>\n",
              "      <th>2</th>\n",
              "      <td>25</td>\n",
              "      <td>male</td>\n",
              "      <td>26.22</td>\n",
              "      <td>0</td>\n",
              "      <td>no</td>\n",
              "      <td>northeast</td>\n",
              "      <td>2721.3208</td>\n",
              "    </tr>\n",
              "    <tr>\n",
              "      <th>3</th>\n",
              "      <td>23</td>\n",
              "      <td>male</td>\n",
              "      <td>34.40</td>\n",
              "      <td>0</td>\n",
              "      <td>no</td>\n",
              "      <td>southwest</td>\n",
              "      <td>1826.8430</td>\n",
              "    </tr>\n",
              "    <tr>\n",
              "      <th>4</th>\n",
              "      <td>19</td>\n",
              "      <td>male</td>\n",
              "      <td>24.60</td>\n",
              "      <td>1</td>\n",
              "      <td>no</td>\n",
              "      <td>southwest</td>\n",
              "      <td>1837.2370</td>\n",
              "    </tr>\n",
              "  </tbody>\n",
              "</table>\n",
              "</div>\n",
              "      <button class=\"colab-df-convert\" onclick=\"convertToInteractive('df-996afbec-f158-496b-a912-005cc024270b')\"\n",
              "              title=\"Convert this dataframe to an interactive table.\"\n",
              "              style=\"display:none;\">\n",
              "        \n",
              "  <svg xmlns=\"http://www.w3.org/2000/svg\" height=\"24px\"viewBox=\"0 0 24 24\"\n",
              "       width=\"24px\">\n",
              "    <path d=\"M0 0h24v24H0V0z\" fill=\"none\"/>\n",
              "    <path d=\"M18.56 5.44l.94 2.06.94-2.06 2.06-.94-2.06-.94-.94-2.06-.94 2.06-2.06.94zm-11 1L8.5 8.5l.94-2.06 2.06-.94-2.06-.94L8.5 2.5l-.94 2.06-2.06.94zm10 10l.94 2.06.94-2.06 2.06-.94-2.06-.94-.94-2.06-.94 2.06-2.06.94z\"/><path d=\"M17.41 7.96l-1.37-1.37c-.4-.4-.92-.59-1.43-.59-.52 0-1.04.2-1.43.59L10.3 9.45l-7.72 7.72c-.78.78-.78 2.05 0 2.83L4 21.41c.39.39.9.59 1.41.59.51 0 1.02-.2 1.41-.59l7.78-7.78 2.81-2.81c.8-.78.8-2.07 0-2.86zM5.41 20L4 18.59l7.72-7.72 1.47 1.35L5.41 20z\"/>\n",
              "  </svg>\n",
              "      </button>\n",
              "      \n",
              "  <style>\n",
              "    .colab-df-container {\n",
              "      display:flex;\n",
              "      flex-wrap:wrap;\n",
              "      gap: 12px;\n",
              "    }\n",
              "\n",
              "    .colab-df-convert {\n",
              "      background-color: #E8F0FE;\n",
              "      border: none;\n",
              "      border-radius: 50%;\n",
              "      cursor: pointer;\n",
              "      display: none;\n",
              "      fill: #1967D2;\n",
              "      height: 32px;\n",
              "      padding: 0 0 0 0;\n",
              "      width: 32px;\n",
              "    }\n",
              "\n",
              "    .colab-df-convert:hover {\n",
              "      background-color: #E2EBFA;\n",
              "      box-shadow: 0px 1px 2px rgba(60, 64, 67, 0.3), 0px 1px 3px 1px rgba(60, 64, 67, 0.15);\n",
              "      fill: #174EA6;\n",
              "    }\n",
              "\n",
              "    [theme=dark] .colab-df-convert {\n",
              "      background-color: #3B4455;\n",
              "      fill: #D2E3FC;\n",
              "    }\n",
              "\n",
              "    [theme=dark] .colab-df-convert:hover {\n",
              "      background-color: #434B5C;\n",
              "      box-shadow: 0px 1px 3px 1px rgba(0, 0, 0, 0.15);\n",
              "      filter: drop-shadow(0px 1px 2px rgba(0, 0, 0, 0.3));\n",
              "      fill: #FFFFFF;\n",
              "    }\n",
              "  </style>\n",
              "\n",
              "      <script>\n",
              "        const buttonEl =\n",
              "          document.querySelector('#df-996afbec-f158-496b-a912-005cc024270b button.colab-df-convert');\n",
              "        buttonEl.style.display =\n",
              "          google.colab.kernel.accessAllowed ? 'block' : 'none';\n",
              "\n",
              "        async function convertToInteractive(key) {\n",
              "          const element = document.querySelector('#df-996afbec-f158-496b-a912-005cc024270b');\n",
              "          const dataTable =\n",
              "            await google.colab.kernel.invokeFunction('convertToInteractive',\n",
              "                                                     [key], {});\n",
              "          if (!dataTable) return;\n",
              "\n",
              "          const docLinkHtml = 'Like what you see? Visit the ' +\n",
              "            '<a target=\"_blank\" href=https://colab.research.google.com/notebooks/data_table.ipynb>data table notebook</a>'\n",
              "            + ' to learn more about interactive tables.';\n",
              "          element.innerHTML = '';\n",
              "          dataTable['output_type'] = 'display_data';\n",
              "          await google.colab.output.renderOutput(dataTable, element);\n",
              "          const docLink = document.createElement('div');\n",
              "          docLink.innerHTML = docLinkHtml;\n",
              "          element.appendChild(docLink);\n",
              "        }\n",
              "      </script>\n",
              "    </div>\n",
              "  </div>\n",
              "  "
            ]
          },
          "metadata": {},
          "execution_count": 4
        }
      ]
    },
    {
      "cell_type": "code",
      "source": [
        "def dataset():\n",
        "    return df.drop([\"charges\"],axis=\"columns\"),df.charges.values\n",
        "\n",
        "X,y=dataset()\n"
      ],
      "metadata": {
        "id": "veeUE41MRogD"
      },
      "execution_count": 5,
      "outputs": []
    },
    {
      "cell_type": "markdown",
      "source": [
        "# **Split data**"
      ],
      "metadata": {
        "id": "rZ5mQsNYS3B1"
      }
    },
    {
      "cell_type": "code",
      "source": [
        "from sklearn.model_selection import train_test_split\n",
        "\n",
        "X_train,X_test,Y_train,Y_test=train_test_split(X,\n",
        "                                               y,\n",
        "                                               test_size=0.33,\n",
        "                                               random_state=42)"
      ],
      "metadata": {
        "id": "Nh7nahYkRslr"
      },
      "execution_count": 6,
      "outputs": []
    },
    {
      "cell_type": "markdown",
      "source": [
        "### **Data preprocessing**\n",
        "\n",
        "* **MinMaxScaler**  It consists of adjusting the data on a scale from 0 to 1. With the aim that the variables are comparable to each other. \n",
        "\n",
        "* **OneHotEncoding** It is used for qualitative variables. For example the geographical location or the color of a car.\n",
        "It consists of creating several fictitious variables according to the number of categorical variables. Where a 1 is indicated if said observation belongs to the class. It's a similar thing with truth tables if you're familiar with programming.\n",
        "\n",
        "\n",
        "* **PolynomialFeatures** It consists of raising to a certain power. To break the linearity of the data. Since sometimes a linear regression is not enough to solve the problem."
      ],
      "metadata": {
        "id": "t4jI7eUcTBWs"
      }
    },
    {
      "cell_type": "code",
      "source": [
        "from sklearn.preprocessing import MinMaxScaler,OneHotEncoder,PolynomialFeatures "
      ],
      "metadata": {
        "id": "0V5NIR2cS_S9"
      },
      "execution_count": 7,
      "outputs": []
    },
    {
      "cell_type": "code",
      "source": [
        "poly=PolynomialFeatures(degree=2) # degree polynomial\n",
        "rescale=MinMaxScaler()\n",
        "def poly_transform(x):\n",
        "    \n",
        "    x=pd.get_dummies(x,drop_first=True,columns=[\"sex\",\"smoker\",\"region\"]) # dummy variables\n",
        "    x[[\"age\",\"bmi\",\"children\"]]=rescale.fit_transform(x[[\"age\",\"bmi\",\"children\"]]) # reescale\n",
        "    \n",
        "    return poly.fit_transform(x) # polynomial transform"
      ],
      "metadata": {
        "id": "v6OJ6yfURww6"
      },
      "execution_count": 9,
      "outputs": []
    },
    {
      "cell_type": "code",
      "source": [
        "X_train_poly=poly_transform(X_train)\n",
        "X_test_poly=poly_transform(X_test)"
      ],
      "metadata": {
        "id": "fkZwwbtbR0Yy"
      },
      "execution_count": 10,
      "outputs": []
    },
    {
      "cell_type": "markdown",
      "source": [
        "## **Creation of the polynomial model**"
      ],
      "metadata": {
        "id": "sRTKPyOTVLv9"
      }
    },
    {
      "cell_type": "code",
      "source": [
        "from sklearn.linear_model import LinearRegression"
      ],
      "metadata": {
        "id": "nNZOjqQSVLHt"
      },
      "execution_count": 11,
      "outputs": []
    },
    {
      "cell_type": "code",
      "source": [
        "poly.fit(X_train_poly,Y_train) # we give the training data"
      ],
      "metadata": {
        "colab": {
          "base_uri": "https://localhost:8080/"
        },
        "id": "psIWSnO_Vb6s",
        "outputId": "8eb68374-5738-4e7f-8e6b-be143a657fae"
      },
      "execution_count": 12,
      "outputs": [
        {
          "output_type": "execute_result",
          "data": {
            "text/plain": [
              "PolynomialFeatures()"
            ]
          },
          "metadata": {},
          "execution_count": 12
        }
      ]
    },
    {
      "cell_type": "code",
      "source": [
        "lm=LinearRegression()"
      ],
      "metadata": {
        "id": "qS3NdwQmR3Vq"
      },
      "execution_count": 13,
      "outputs": []
    },
    {
      "cell_type": "code",
      "source": [
        "lm.fit(X_train_poly,Y_train) #  we give the training data"
      ],
      "metadata": {
        "colab": {
          "base_uri": "https://localhost:8080/"
        },
        "id": "B2PQdP8ER63x",
        "outputId": "db26e830-ab46-4180-e7f6-c51c90c9dad3"
      },
      "execution_count": 14,
      "outputs": [
        {
          "output_type": "execute_result",
          "data": {
            "text/plain": [
              "LinearRegression()"
            ]
          },
          "metadata": {},
          "execution_count": 14
        }
      ]
    },
    {
      "cell_type": "code",
      "source": [
        "lm.score(X_train_poly,Y_train) # evaluate with training data"
      ],
      "metadata": {
        "colab": {
          "base_uri": "https://localhost:8080/"
        },
        "id": "M_3ekbnHR-f0",
        "outputId": "b4ab4c25-e8eb-4a3a-b9cc-0af315f241b1"
      },
      "execution_count": 15,
      "outputs": [
        {
          "output_type": "execute_result",
          "data": {
            "text/plain": [
              "0.9634029455648855"
            ]
          },
          "metadata": {},
          "execution_count": 15
        }
      ]
    },
    {
      "cell_type": "code",
      "source": [
        "lm.score(X_test_poly,Y_test) # evaluate with testing data"
      ],
      "metadata": {
        "colab": {
          "base_uri": "https://localhost:8080/"
        },
        "id": "J92yjaXvV0ei",
        "outputId": "ce2497e6-ee99-447f-f266-ed6c19c34c91"
      },
      "execution_count": 16,
      "outputs": [
        {
          "output_type": "execute_result",
          "data": {
            "text/plain": [
              "0.9534487395422595"
            ]
          },
          "metadata": {},
          "execution_count": 16
        }
      ]
    },
    {
      "cell_type": "markdown",
      "source": [
        "## **Data transform**"
      ],
      "metadata": {
        "id": "yVsDcHc1WhBQ"
      }
    },
    {
      "cell_type": "code",
      "source": [
        "from sklearn.compose import make_column_transformer\n",
        "from sklearn.pipeline import Pipeline"
      ],
      "metadata": {
        "id": "exgYTGS4V9BJ"
      },
      "execution_count": 17,
      "outputs": []
    },
    {
      "cell_type": "code",
      "source": [
        "tf_colummns=make_column_transformer((MinMaxScaler(),[\"age\",\"bmi\",\"children\"]), # Reescale\n",
        "                                   (OneHotEncoder(drop=\"if_binary\"),[\"region\",\"sex\",\"smoker\"])) # OneHotEncoding"
      ],
      "metadata": {
        "id": "Z9FTJ7GGWpPI"
      },
      "execution_count": 18,
      "outputs": []
    },
    {
      "cell_type": "markdown",
      "source": [
        "## *Mean square error*\n",
        "Measures the average error between the original and predicted values."
      ],
      "metadata": {
        "id": "O5qQ7mEcW_x9"
      }
    },
    {
      "cell_type": "code",
      "source": [
        "from sklearn.metrics import mean_squared_error"
      ],
      "metadata": {
        "id": "2MyI37mDXGss"
      },
      "execution_count": 19,
      "outputs": []
    },
    {
      "cell_type": "markdown",
      "source": [
        "# **Gradient Boosting**\n",
        "\n",
        "It is an algorithm that uses such complex algorithms. That is perfected according to the learning rate assigned by the user. In such a way that each tree will become better than the previous one. And the predicted value is going to average the predictions of the weakest algorithms."
      ],
      "metadata": {
        "id": "96SbaBbiXi5L"
      }
    },
    {
      "cell_type": "code",
      "source": [
        "from sklearn.ensemble import GradientBoostingRegressor"
      ],
      "metadata": {
        "id": "pcic8pflXqLd"
      },
      "execution_count": 20,
      "outputs": []
    },
    {
      "cell_type": "code",
      "source": [
        "def evaluate(max_depth,lr):\n",
        "    \n",
        "    estimator_list=[]\n",
        "    mse_train_list=[]\n",
        "    mse_test_list=[]\n",
        "\n",
        "    estimators=np.arange(100,1000,step=2)\n",
        "    for estimator in estimators:\n",
        "      \n",
        "        model=GradientBoostingRegressor(max_depth=max_depth,n_estimators=estimator,learning_rate=lr,random_state=42)\n",
        "        model=Pipeline([(\"transform\",tf_colummns),(\"model\",model)])\n",
        "        model.fit(X_train,Y_train)\n",
        "        pred_train=model.predict(X_train)\n",
        "        pred_test=model.predict(X_test)\n",
        "        \n",
        "        mse_train=mean_squared_error(Y_train,pred_train)\n",
        "        mse_test=mean_squared_error(Y_test,pred_test)\n",
        "        \n",
        "        estimator_list.append(estimator)\n",
        "        mse_test_list.append(mse_test)\n",
        "        mse_train_list.append(mse_train)\n",
        "\n",
        "        \n",
        "    return estimator_list,mse_test_list,mse_train_list"
      ],
      "metadata": {
        "id": "ewz8sjXKX66h"
      },
      "execution_count": 21,
      "outputs": []
    },
    {
      "cell_type": "code",
      "source": [
        "def dataframe_evaluate_trees(max_depth,lr):\n",
        "  \n",
        "    n_trees,mse_test,mse_train=evaluate(max_depth=max_depth,lr=lr)\n",
        "\n",
        "    df_evaluate=pd.DataFrame({\"n_trees\": n_trees,\"mse_test\":mse_test,\"mse_train\":mse_train}) \n",
        "  \n",
        "    return df_evaluate"
      ],
      "metadata": {
        "id": "Mt2f4-Z-YZsw"
      },
      "execution_count": 22,
      "outputs": []
    },
    {
      "cell_type": "code",
      "source": [
        "first_evaluete=dataframe_evaluate_trees(max_depth=2,lr=0.01)"
      ],
      "metadata": {
        "id": "MIldZkYNYlNJ"
      },
      "execution_count": 23,
      "outputs": []
    },
    {
      "cell_type": "code",
      "source": [
        "second_evalue=dataframe_evaluate_trees(max_depth=3,lr=0.01)"
      ],
      "metadata": {
        "id": "Xd68dNgvZLTU"
      },
      "execution_count": 24,
      "outputs": []
    },
    {
      "cell_type": "markdown",
      "source": [
        "### *Ideal number of estimators*"
      ],
      "metadata": {
        "id": "Pzbl7sL5beWT"
      }
    },
    {
      "cell_type": "code",
      "source": [
        "sns.set_style(style=\"whitegrid\")\n",
        "fig,(ax,ax_1)=plt.subplots(1,2,figsize=(20,8))\n",
        "\n",
        "ax.set_title(\"Max depth 2\")\n",
        "ax.plot(first_evaluete[\"n_trees\"],first_evaluete[\"mse_train\"],label=\"Train MSE\")\n",
        "ax.plot(first_evaluete[\"n_trees\"],first_evaluete[\"mse_test\"],label=\"Test MSE\")\n",
        "ax.set_xlabel(\"n_estimators\")\n",
        "ax.set_ylabel(\"mse\")\n",
        "    \n",
        "ax_1.set_title(\"Max depth 3\")\n",
        "ax_1.plot(second_evalue[\"n_trees\"],second_evalue[\"mse_train\"],label=\"Train MSE\")\n",
        "ax_1.plot(second_evalue[\"n_trees\"],second_evalue[\"mse_test\"],label=\"Test MSE\")\n",
        "ax_1.set_xlabel(\"n_estimators\")\n",
        "ax_1.set_ylabel(\"mse\")\n",
        "    \n",
        "\n",
        "    \n",
        "ax.legend()\n",
        "ax_1.legend()\n",
        "\n",
        "\n",
        "plt.show()"
      ],
      "metadata": {
        "colab": {
          "base_uri": "https://localhost:8080/",
          "height": 374
        },
        "id": "9vf1MtBqZRbz",
        "outputId": "19a7de63-7aa8-41ea-e1d2-eb3f34efb1a3"
      },
      "execution_count": 25,
      "outputs": [
        {
          "output_type": "display_data",
          "data": {
            "text/plain": [
              "<Figure size 1440x576 with 2 Axes>"
            ],
            "image/png": "[encoded data removed]"
          },
          "metadata": {}
        }
      ]
    },
    {
      "cell_type": "markdown",
      "source": [
        "With a maximum depth of 2 there is less overfitting. The ideal number of estimators for this model ranges from **600** to **650**."
      ],
      "metadata": {
        "id": "vDXJeiZOgePN"
      }
    },
    {
      "cell_type": "code",
      "source": [
        "first_evaluete.query(\"n_trees>=610 and n_trees<=650\")"
      ],
      "metadata": {
        "colab": {
          "base_uri": "https://localhost:8080/",
          "height": 708
        },
        "id": "5FZ9Rjtlb2J7",
        "outputId": "117a0d28-9bec-4818-a327-522489ed44ae"
      },
      "execution_count": 26,
      "outputs": [
        {
          "output_type": "execute_result",
          "data": {
            "text/plain": [
              "     n_trees      mse_test     mse_train\n",
              "255      610  2.573382e+06  2.035120e+06\n",
              "256      612  2.569730e+06  2.030027e+06\n",
              "257      614  2.567193e+06  2.027725e+06\n",
              "258      616  2.563711e+06  2.020486e+06\n",
              "259      618  2.562565e+06  2.017820e+06\n",
              "260      620  2.558399e+06  2.012292e+06\n",
              "261      622  2.555605e+06  2.009786e+06\n",
              "262      624  2.550161e+06  2.004448e+06\n",
              "263      626  2.547803e+06  1.999737e+06\n",
              "264      628  2.545697e+06  1.996426e+06\n",
              "265      630  2.539644e+06  1.989649e+06\n",
              "266      632  2.535433e+06  1.984598e+06\n",
              "267      634  2.534456e+06  1.982152e+06\n",
              "268      636  2.531520e+06  1.978980e+06\n",
              "269      638  2.529817e+06  1.973510e+06\n",
              "270      640  2.525128e+06  1.968694e+06\n",
              "271      642  2.522637e+06  1.966628e+06\n",
              "272      644  2.519831e+06  1.963609e+06\n",
              "273      646  2.518178e+06  1.955914e+06\n",
              "274      648  2.514168e+06  1.951191e+06\n",
              "275      650  2.509063e+06  1.944993e+06"
            ],
            "text/html": [
              "\n",
              "  <div id=\"df-13838827-3672-4084-9284-f1cece0800d0\">\n",
              "    <div class=\"colab-df-container\">\n",
              "      <div>\n",
              "<style scoped>\n",
              "    .dataframe tbody tr th:only-of-type {\n",
              "        vertical-align: middle;\n",
              "    }\n",
              "\n",
              "    .dataframe tbody tr th {\n",
              "        vertical-align: top;\n",
              "    }\n",
              "\n",
              "    .dataframe thead th {\n",
              "        text-align: right;\n",
              "    }\n",
              "</style>\n",
              "<table border=\"1\" class=\"dataframe\">\n",
              "  <thead>\n",
              "    <tr style=\"text-align: right;\">\n",
              "      <th></th>\n",
              "      <th>n_trees</th>\n",
              "      <th>mse_test</th>\n",
              "      <th>mse_train</th>\n",
              "    </tr>\n",
              "  </thead>\n",
              "  <tbody>\n",
              "    <tr>\n",
              "      <th>255</th>\n",
              "      <td>610</td>\n",
              "      <td>2.573382e+06</td>\n",
              "      <td>2.035120e+06</td>\n",
              "    </tr>\n",
              "    <tr>\n",
              "      <th>256</th>\n",
              "      <td>612</td>\n",
              "      <td>2.569730e+06</td>\n",
              "      <td>2.030027e+06</td>\n",
              "    </tr>\n",
              "    <tr>\n",
              "      <th>257</th>\n",
              "      <td>614</td>\n",
              "      <td>2.567193e+06</td>\n",
              "      <td>2.027725e+06</td>\n",
              "    </tr>\n",
              "    <tr>\n",
              "      <th>258</th>\n",
              "      <td>616</td>\n",
              "      <td>2.563711e+06</td>\n",
              "      <td>2.020486e+06</td>\n",
              "    </tr>\n",
              "    <tr>\n",
              "      <th>259</th>\n",
              "      <td>618</td>\n",
              "      <td>2.562565e+06</td>\n",
              "      <td>2.017820e+06</td>\n",
              "    </tr>\n",
              "    <tr>\n",
              "      <th>260</th>\n",
              "      <td>620</td>\n",
              "      <td>2.558399e+06</td>\n",
              "      <td>2.012292e+06</td>\n",
              "    </tr>\n",
              "    <tr>\n",
              "      <th>261</th>\n",
              "      <td>622</td>\n",
              "      <td>2.555605e+06</td>\n",
              "      <td>2.009786e+06</td>\n",
              "    </tr>\n",
              "    <tr>\n",
              "      <th>262</th>\n",
              "      <td>624</td>\n",
              "      <td>2.550161e+06</td>\n",
              "      <td>2.004448e+06</td>\n",
              "    </tr>\n",
              "    <tr>\n",
              "      <th>263</th>\n",
              "      <td>626</td>\n",
              "      <td>2.547803e+06</td>\n",
              "      <td>1.999737e+06</td>\n",
              "    </tr>\n",
              "    <tr>\n",
              "      <th>264</th>\n",
              "      <td>628</td>\n",
              "      <td>2.545697e+06</td>\n",
              "      <td>1.996426e+06</td>\n",
              "    </tr>\n",
              "    <tr>\n",
              "      <th>265</th>\n",
              "      <td>630</td>\n",
              "      <td>2.539644e+06</td>\n",
              "      <td>1.989649e+06</td>\n",
              "    </tr>\n",
              "    <tr>\n",
              "      <th>266</th>\n",
              "      <td>632</td>\n",
              "      <td>2.535433e+06</td>\n",
              "      <td>1.984598e+06</td>\n",
              "    </tr>\n",
              "    <tr>\n",
              "      <th>267</th>\n",
              "      <td>634</td>\n",
              "      <td>2.534456e+06</td>\n",
              "      <td>1.982152e+06</td>\n",
              "    </tr>\n",
              "    <tr>\n",
              "      <th>268</th>\n",
              "      <td>636</td>\n",
              "      <td>2.531520e+06</td>\n",
              "      <td>1.978980e+06</td>\n",
              "    </tr>\n",
              "    <tr>\n",
              "      <th>269</th>\n",
              "      <td>638</td>\n",
              "      <td>2.529817e+06</td>\n",
              "      <td>1.973510e+06</td>\n",
              "    </tr>\n",
              "    <tr>\n",
              "      <th>270</th>\n",
              "      <td>640</td>\n",
              "      <td>2.525128e+06</td>\n",
              "      <td>1.968694e+06</td>\n",
              "    </tr>\n",
              "    <tr>\n",
              "      <th>271</th>\n",
              "      <td>642</td>\n",
              "      <td>2.522637e+06</td>\n",
              "      <td>1.966628e+06</td>\n",
              "    </tr>\n",
              "    <tr>\n",
              "      <th>272</th>\n",
              "      <td>644</td>\n",
              "      <td>2.519831e+06</td>\n",
              "      <td>1.963609e+06</td>\n",
              "    </tr>\n",
              "    <tr>\n",
              "      <th>273</th>\n",
              "      <td>646</td>\n",
              "      <td>2.518178e+06</td>\n",
              "      <td>1.955914e+06</td>\n",
              "    </tr>\n",
              "    <tr>\n",
              "      <th>274</th>\n",
              "      <td>648</td>\n",
              "      <td>2.514168e+06</td>\n",
              "      <td>1.951191e+06</td>\n",
              "    </tr>\n",
              "    <tr>\n",
              "      <th>275</th>\n",
              "      <td>650</td>\n",
              "      <td>2.509063e+06</td>\n",
              "      <td>1.944993e+06</td>\n",
              "    </tr>\n",
              "  </tbody>\n",
              "</table>\n",
              "</div>\n",
              "      <button class=\"colab-df-convert\" onclick=\"convertToInteractive('df-13838827-3672-4084-9284-f1cece0800d0')\"\n",
              "              title=\"Convert this dataframe to an interactive table.\"\n",
              "              style=\"display:none;\">\n",
              "        \n",
              "  <svg xmlns=\"http://www.w3.org/2000/svg\" height=\"24px\"viewBox=\"0 0 24 24\"\n",
              "       width=\"24px\">\n",
              "    <path d=\"M0 0h24v24H0V0z\" fill=\"none\"/>\n",
              "    <path d=\"M18.56 5.44l.94 2.06.94-2.06 2.06-.94-2.06-.94-.94-2.06-.94 2.06-2.06.94zm-11 1L8.5 8.5l.94-2.06 2.06-.94-2.06-.94L8.5 2.5l-.94 2.06-2.06.94zm10 10l.94 2.06.94-2.06 2.06-.94-2.06-.94-.94-2.06-.94 2.06-2.06.94z\"/><path d=\"M17.41 7.96l-1.37-1.37c-.4-.4-.92-.59-1.43-.59-.52 0-1.04.2-1.43.59L10.3 9.45l-7.72 7.72c-.78.78-.78 2.05 0 2.83L4 21.41c.39.39.9.59 1.41.59.51 0 1.02-.2 1.41-.59l7.78-7.78 2.81-2.81c.8-.78.8-2.07 0-2.86zM5.41 20L4 18.59l7.72-7.72 1.47 1.35L5.41 20z\"/>\n",
              "  </svg>\n",
              "      </button>\n",
              "      \n",
              "  <style>\n",
              "    .colab-df-container {\n",
              "      display:flex;\n",
              "      flex-wrap:wrap;\n",
              "      gap: 12px;\n",
              "    }\n",
              "\n",
              "    .colab-df-convert {\n",
              "      background-color: #E8F0FE;\n",
              "      border: none;\n",
              "      border-radius: 50%;\n",
              "      cursor: pointer;\n",
              "      display: none;\n",
              "      fill: #1967D2;\n",
              "      height: 32px;\n",
              "      padding: 0 0 0 0;\n",
              "      width: 32px;\n",
              "    }\n",
              "\n",
              "    .colab-df-convert:hover {\n",
              "      background-color: #E2EBFA;\n",
              "      box-shadow: 0px 1px 2px rgba(60, 64, 67, 0.3), 0px 1px 3px 1px rgba(60, 64, 67, 0.15);\n",
              "      fill: #174EA6;\n",
              "    }\n",
              "\n",
              "    [theme=dark] .colab-df-convert {\n",
              "      background-color: #3B4455;\n",
              "      fill: #D2E3FC;\n",
              "    }\n",
              "\n",
              "    [theme=dark] .colab-df-convert:hover {\n",
              "      background-color: #434B5C;\n",
              "      box-shadow: 0px 1px 3px 1px rgba(0, 0, 0, 0.15);\n",
              "      filter: drop-shadow(0px 1px 2px rgba(0, 0, 0, 0.3));\n",
              "      fill: #FFFFFF;\n",
              "    }\n",
              "  </style>\n",
              "\n",
              "      <script>\n",
              "        const buttonEl =\n",
              "          document.querySelector('#df-13838827-3672-4084-9284-f1cece0800d0 button.colab-df-convert');\n",
              "        buttonEl.style.display =\n",
              "          google.colab.kernel.accessAllowed ? 'block' : 'none';\n",
              "\n",
              "        async function convertToInteractive(key) {\n",
              "          const element = document.querySelector('#df-13838827-3672-4084-9284-f1cece0800d0');\n",
              "          const dataTable =\n",
              "            await google.colab.kernel.invokeFunction('convertToInteractive',\n",
              "                                                     [key], {});\n",
              "          if (!dataTable) return;\n",
              "\n",
              "          const docLinkHtml = 'Like what you see? Visit the ' +\n",
              "            '<a target=\"_blank\" href=https://colab.research.google.com/notebooks/data_table.ipynb>data table notebook</a>'\n",
              "            + ' to learn more about interactive tables.';\n",
              "          element.innerHTML = '';\n",
              "          dataTable['output_type'] = 'display_data';\n",
              "          await google.colab.output.renderOutput(dataTable, element);\n",
              "          const docLink = document.createElement('div');\n",
              "          docLink.innerHTML = docLinkHtml;\n",
              "          element.appendChild(docLink);\n",
              "        }\n",
              "      </script>\n",
              "    </div>\n",
              "  </div>\n",
              "  "
            ]
          },
          "metadata": {},
          "execution_count": 26
        }
      ]
    },
    {
      "cell_type": "markdown",
      "source": [
        "\n",
        "Starting from the estimator number 630 there is no longer an improvement for the test data."
      ],
      "metadata": {
        "id": "zWN6f6QyheoS"
      }
    },
    {
      "cell_type": "code",
      "source": [
        "gbr=GradientBoostingRegressor(max_depth=2,\n",
        "                          learning_rate=0.01,\n",
        "                          n_estimators=630,\n",
        "                          random_state=42)"
      ],
      "metadata": {
        "id": "_DVKG_29bif8"
      },
      "execution_count": 27,
      "outputs": []
    },
    {
      "cell_type": "code",
      "source": [
        "gbr_pipeline=Pipeline([('preprocess',tf_colummns),\n",
        "                       ('gbr',gbr)])"
      ],
      "metadata": {
        "id": "VT7EMw5Mcfmn"
      },
      "execution_count": 42,
      "outputs": []
    },
    {
      "cell_type": "code",
      "source": [
        "gbr_pipeline.fit(X_train,Y_train)"
      ],
      "metadata": {
        "colab": {
          "base_uri": "https://localhost:8080/"
        },
        "id": "7yKZyROpcho-",
        "outputId": "a962bb2f-6623-40d7-8dd2-70e7a6c507a3"
      },
      "execution_count": 43,
      "outputs": [
        {
          "output_type": "execute_result",
          "data": {
            "text/plain": [
              "Pipeline(steps=[('preprocess',\n",
              "                 ColumnTransformer(transformers=[('minmaxscaler',\n",
              "                                                  MinMaxScaler(),\n",
              "                                                  ['age', 'bmi', 'children']),\n",
              "                                                 ('onehotencoder',\n",
              "                                                  OneHotEncoder(drop='if_binary'),\n",
              "                                                  ['region', 'sex',\n",
              "                                                   'smoker'])])),\n",
              "                ('gbr',\n",
              "                 GradientBoostingRegressor(learning_rate=0.01, max_depth=2,\n",
              "                                           n_estimators=630,\n",
              "                                           random_state=42))])"
            ]
          },
          "metadata": {},
          "execution_count": 43
        }
      ]
    },
    {
      "cell_type": "code",
      "source": [
        "gbr_pipeline.score(X_train,Y_train) # evaluate with training data"
      ],
      "metadata": {
        "colab": {
          "base_uri": "https://localhost:8080/"
        },
        "id": "-5TwJpF4dCn9",
        "outputId": "9871d93c-b7fc-4f62-99f8-ff607f83fa39"
      },
      "execution_count": 44,
      "outputs": [
        {
          "output_type": "execute_result",
          "data": {
            "text/plain": [
              "0.9852488568613742"
            ]
          },
          "metadata": {},
          "execution_count": 44
        }
      ]
    },
    {
      "cell_type": "code",
      "source": [
        "gbr_pipeline.score(X_test,Y_test) # evaluate with test data"
      ],
      "metadata": {
        "colab": {
          "base_uri": "https://localhost:8080/"
        },
        "id": "uxgmIN9Zcldm",
        "outputId": "e3b40155-e518-4923-dcdb-c61af7c37c20"
      },
      "execution_count": 45,
      "outputs": [
        {
          "output_type": "execute_result",
          "data": {
            "text/plain": [
              "0.9817020077116009"
            ]
          },
          "metadata": {},
          "execution_count": 45
        }
      ]
    },
    {
      "cell_type": "markdown",
      "source": [
        "# *XGBOOST*\n",
        "\n",
        "It is similar to adaboost. With the difference that xgboost can be used with GPU. Which training will be faster."
      ],
      "metadata": {
        "id": "GgyRWgPLdWGi"
      }
    },
    {
      "cell_type": "code",
      "source": [
        "from xgboost import XGBRegressor"
      ],
      "metadata": {
        "id": "uNTjA5wabxNC"
      },
      "execution_count": 32,
      "outputs": []
    },
    {
      "cell_type": "markdown",
      "source": [
        "## *Selection number of estimators XGBOOST*"
      ],
      "metadata": {
        "id": "hH-PfzgQeJIA"
      }
    },
    {
      "cell_type": "code",
      "source": [
        "def evaluate(max_depth,lr):\n",
        "    \n",
        "    estimator_list=[]\n",
        "    mse_train_list=[]\n",
        "    mse_test_list=[]\n",
        "    \n",
        "    estimators=np.arange(100,1000,step=2)\n",
        "    for estimator in estimators:\n",
        "      \n",
        "        model=XGBRegressor(max_depth=max_depth,n_estimators=estimator,learning_rate=lr,random_state=42,verbosity=0)\n",
        "        model=Pipeline([(\"transform\",tf_colummns),(\"model\",model)])\n",
        "        model.fit(X_train,Y_train)\n",
        "        pred_train=model.predict(X_train)\n",
        "        pred_test=model.predict(X_test)\n",
        "        \n",
        "        mse_train=mean_squared_error(Y_train,pred_train)\n",
        "        mse_test=mean_squared_error(Y_test,pred_test)\n",
        "        \n",
        "        estimator_list.append(estimator)\n",
        "        mse_test_list.append(mse_test)\n",
        "        mse_train_list.append(mse_train)\n",
        "\n",
        "        \n",
        "    return estimator_list,mse_test_list,mse_train_list"
      ],
      "metadata": {
        "id": "jsTqIqgldxlh"
      },
      "execution_count": 33,
      "outputs": []
    },
    {
      "cell_type": "code",
      "source": [
        "first_evaluete=dataframe_evaluate_trees(max_depth=2,lr=0.01)"
      ],
      "metadata": {
        "id": "57XmsP4KefZo"
      },
      "execution_count": 34,
      "outputs": []
    },
    {
      "cell_type": "code",
      "source": [
        "second_evaluete=dataframe_evaluate_trees(max_depth=3,lr=0.01)"
      ],
      "metadata": {
        "id": "u4iDJV6XfORr"
      },
      "execution_count": 35,
      "outputs": []
    },
    {
      "cell_type": "code",
      "source": [
        "sns.set_style(style=\"whitegrid\")\n",
        "fig,(ax,ax_1)=plt.subplots(1,2,figsize=(20,8))\n",
        "\n",
        "ax.set_title(\"Max depth 2\")\n",
        "ax.plot(first_evaluete[\"n_trees\"],first_evaluete[\"mse_train\"],label=\"Train MSE\")\n",
        "ax.plot(first_evaluete[\"n_trees\"],first_evaluete[\"mse_test\"],label=\"Test MSE\")\n",
        "ax.set_xlabel(\"n_estimators\")\n",
        "ax.set_ylabel(\"mse\")\n",
        "    \n",
        "ax_1.set_title(\"Max depth 3\")\n",
        "ax_1.plot(second_evalue[\"n_trees\"],second_evalue[\"mse_train\"],label=\"Train MSE\")\n",
        "ax_1.plot(second_evalue[\"n_trees\"],second_evalue[\"mse_test\"],label=\"Test MSE\")\n",
        "ax_1.set_xlabel(\"n_estimators\")\n",
        "ax_1.set_ylabel(\"mse\")\n",
        "    \n",
        "\n",
        "    \n",
        "ax.legend()\n",
        "ax_1.legend()\n",
        "\n",
        "\n",
        "plt.show()"
      ],
      "metadata": {
        "colab": {
          "base_uri": "https://localhost:8080/",
          "height": 377
        },
        "id": "VvUMzV4NfTmD",
        "outputId": "2e01908a-1e41-41ba-a126-bcd920745bce"
      },
      "execution_count": 36,
      "outputs": [
        {
          "output_type": "display_data",
          "data": {
            "text/plain": [
              "<Figure size 1440x576 with 2 Axes>"
            ],
            "image/png": "[encoded data removed]"
          },
          "metadata": {}
        }
      ]
    },
    {
      "cell_type": "markdown",
      "source": [
        "\n",
        "It happens in a similar way. With the difference that I can use more estimator without overfitting the model. The ideal range is between **600** to **650** estimators. Since from this amount, the error does not decrease drastically for the test data."
      ],
      "metadata": {
        "id": "VFz7kcKth2qR"
      }
    },
    {
      "cell_type": "code",
      "source": [
        "first_evaluete.query(\"n_trees>=600 and n_trees<=650\")"
      ],
      "metadata": {
        "colab": {
          "base_uri": "https://localhost:8080/",
          "height": 865
        },
        "id": "IenIjWWyh9gJ",
        "outputId": "875f1caf-4c87-4db7-e7f0-6ae5241c38ef"
      },
      "execution_count": 81,
      "outputs": [
        {
          "output_type": "execute_result",
          "data": {
            "text/plain": [
              "     n_trees      mse_test     mse_train\n",
              "250      600  2.583526e+06  2.098288e+06\n",
              "251      602  2.580685e+06  2.095789e+06\n",
              "252      604  2.579417e+06  2.091601e+06\n",
              "253      606  2.575930e+06  2.086473e+06\n",
              "254      608  2.573907e+06  2.083187e+06\n",
              "255      610  2.568440e+06  2.077505e+06\n",
              "256      612  2.566746e+06  2.071262e+06\n",
              "257      614  2.565072e+06  2.068420e+06\n",
              "258      616  2.562253e+06  2.065196e+06\n",
              "259      618  2.558028e+06  2.059896e+06\n",
              "260      620  2.555405e+06  2.056877e+06\n",
              "261      622  2.553836e+06  2.051443e+06\n",
              "262      624  2.549749e+06  2.046255e+06\n",
              "263      626  2.546846e+06  2.043204e+06\n",
              "264      628  2.544266e+06  2.040766e+06\n",
              "265      630  2.541228e+06  2.036212e+06\n",
              "266      632  2.537496e+06  2.030277e+06\n",
              "267      634  2.534912e+06  2.028028e+06\n",
              "268      636  2.532498e+06  2.025265e+06\n",
              "269      638  2.530372e+06  2.019497e+06\n",
              "270      640  2.526840e+06  2.014488e+06\n",
              "271      642  2.524499e+06  2.012323e+06\n",
              "272      644  2.522096e+06  2.010106e+06\n",
              "273      646  2.518522e+06  2.005413e+06\n",
              "274      648  2.515825e+06  2.001244e+06\n",
              "275      650  2.514029e+06  1.998535e+06"
            ],
            "text/html": [
              "\n",
              "  <div id=\"df-6b3f58b4-8282-4ec8-99ed-d8a16337b9c4\">\n",
              "    <div class=\"colab-df-container\">\n",
              "      <div>\n",
              "<style scoped>\n",
              "    .dataframe tbody tr th:only-of-type {\n",
              "        vertical-align: middle;\n",
              "    }\n",
              "\n",
              "    .dataframe tbody tr th {\n",
              "        vertical-align: top;\n",
              "    }\n",
              "\n",
              "    .dataframe thead th {\n",
              "        text-align: right;\n",
              "    }\n",
              "</style>\n",
              "<table border=\"1\" class=\"dataframe\">\n",
              "  <thead>\n",
              "    <tr style=\"text-align: right;\">\n",
              "      <th></th>\n",
              "      <th>n_trees</th>\n",
              "      <th>mse_test</th>\n",
              "      <th>mse_train</th>\n",
              "    </tr>\n",
              "  </thead>\n",
              "  <tbody>\n",
              "    <tr>\n",
              "      <th>250</th>\n",
              "      <td>600</td>\n",
              "      <td>2.583526e+06</td>\n",
              "      <td>2.098288e+06</td>\n",
              "    </tr>\n",
              "    <tr>\n",
              "      <th>251</th>\n",
              "      <td>602</td>\n",
              "      <td>2.580685e+06</td>\n",
              "      <td>2.095789e+06</td>\n",
              "    </tr>\n",
              "    <tr>\n",
              "      <th>252</th>\n",
              "      <td>604</td>\n",
              "      <td>2.579417e+06</td>\n",
              "      <td>2.091601e+06</td>\n",
              "    </tr>\n",
              "    <tr>\n",
              "      <th>253</th>\n",
              "      <td>606</td>\n",
              "      <td>2.575930e+06</td>\n",
              "      <td>2.086473e+06</td>\n",
              "    </tr>\n",
              "    <tr>\n",
              "      <th>254</th>\n",
              "      <td>608</td>\n",
              "      <td>2.573907e+06</td>\n",
              "      <td>2.083187e+06</td>\n",
              "    </tr>\n",
              "    <tr>\n",
              "      <th>255</th>\n",
              "      <td>610</td>\n",
              "      <td>2.568440e+06</td>\n",
              "      <td>2.077505e+06</td>\n",
              "    </tr>\n",
              "    <tr>\n",
              "      <th>256</th>\n",
              "      <td>612</td>\n",
              "      <td>2.566746e+06</td>\n",
              "      <td>2.071262e+06</td>\n",
              "    </tr>\n",
              "    <tr>\n",
              "      <th>257</th>\n",
              "      <td>614</td>\n",
              "      <td>2.565072e+06</td>\n",
              "      <td>2.068420e+06</td>\n",
              "    </tr>\n",
              "    <tr>\n",
              "      <th>258</th>\n",
              "      <td>616</td>\n",
              "      <td>2.562253e+06</td>\n",
              "      <td>2.065196e+06</td>\n",
              "    </tr>\n",
              "    <tr>\n",
              "      <th>259</th>\n",
              "      <td>618</td>\n",
              "      <td>2.558028e+06</td>\n",
              "      <td>2.059896e+06</td>\n",
              "    </tr>\n",
              "    <tr>\n",
              "      <th>260</th>\n",
              "      <td>620</td>\n",
              "      <td>2.555405e+06</td>\n",
              "      <td>2.056877e+06</td>\n",
              "    </tr>\n",
              "    <tr>\n",
              "      <th>261</th>\n",
              "      <td>622</td>\n",
              "      <td>2.553836e+06</td>\n",
              "      <td>2.051443e+06</td>\n",
              "    </tr>\n",
              "    <tr>\n",
              "      <th>262</th>\n",
              "      <td>624</td>\n",
              "      <td>2.549749e+06</td>\n",
              "      <td>2.046255e+06</td>\n",
              "    </tr>\n",
              "    <tr>\n",
              "      <th>263</th>\n",
              "      <td>626</td>\n",
              "      <td>2.546846e+06</td>\n",
              "      <td>2.043204e+06</td>\n",
              "    </tr>\n",
              "    <tr>\n",
              "      <th>264</th>\n",
              "      <td>628</td>\n",
              "      <td>2.544266e+06</td>\n",
              "      <td>2.040766e+06</td>\n",
              "    </tr>\n",
              "    <tr>\n",
              "      <th>265</th>\n",
              "      <td>630</td>\n",
              "      <td>2.541228e+06</td>\n",
              "      <td>2.036212e+06</td>\n",
              "    </tr>\n",
              "    <tr>\n",
              "      <th>266</th>\n",
              "      <td>632</td>\n",
              "      <td>2.537496e+06</td>\n",
              "      <td>2.030277e+06</td>\n",
              "    </tr>\n",
              "    <tr>\n",
              "      <th>267</th>\n",
              "      <td>634</td>\n",
              "      <td>2.534912e+06</td>\n",
              "      <td>2.028028e+06</td>\n",
              "    </tr>\n",
              "    <tr>\n",
              "      <th>268</th>\n",
              "      <td>636</td>\n",
              "      <td>2.532498e+06</td>\n",
              "      <td>2.025265e+06</td>\n",
              "    </tr>\n",
              "    <tr>\n",
              "      <th>269</th>\n",
              "      <td>638</td>\n",
              "      <td>2.530372e+06</td>\n",
              "      <td>2.019497e+06</td>\n",
              "    </tr>\n",
              "    <tr>\n",
              "      <th>270</th>\n",
              "      <td>640</td>\n",
              "      <td>2.526840e+06</td>\n",
              "      <td>2.014488e+06</td>\n",
              "    </tr>\n",
              "    <tr>\n",
              "      <th>271</th>\n",
              "      <td>642</td>\n",
              "      <td>2.524499e+06</td>\n",
              "      <td>2.012323e+06</td>\n",
              "    </tr>\n",
              "    <tr>\n",
              "      <th>272</th>\n",
              "      <td>644</td>\n",
              "      <td>2.522096e+06</td>\n",
              "      <td>2.010106e+06</td>\n",
              "    </tr>\n",
              "    <tr>\n",
              "      <th>273</th>\n",
              "      <td>646</td>\n",
              "      <td>2.518522e+06</td>\n",
              "      <td>2.005413e+06</td>\n",
              "    </tr>\n",
              "    <tr>\n",
              "      <th>274</th>\n",
              "      <td>648</td>\n",
              "      <td>2.515825e+06</td>\n",
              "      <td>2.001244e+06</td>\n",
              "    </tr>\n",
              "    <tr>\n",
              "      <th>275</th>\n",
              "      <td>650</td>\n",
              "      <td>2.514029e+06</td>\n",
              "      <td>1.998535e+06</td>\n",
              "    </tr>\n",
              "  </tbody>\n",
              "</table>\n",
              "</div>\n",
              "      <button class=\"colab-df-convert\" onclick=\"convertToInteractive('df-6b3f58b4-8282-4ec8-99ed-d8a16337b9c4')\"\n",
              "              title=\"Convert this dataframe to an interactive table.\"\n",
              "              style=\"display:none;\">\n",
              "        \n",
              "  <svg xmlns=\"http://www.w3.org/2000/svg\" height=\"24px\"viewBox=\"0 0 24 24\"\n",
              "       width=\"24px\">\n",
              "    <path d=\"M0 0h24v24H0V0z\" fill=\"none\"/>\n",
              "    <path d=\"M18.56 5.44l.94 2.06.94-2.06 2.06-.94-2.06-.94-.94-2.06-.94 2.06-2.06.94zm-11 1L8.5 8.5l.94-2.06 2.06-.94-2.06-.94L8.5 2.5l-.94 2.06-2.06.94zm10 10l.94 2.06.94-2.06 2.06-.94-2.06-.94-.94-2.06-.94 2.06-2.06.94z\"/><path d=\"M17.41 7.96l-1.37-1.37c-.4-.4-.92-.59-1.43-.59-.52 0-1.04.2-1.43.59L10.3 9.45l-7.72 7.72c-.78.78-.78 2.05 0 2.83L4 21.41c.39.39.9.59 1.41.59.51 0 1.02-.2 1.41-.59l7.78-7.78 2.81-2.81c.8-.78.8-2.07 0-2.86zM5.41 20L4 18.59l7.72-7.72 1.47 1.35L5.41 20z\"/>\n",
              "  </svg>\n",
              "      </button>\n",
              "      \n",
              "  <style>\n",
              "    .colab-df-container {\n",
              "      display:flex;\n",
              "      flex-wrap:wrap;\n",
              "      gap: 12px;\n",
              "    }\n",
              "\n",
              "    .colab-df-convert {\n",
              "      background-color: #E8F0FE;\n",
              "      border: none;\n",
              "      border-radius: 50%;\n",
              "      cursor: pointer;\n",
              "      display: none;\n",
              "      fill: #1967D2;\n",
              "      height: 32px;\n",
              "      padding: 0 0 0 0;\n",
              "      width: 32px;\n",
              "    }\n",
              "\n",
              "    .colab-df-convert:hover {\n",
              "      background-color: #E2EBFA;\n",
              "      box-shadow: 0px 1px 2px rgba(60, 64, 67, 0.3), 0px 1px 3px 1px rgba(60, 64, 67, 0.15);\n",
              "      fill: #174EA6;\n",
              "    }\n",
              "\n",
              "    [theme=dark] .colab-df-convert {\n",
              "      background-color: #3B4455;\n",
              "      fill: #D2E3FC;\n",
              "    }\n",
              "\n",
              "    [theme=dark] .colab-df-convert:hover {\n",
              "      background-color: #434B5C;\n",
              "      box-shadow: 0px 1px 3px 1px rgba(0, 0, 0, 0.15);\n",
              "      filter: drop-shadow(0px 1px 2px rgba(0, 0, 0, 0.3));\n",
              "      fill: #FFFFFF;\n",
              "    }\n",
              "  </style>\n",
              "\n",
              "      <script>\n",
              "        const buttonEl =\n",
              "          document.querySelector('#df-6b3f58b4-8282-4ec8-99ed-d8a16337b9c4 button.colab-df-convert');\n",
              "        buttonEl.style.display =\n",
              "          google.colab.kernel.accessAllowed ? 'block' : 'none';\n",
              "\n",
              "        async function convertToInteractive(key) {\n",
              "          const element = document.querySelector('#df-6b3f58b4-8282-4ec8-99ed-d8a16337b9c4');\n",
              "          const dataTable =\n",
              "            await google.colab.kernel.invokeFunction('convertToInteractive',\n",
              "                                                     [key], {});\n",
              "          if (!dataTable) return;\n",
              "\n",
              "          const docLinkHtml = 'Like what you see? Visit the ' +\n",
              "            '<a target=\"_blank\" href=https://colab.research.google.com/notebooks/data_table.ipynb>data table notebook</a>'\n",
              "            + ' to learn more about interactive tables.';\n",
              "          element.innerHTML = '';\n",
              "          dataTable['output_type'] = 'display_data';\n",
              "          await google.colab.output.renderOutput(dataTable, element);\n",
              "          const docLink = document.createElement('div');\n",
              "          docLink.innerHTML = docLinkHtml;\n",
              "          element.appendChild(docLink);\n",
              "        }\n",
              "      </script>\n",
              "    </div>\n",
              "  </div>\n",
              "  "
            ]
          },
          "metadata": {},
          "execution_count": 81
        }
      ]
    },
    {
      "cell_type": "markdown",
      "source": [
        "We select 650. Since from ciho estimator there is no significant improvement."
      ],
      "metadata": {
        "id": "PzLeu9aNi2M9"
      }
    },
    {
      "cell_type": "code",
      "source": [
        "xgb_reg=XGBRegressor(max_depth=2,\n",
        "                     learning_rate=0.01,\n",
        "                     n_estimators=650,\n",
        "                     verbosity=0,\n",
        "                     random_state=42)\n",
        "\n",
        "xgb_pipeline=Pipeline([(\"transform\",tf_colummns),(\"xgb\",xgb_reg)])"
      ],
      "metadata": {
        "id": "Jf7JM25cjBsk"
      },
      "execution_count": 46,
      "outputs": []
    },
    {
      "cell_type": "code",
      "source": [
        "xgb_pipeline.fit(X_train,Y_train)"
      ],
      "metadata": {
        "colab": {
          "base_uri": "https://localhost:8080/"
        },
        "id": "tNPxLHbfjpw7",
        "outputId": "62b30fcc-cfd3-4de7-e79d-e72a619d2a66"
      },
      "execution_count": 47,
      "outputs": [
        {
          "output_type": "execute_result",
          "data": {
            "text/plain": [
              "Pipeline(steps=[('transform',\n",
              "                 ColumnTransformer(transformers=[('minmaxscaler',\n",
              "                                                  MinMaxScaler(),\n",
              "                                                  ['age', 'bmi', 'children']),\n",
              "                                                 ('onehotencoder',\n",
              "                                                  OneHotEncoder(drop='if_binary'),\n",
              "                                                  ['region', 'sex',\n",
              "                                                   'smoker'])])),\n",
              "                ('xgb',\n",
              "                 XGBRegressor(learning_rate=0.01, max_depth=2, n_estimators=650,\n",
              "                              random_state=42, verbosity=0))])"
            ]
          },
          "metadata": {},
          "execution_count": 47
        }
      ]
    },
    {
      "cell_type": "code",
      "source": [
        "xgb_pipeline.score(X_train,Y_train)"
      ],
      "metadata": {
        "colab": {
          "base_uri": "https://localhost:8080/"
        },
        "id": "lmBiBP0FjwI5",
        "outputId": "b9b8c85e-b07b-4b80-fe03-06d982f60d0f"
      },
      "execution_count": 48,
      "outputs": [
        {
          "output_type": "execute_result",
          "data": {
            "text/plain": [
              "0.9851829733145766"
            ]
          },
          "metadata": {},
          "execution_count": 48
        }
      ]
    },
    {
      "cell_type": "code",
      "source": [
        "xgb_pipeline.score(X_test,Y_test)"
      ],
      "metadata": {
        "colab": {
          "base_uri": "https://localhost:8080/"
        },
        "id": "_UlO9o_bjz-S",
        "outputId": "189cce6c-da2a-49c1-f226-38ad18bff76e"
      },
      "execution_count": 49,
      "outputs": [
        {
          "output_type": "execute_result",
          "data": {
            "text/plain": [
              "0.9818865587018973"
            ]
          },
          "metadata": {},
          "execution_count": 49
        }
      ]
    },
    {
      "cell_type": "code",
      "source": [
        "from sklearn.metrics import r2_score\n",
        "from sklearn.model_selection import cross_val_score"
      ],
      "metadata": {
        "id": "NfBXa0gSfZk2"
      },
      "execution_count": 59,
      "outputs": []
    },
    {
      "cell_type": "code",
      "source": [
        "class Evaluete():\n",
        "\n",
        "  def __init__(self,model,X_data,y_true):\n",
        "\n",
        "    self.X_data=X_data\n",
        "    self.y_true=y_true\n",
        "\n",
        "    self.model=model\n",
        "    self.predict=self.model.predict(self.X_data)\n",
        "\n",
        "\n",
        "  def mse(self):\n",
        "\n",
        "    return mean_squared_error(self.y_true,self.predict)\n",
        "\n",
        "  def r2(self):\n",
        "\n",
        "    return r2_score(self.y_true,self.predict)\n",
        "\n",
        "  def cv_score(self):\n",
        "    \n",
        "    return cross_val_score(self.model,self.X_data,self.y_true,cv=10).mean()\n",
        "  "
      ],
      "metadata": {
        "id": "WZJ8KsEwd3BG"
      },
      "execution_count": 73,
      "outputs": []
    },
    {
      "cell_type": "markdown",
      "source": [
        "### **MSE**\n",
        "\n",
        "Measures the average error between the original and predicted values."
      ],
      "metadata": {
        "id": "o3RGHQejhTEn"
      }
    },
    {
      "cell_type": "code",
      "source": [
        "\n",
        "\n",
        "mse_poly_train=Evaluete(lm,X_train_poly,Y_train).mse()\n",
        "mse_poly_test=Evaluete(lm,X_test_poly,Y_test).mse()\n",
        "\n",
        "mse_gbr_train=Evaluete(gbr_pipeline,X_train,Y_train).mse()\n",
        "mse_gbr_test=Evaluete(gbr_pipeline,X_test,Y_test).mse()\n",
        "\n",
        "mse_xgb_train=Evaluete(xgb_pipeline,X_train,Y_train).mse()\n",
        "mse_xgb_test=Evaluete(xgb_pipeline,X_test,Y_test).mse()\n"
      ],
      "metadata": {
        "id": "OgLMj0ABk1r1"
      },
      "execution_count": 65,
      "outputs": []
    },
    {
      "cell_type": "markdown",
      "source": [
        "## **$R²$**\n",
        "\n",
        "\n",
        "It measures the degree of fit between the original value and the predictions. The closer it is to 1, the closer the original and predicted values ​​will be."
      ],
      "metadata": {
        "id": "401nHQMThZTO"
      }
    },
    {
      "cell_type": "code",
      "source": [
        "\n",
        "r2_poly_train=Evaluete(lm,X_train_poly,Y_train).r2()\n",
        "r2_poly_test=Evaluete(lm,X_test_poly,Y_test).r2()\n",
        "\n",
        "r2_gbr_train=Evaluete(gbr_pipeline,X_train,Y_train).r2()\n",
        "r2_gbr_test=Evaluete(gbr_pipeline,X_test,Y_test).r2()\n",
        "\n",
        "r2_xgb_train=Evaluete(xgb_pipeline,X_train,Y_train).r2()\n",
        "r2_xgb_test=Evaluete(xgb_pipeline,X_test,Y_test).r2()"
      ],
      "metadata": {
        "id": "AegqVTc5hXyo"
      },
      "execution_count": 77,
      "outputs": []
    },
    {
      "cell_type": "markdown",
      "source": [
        "### **Cross Validation**"
      ],
      "metadata": {
        "id": "xSA8UEnKlI0S"
      }
    },
    {
      "cell_type": "markdown",
      "source": [
        "It measures the degree of generalization of the model. It divides the data into several subsets by the amount said by the user. To subsequently obtain the average value of generalization."
      ],
      "metadata": {
        "id": "ElAcU5IZkJ_q"
      }
    },
    {
      "cell_type": "code",
      "source": [
        "cv_poly=Evaluete(lm,X_test_poly,Y_test).cv_score()\n",
        "cv_gbr=Evaluete(gbr_pipeline,X_test,Y_test).cv_score()\n",
        "cv_xgb=Evaluete(xgb_pipeline,X_test,Y_test).cv_score()"
      ],
      "metadata": {
        "id": "L15mlOyMlRBN"
      },
      "execution_count": 74,
      "outputs": []
    },
    {
      "cell_type": "markdown",
      "source": [
        "### **Dataframe evaluation**"
      ],
      "metadata": {
        "id": "STCqQNHBluDh"
      }
    },
    {
      "cell_type": "code",
      "source": [
        "models_names=[\"Polynomial Regression\",\"Gradient Boosting\",\"XGBOOST\"]\n",
        "\n",
        "mse_train=[mse_poly_train,mse_gbr_train,mse_xgb_train]\n",
        "mse_test=[mse_poly_test,mse_gbr_test,mse_xgb_test]\n",
        "\n",
        "r2_train=[r2_poly_train,r2_gbr_train,r2_xgb_train]\n",
        "r2_test=[r2_poly_test,r2_gbr_test,r2_xgb_test]\n",
        "\n",
        "cv=[cv_poly,cv_gbr,cv_xgb]\n",
        "\n",
        "evaluate_df=pd.DataFrame({\"Model\":models_names,\n",
        "                          \"MSE train\":mse_train,\n",
        "                          \"MSE test\":mse_test,\n",
        "                          \"R2 train\":r2_train,\n",
        "                          \"R2 test\":r2_test,\n",
        "                          \"CV\":cv})"
      ],
      "metadata": {
        "id": "StxVuJVuli9j"
      },
      "execution_count": 78,
      "outputs": []
    },
    {
      "cell_type": "code",
      "source": [
        "evaluate_df"
      ],
      "metadata": {
        "colab": {
          "base_uri": "https://localhost:8080/",
          "height": 143
        },
        "id": "20yHi37ql2lz",
        "outputId": "9e9d20c2-a071-4c3b-b07b-13d8c816cefb"
      },
      "execution_count": 79,
      "outputs": [
        {
          "output_type": "execute_result",
          "data": {
            "text/plain": [
              "                   Model     MSE train      MSE test  R2 train   R2 test  \\\n",
              "0  Polynomial Regression  4.936247e+06  6.461016e+06  0.963403  0.953449   \n",
              "1      Gradient Boosting  1.989649e+06  2.539644e+06  0.985249  0.981702   \n",
              "2                XGBOOST  1.998535e+06  2.514029e+06  0.985183  0.981887   \n",
              "\n",
              "         CV  \n",
              "0  0.950897  \n",
              "1  0.978221  \n",
              "2  0.979176  "
            ],
            "text/html": [
              "\n",
              "  <div id=\"df-04aa2e04-6ba9-4dba-84e9-6e5642852cd5\">\n",
              "    <div class=\"colab-df-container\">\n",
              "      <div>\n",
              "<style scoped>\n",
              "    .dataframe tbody tr th:only-of-type {\n",
              "        vertical-align: middle;\n",
              "    }\n",
              "\n",
              "    .dataframe tbody tr th {\n",
              "        vertical-align: top;\n",
              "    }\n",
              "\n",
              "    .dataframe thead th {\n",
              "        text-align: right;\n",
              "    }\n",
              "</style>\n",
              "<table border=\"1\" class=\"dataframe\">\n",
              "  <thead>\n",
              "    <tr style=\"text-align: right;\">\n",
              "      <th></th>\n",
              "      <th>Model</th>\n",
              "      <th>MSE train</th>\n",
              "      <th>MSE test</th>\n",
              "      <th>R2 train</th>\n",
              "      <th>R2 test</th>\n",
              "      <th>CV</th>\n",
              "    </tr>\n",
              "  </thead>\n",
              "  <tbody>\n",
              "    <tr>\n",
              "      <th>0</th>\n",
              "      <td>Polynomial Regression</td>\n",
              "      <td>4.936247e+06</td>\n",
              "      <td>6.461016e+06</td>\n",
              "      <td>0.963403</td>\n",
              "      <td>0.953449</td>\n",
              "      <td>0.950897</td>\n",
              "    </tr>\n",
              "    <tr>\n",
              "      <th>1</th>\n",
              "      <td>Gradient Boosting</td>\n",
              "      <td>1.989649e+06</td>\n",
              "      <td>2.539644e+06</td>\n",
              "      <td>0.985249</td>\n",
              "      <td>0.981702</td>\n",
              "      <td>0.978221</td>\n",
              "    </tr>\n",
              "    <tr>\n",
              "      <th>2</th>\n",
              "      <td>XGBOOST</td>\n",
              "      <td>1.998535e+06</td>\n",
              "      <td>2.514029e+06</td>\n",
              "      <td>0.985183</td>\n",
              "      <td>0.981887</td>\n",
              "      <td>0.979176</td>\n",
              "    </tr>\n",
              "  </tbody>\n",
              "</table>\n",
              "</div>\n",
              "      <button class=\"colab-df-convert\" onclick=\"convertToInteractive('df-04aa2e04-6ba9-4dba-84e9-6e5642852cd5')\"\n",
              "              title=\"Convert this dataframe to an interactive table.\"\n",
              "              style=\"display:none;\">\n",
              "        \n",
              "  <svg xmlns=\"http://www.w3.org/2000/svg\" height=\"24px\"viewBox=\"0 0 24 24\"\n",
              "       width=\"24px\">\n",
              "    <path d=\"M0 0h24v24H0V0z\" fill=\"none\"/>\n",
              "    <path d=\"M18.56 5.44l.94 2.06.94-2.06 2.06-.94-2.06-.94-.94-2.06-.94 2.06-2.06.94zm-11 1L8.5 8.5l.94-2.06 2.06-.94-2.06-.94L8.5 2.5l-.94 2.06-2.06.94zm10 10l.94 2.06.94-2.06 2.06-.94-2.06-.94-.94-2.06-.94 2.06-2.06.94z\"/><path d=\"M17.41 7.96l-1.37-1.37c-.4-.4-.92-.59-1.43-.59-.52 0-1.04.2-1.43.59L10.3 9.45l-7.72 7.72c-.78.78-.78 2.05 0 2.83L4 21.41c.39.39.9.59 1.41.59.51 0 1.02-.2 1.41-.59l7.78-7.78 2.81-2.81c.8-.78.8-2.07 0-2.86zM5.41 20L4 18.59l7.72-7.72 1.47 1.35L5.41 20z\"/>\n",
              "  </svg>\n",
              "      </button>\n",
              "      \n",
              "  <style>\n",
              "    .colab-df-container {\n",
              "      display:flex;\n",
              "      flex-wrap:wrap;\n",
              "      gap: 12px;\n",
              "    }\n",
              "\n",
              "    .colab-df-convert {\n",
              "      background-color: #E8F0FE;\n",
              "      border: none;\n",
              "      border-radius: 50%;\n",
              "      cursor: pointer;\n",
              "      display: none;\n",
              "      fill: #1967D2;\n",
              "      height: 32px;\n",
              "      padding: 0 0 0 0;\n",
              "      width: 32px;\n",
              "    }\n",
              "\n",
              "    .colab-df-convert:hover {\n",
              "      background-color: #E2EBFA;\n",
              "      box-shadow: 0px 1px 2px rgba(60, 64, 67, 0.3), 0px 1px 3px 1px rgba(60, 64, 67, 0.15);\n",
              "      fill: #174EA6;\n",
              "    }\n",
              "\n",
              "    [theme=dark] .colab-df-convert {\n",
              "      background-color: #3B4455;\n",
              "      fill: #D2E3FC;\n",
              "    }\n",
              "\n",
              "    [theme=dark] .colab-df-convert:hover {\n",
              "      background-color: #434B5C;\n",
              "      box-shadow: 0px 1px 3px 1px rgba(0, 0, 0, 0.15);\n",
              "      filter: drop-shadow(0px 1px 2px rgba(0, 0, 0, 0.3));\n",
              "      fill: #FFFFFF;\n",
              "    }\n",
              "  </style>\n",
              "\n",
              "      <script>\n",
              "        const buttonEl =\n",
              "          document.querySelector('#df-04aa2e04-6ba9-4dba-84e9-6e5642852cd5 button.colab-df-convert');\n",
              "        buttonEl.style.display =\n",
              "          google.colab.kernel.accessAllowed ? 'block' : 'none';\n",
              "\n",
              "        async function convertToInteractive(key) {\n",
              "          const element = document.querySelector('#df-04aa2e04-6ba9-4dba-84e9-6e5642852cd5');\n",
              "          const dataTable =\n",
              "            await google.colab.kernel.invokeFunction('convertToInteractive',\n",
              "                                                     [key], {});\n",
              "          if (!dataTable) return;\n",
              "\n",
              "          const docLinkHtml = 'Like what you see? Visit the ' +\n",
              "            '<a target=\"_blank\" href=https://colab.research.google.com/notebooks/data_table.ipynb>data table notebook</a>'\n",
              "            + ' to learn more about interactive tables.';\n",
              "          element.innerHTML = '';\n",
              "          dataTable['output_type'] = 'display_data';\n",
              "          await google.colab.output.renderOutput(dataTable, element);\n",
              "          const docLink = document.createElement('div');\n",
              "          docLink.innerHTML = docLinkHtml;\n",
              "          element.appendChild(docLink);\n",
              "        }\n",
              "      </script>\n",
              "    </div>\n",
              "  </div>\n",
              "  "
            ]
          },
          "metadata": {},
          "execution_count": 79
        }
      ]
    },
    {
      "cell_type": "markdown",
      "source": [
        "XGBOOST and gradient Boosting have very similar metrics to gradient boosting. But **XGBOOST** performs better for test data."
      ],
      "metadata": {
        "id": "9xf-O9rnWS2c"
      }
    },
    {
      "cell_type": "code",
      "source": [
        "\n",
        "\n",
        "df_test=pd.DataFrame({\"true_values\":Y_test,\n",
        "                        \"pred_poly\":pred_poly_test,\n",
        "                      \"pred_gbr\":pred_gbr_test,\n",
        "                      \"pred_xgb\":pred_xgb_test,\n",
        "                      \"smoker\":X_test[\"smoker\"]\n",
        "                     })"
      ],
      "metadata": {
        "id": "3dYaQAGimZu_"
      },
      "execution_count": 83,
      "outputs": []
    },
    {
      "cell_type": "code",
      "source": [
        "fig,(ax_0,ax_1,ax_2)=plt.subplots(1,3,figsize=(20,8))\n",
        "sns.set_style(style=\"whitegrid\")\n",
        "\n",
        "ax_0.set_title(\"Polinomial Regression\")\n",
        "sns.scatterplot(data=df_test,x=\"true_values\",y=\"pred_poly\",color=\"red\",hue=\"smoker\",ax=ax_0,palette=\"cool\")\n",
        "sns.lineplot(data=df_test,x=\"true_values\",y=\"true_values\",color=\"c\",ax=ax_0)\n",
        "\n",
        "\n",
        "ax_1.set_title(\"GradientBoosting\")\n",
        "sns.scatterplot(data=df_test,x=\"true_values\",y=\"pred_gbr\",color=\"red\",hue=\"smoker\",ax=ax_1,palette=\"cool\")\n",
        "sns.lineplot(data=df_test,x=\"true_values\",y=\"true_values\",color=\"c\",ax=ax_1)\n",
        "\n",
        "ax_2.set_title(\"XGBOOST\")\n",
        "sns.scatterplot(data=df_test,x=\"true_values\",y=\"pred_xgb\",color=\"red\",hue=\"smoker\",ax=ax_2,palette=\"cool\")\n",
        "sns.lineplot(data=df_test,x=\"true_values\",y=\"true_values\",color=\"c\",ax=ax_2)\n",
        "\n",
        "plt.show()"
      ],
      "metadata": {
        "colab": {
          "base_uri": "https://localhost:8080/",
          "height": 365
        },
        "id": "npejWUOwmrw-",
        "outputId": "baa80e3f-f870-4d69-9b56-d25d24421609"
      },
      "execution_count": 85,
      "outputs": [
        {
          "output_type": "display_data",
          "data": {
            "text/plain": [
              "<Figure size 1440x576 with 3 Axes>"
            ],
            "image/png": "[encoded data removed]"
          },
          "metadata": {}
        }
      ]
    },
    {
      "cell_type": "markdown",
      "source": [
        "## **Conclusion** \n",
        "\n",
        "* The **Polynomial Regression** is good to predict those users who do not smoke, for smokers it gives not so accurate predictions.\n",
        "\n",
        "* **Gradient Boosting** It is good for both cases.\n",
        "\n",
        "* **XGBOOST** Has a better root mean square error than using gradient boosting. In turn, it is faster to train and presents fewer symptoms of overfitting."
      ],
      "metadata": {
        "id": "Gl-A1_KNVQCQ"
      }
    }
  ]
}