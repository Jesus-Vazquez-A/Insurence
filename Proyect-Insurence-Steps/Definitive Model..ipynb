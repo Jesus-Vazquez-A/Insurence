{
 "cells": [
  {
   "cell_type": "markdown",
   "id": "d036c602",
   "metadata": {},
   "source": [
    "## **Import libraries**"
   ]
  },
  {
   "cell_type": "code",
   "execution_count": 1,
   "id": "f6adac72",
   "metadata": {},
   "outputs": [],
   "source": [
    "import pandas as pd # Data Manupulation\n",
    "import matplotlib.pyplot as plt # Plots\n",
    "import seaborn as sns # Plots\n",
    "import warnings # Ignore Warnings"
   ]
  },
  {
   "cell_type": "code",
   "execution_count": 2,
   "id": "694b22a9",
   "metadata": {},
   "outputs": [],
   "source": [
    "warnings.filterwarnings(\"ignore\") # Ignore Warnings"
   ]
  },
  {
   "cell_type": "markdown",
   "id": "8bad8851",
   "metadata": {},
   "source": [
    "### **Load Data**"
   ]
  },
  {
   "cell_type": "code",
   "execution_count": 3,
   "id": "d1461106",
   "metadata": {},
   "outputs": [],
   "source": [
    "df=pd.read_csv(\"insurence_clear.csv\")"
   ]
  },
  {
   "cell_type": "markdown",
   "id": "9fb5366a",
   "metadata": {},
   "source": [
    "#### *Drop Columns*"
   ]
  },
  {
   "cell_type": "code",
   "execution_count": 4,
   "id": "71f70f0d",
   "metadata": {},
   "outputs": [],
   "source": [
    "df=df.drop([\"Unnamed: 0\"],axis=\"columns\")"
   ]
  },
  {
   "cell_type": "markdown",
   "id": "d015dafa",
   "metadata": {},
   "source": [
    "###  *Split Inputs and Outputs*"
   ]
  },
  {
   "cell_type": "code",
   "execution_count": 5,
   "id": "62807f17",
   "metadata": {},
   "outputs": [],
   "source": [
    "def load_inputs_outputs():\n",
    "    \n",
    "    return df.drop([\"charges\"],axis=\"columns\"),df.charges.values\n",
    "\n",
    "X,y=load_inputs_outputs()"
   ]
  },
  {
   "cell_type": "markdown",
   "id": "b3a85a13",
   "metadata": {},
   "source": [
    "### *Split data*"
   ]
  },
  {
   "cell_type": "code",
   "execution_count": 6,
   "id": "50a4573c",
   "metadata": {},
   "outputs": [],
   "source": [
    "from sklearn.model_selection import train_test_split"
   ]
  },
  {
   "cell_type": "code",
   "execution_count": 7,
   "id": "b9b39e5d",
   "metadata": {},
   "outputs": [],
   "source": [
    "X_train,X_test,Y_train,Y_test=train_test_split(X,y,\n",
    "                                               test_size=0.33, # 33% for testing\n",
    "                                               random_state=42)"
   ]
  },
  {
   "cell_type": "code",
   "execution_count": 8,
   "id": "1c0374d9",
   "metadata": {},
   "outputs": [
    {
     "data": {
      "text/plain": [
       "(896, 442)"
      ]
     },
     "execution_count": 8,
     "metadata": {},
     "output_type": "execute_result"
    }
   ],
   "source": [
    "X_train.shape[0],X_test.shape[0]"
   ]
  },
  {
   "cell_type": "markdown",
   "id": "52c9bfbc",
   "metadata": {},
   "source": [
    "#### *Data preprocessing*\n",
    "\n",
    "**Note** Decision trees do not require normalization of their inputs; and since XGBoost is essentially an ensemble algorithm comprised of decision trees, it does not require normalization for the inputs either.\n",
    "\n",
    "We will only perform **One Hot Encoding transformation** for categorical variable."
   ]
  },
  {
   "cell_type": "code",
   "execution_count": 9,
   "id": "f2b77459",
   "metadata": {},
   "outputs": [],
   "source": [
    "class Preprocessing_OHE():\n",
    "    \n",
    "    def __init__(self,X_data):\n",
    "        self.X_data=X_data\n",
    "    \n",
    "    \n",
    "    def binary(self):\n",
    "        \n",
    "        self.X_data[\"sex\"]=self.X_data[\"sex\"].apply(lambda x: 1 if x == \"male\"  else 0)\n",
    "        self.X_data[\"smoker\"]=self.X_data[\"smoker\"].apply(lambda x: 1 if x == \"yes\"  else 0)\n",
    "        \n",
    "        return self.X_data\n",
    "    \n",
    "    def multinomial(self):\n",
    "        \n",
    "        return pd.get_dummies(self.X_data,columns=[\"region\"])"
   ]
  },
  {
   "cell_type": "markdown",
   "id": "6f985c18",
   "metadata": {},
   "source": [
    "   ### *Preprocessing Training Data*"
   ]
  },
  {
   "cell_type": "code",
   "execution_count": 10,
   "id": "72a3e4d4",
   "metadata": {},
   "outputs": [],
   "source": [
    "X_train_preprocesing=Preprocessing_OHE(X_train)\n",
    "X_train_ohe=X_train_preprocesing.binary()\n",
    "X_train_ohe=X_train_preprocesing.multinomial()"
   ]
  },
  {
   "cell_type": "code",
   "execution_count": 11,
   "id": "8a434103",
   "metadata": {
    "scrolled": true
   },
   "outputs": [
    {
     "data": {
      "text/html": [
       "<div>\n",
       "<style scoped>\n",
       "    .dataframe tbody tr th:only-of-type {\n",
       "        vertical-align: middle;\n",
       "    }\n",
       "\n",
       "    .dataframe tbody tr th {\n",
       "        vertical-align: top;\n",
       "    }\n",
       "\n",
       "    .dataframe thead th {\n",
       "        text-align: right;\n",
       "    }\n",
       "</style>\n",
       "<table border=\"1\" class=\"dataframe\">\n",
       "  <thead>\n",
       "    <tr style=\"text-align: right;\">\n",
       "      <th></th>\n",
       "      <th>age</th>\n",
       "      <th>sex</th>\n",
       "      <th>bmi</th>\n",
       "      <th>children</th>\n",
       "      <th>smoker</th>\n",
       "      <th>region_northeast</th>\n",
       "      <th>region_northwest</th>\n",
       "      <th>region_southeast</th>\n",
       "      <th>region_southwest</th>\n",
       "    </tr>\n",
       "  </thead>\n",
       "  <tbody>\n",
       "    <tr>\n",
       "      <th>1046</th>\n",
       "      <td>59</td>\n",
       "      <td>1</td>\n",
       "      <td>37.400</td>\n",
       "      <td>0</td>\n",
       "      <td>0</td>\n",
       "      <td>0</td>\n",
       "      <td>0</td>\n",
       "      <td>0</td>\n",
       "      <td>1</td>\n",
       "    </tr>\n",
       "    <tr>\n",
       "      <th>682</th>\n",
       "      <td>55</td>\n",
       "      <td>0</td>\n",
       "      <td>26.980</td>\n",
       "      <td>0</td>\n",
       "      <td>0</td>\n",
       "      <td>0</td>\n",
       "      <td>1</td>\n",
       "      <td>0</td>\n",
       "      <td>0</td>\n",
       "    </tr>\n",
       "    <tr>\n",
       "      <th>1037</th>\n",
       "      <td>58</td>\n",
       "      <td>0</td>\n",
       "      <td>41.910</td>\n",
       "      <td>0</td>\n",
       "      <td>0</td>\n",
       "      <td>0</td>\n",
       "      <td>0</td>\n",
       "      <td>1</td>\n",
       "      <td>0</td>\n",
       "    </tr>\n",
       "    <tr>\n",
       "      <th>490</th>\n",
       "      <td>41</td>\n",
       "      <td>1</td>\n",
       "      <td>28.405</td>\n",
       "      <td>1</td>\n",
       "      <td>0</td>\n",
       "      <td>0</td>\n",
       "      <td>1</td>\n",
       "      <td>0</td>\n",
       "      <td>0</td>\n",
       "    </tr>\n",
       "    <tr>\n",
       "      <th>39</th>\n",
       "      <td>29</td>\n",
       "      <td>0</td>\n",
       "      <td>38.830</td>\n",
       "      <td>3</td>\n",
       "      <td>0</td>\n",
       "      <td>0</td>\n",
       "      <td>0</td>\n",
       "      <td>1</td>\n",
       "      <td>0</td>\n",
       "    </tr>\n",
       "  </tbody>\n",
       "</table>\n",
       "</div>"
      ],
      "text/plain": [
       "      age  sex     bmi  children  smoker  region_northeast  region_northwest  \\\n",
       "1046   59    1  37.400         0       0                 0                 0   \n",
       "682    55    0  26.980         0       0                 0                 1   \n",
       "1037   58    0  41.910         0       0                 0                 0   \n",
       "490    41    1  28.405         1       0                 0                 1   \n",
       "39     29    0  38.830         3       0                 0                 0   \n",
       "\n",
       "      region_southeast  region_southwest  \n",
       "1046                 0                 1  \n",
       "682                  0                 0  \n",
       "1037                 1                 0  \n",
       "490                  0                 0  \n",
       "39                   1                 0  "
      ]
     },
     "execution_count": 11,
     "metadata": {},
     "output_type": "execute_result"
    }
   ],
   "source": [
    "X_train_ohe.head()"
   ]
  },
  {
   "cell_type": "markdown",
   "id": "292c0c9d",
   "metadata": {},
   "source": [
    "### *Preprocessing Testing Data*"
   ]
  },
  {
   "cell_type": "code",
   "execution_count": 12,
   "id": "f74d0747",
   "metadata": {},
   "outputs": [],
   "source": [
    "X_test_preprocesing=Preprocessing_OHE(X_test)\n",
    "X_test_ohe=X_test_preprocesing.binary()\n",
    "X_test_ohe=X_test_preprocesing.multinomial()"
   ]
  },
  {
   "cell_type": "code",
   "execution_count": 13,
   "id": "c1fc9910",
   "metadata": {},
   "outputs": [
    {
     "data": {
      "text/html": [
       "<div>\n",
       "<style scoped>\n",
       "    .dataframe tbody tr th:only-of-type {\n",
       "        vertical-align: middle;\n",
       "    }\n",
       "\n",
       "    .dataframe tbody tr th {\n",
       "        vertical-align: top;\n",
       "    }\n",
       "\n",
       "    .dataframe thead th {\n",
       "        text-align: right;\n",
       "    }\n",
       "</style>\n",
       "<table border=\"1\" class=\"dataframe\">\n",
       "  <thead>\n",
       "    <tr style=\"text-align: right;\">\n",
       "      <th></th>\n",
       "      <th>age</th>\n",
       "      <th>sex</th>\n",
       "      <th>bmi</th>\n",
       "      <th>children</th>\n",
       "      <th>smoker</th>\n",
       "      <th>region_northeast</th>\n",
       "      <th>region_northwest</th>\n",
       "      <th>region_southeast</th>\n",
       "      <th>region_southwest</th>\n",
       "    </tr>\n",
       "  </thead>\n",
       "  <tbody>\n",
       "    <tr>\n",
       "      <th>764</th>\n",
       "      <td>56</td>\n",
       "      <td>0</td>\n",
       "      <td>33.82</td>\n",
       "      <td>2</td>\n",
       "      <td>0</td>\n",
       "      <td>0</td>\n",
       "      <td>1</td>\n",
       "      <td>0</td>\n",
       "      <td>0</td>\n",
       "    </tr>\n",
       "    <tr>\n",
       "      <th>887</th>\n",
       "      <td>51</td>\n",
       "      <td>1</td>\n",
       "      <td>37.00</td>\n",
       "      <td>0</td>\n",
       "      <td>0</td>\n",
       "      <td>0</td>\n",
       "      <td>0</td>\n",
       "      <td>0</td>\n",
       "      <td>1</td>\n",
       "    </tr>\n",
       "    <tr>\n",
       "      <th>890</th>\n",
       "      <td>54</td>\n",
       "      <td>0</td>\n",
       "      <td>23.00</td>\n",
       "      <td>3</td>\n",
       "      <td>0</td>\n",
       "      <td>0</td>\n",
       "      <td>0</td>\n",
       "      <td>0</td>\n",
       "      <td>1</td>\n",
       "    </tr>\n",
       "    <tr>\n",
       "      <th>1293</th>\n",
       "      <td>19</td>\n",
       "      <td>0</td>\n",
       "      <td>32.49</td>\n",
       "      <td>0</td>\n",
       "      <td>1</td>\n",
       "      <td>0</td>\n",
       "      <td>1</td>\n",
       "      <td>0</td>\n",
       "      <td>0</td>\n",
       "    </tr>\n",
       "    <tr>\n",
       "      <th>259</th>\n",
       "      <td>22</td>\n",
       "      <td>0</td>\n",
       "      <td>27.10</td>\n",
       "      <td>0</td>\n",
       "      <td>0</td>\n",
       "      <td>0</td>\n",
       "      <td>0</td>\n",
       "      <td>0</td>\n",
       "      <td>1</td>\n",
       "    </tr>\n",
       "  </tbody>\n",
       "</table>\n",
       "</div>"
      ],
      "text/plain": [
       "      age  sex    bmi  children  smoker  region_northeast  region_northwest  \\\n",
       "764    56    0  33.82         2       0                 0                 1   \n",
       "887    51    1  37.00         0       0                 0                 0   \n",
       "890    54    0  23.00         3       0                 0                 0   \n",
       "1293   19    0  32.49         0       1                 0                 1   \n",
       "259    22    0  27.10         0       0                 0                 0   \n",
       "\n",
       "      region_southeast  region_southwest  \n",
       "764                  0                 0  \n",
       "887                  0                 1  \n",
       "890                  0                 1  \n",
       "1293                 0                 0  \n",
       "259                  0                 1  "
      ]
     },
     "execution_count": 13,
     "metadata": {},
     "output_type": "execute_result"
    }
   ],
   "source": [
    "X_test_ohe.head()"
   ]
  },
  {
   "cell_type": "markdown",
   "id": "d32d3132",
   "metadata": {},
   "source": [
    "##  **XGBOOST**"
   ]
  },
  {
   "cell_type": "code",
   "execution_count": 14,
   "id": "147b3471",
   "metadata": {},
   "outputs": [],
   "source": [
    "from xgboost import XGBRegressor"
   ]
  },
  {
   "cell_type": "code",
   "execution_count": 24,
   "id": "edd1015d",
   "metadata": {},
   "outputs": [],
   "source": [
    "xgb_reg=XGBRegressor(max_depth=2,\n",
    "                     learning_rate=0.01,\n",
    "                     n_estimators=650,\n",
    "                     random_state=42)"
   ]
  },
  {
   "cell_type": "markdown",
   "id": "a5bbaefb",
   "metadata": {},
   "source": [
    "#### *Train Model*"
   ]
  },
  {
   "cell_type": "code",
   "execution_count": 25,
   "id": "9ff516f3",
   "metadata": {},
   "outputs": [
    {
     "data": {
      "text/plain": [
       "XGBRegressor(base_score=0.5, booster='gbtree', callbacks=None,\n",
       "             colsample_bylevel=1, colsample_bynode=1, colsample_bytree=1,\n",
       "             early_stopping_rounds=None, enable_categorical=False,\n",
       "             eval_metric=None, gamma=0, gpu_id=-1, grow_policy='depthwise',\n",
       "             importance_type=None, interaction_constraints='',\n",
       "             learning_rate=0.01, max_bin=256, max_cat_to_onehot=4,\n",
       "             max_delta_step=0, max_depth=2, max_leaves=0, min_child_weight=1,\n",
       "             missing=nan, monotone_constraints='()', n_estimators=650, n_jobs=0,\n",
       "             num_parallel_tree=1, predictor='auto', random_state=42,\n",
       "             reg_alpha=0, reg_lambda=1, ...)"
      ]
     },
     "execution_count": 25,
     "metadata": {},
     "output_type": "execute_result"
    }
   ],
   "source": [
    "xgb_reg.fit(X_train_ohe,Y_train) "
   ]
  },
  {
   "cell_type": "markdown",
   "id": "0e38ad7d",
   "metadata": {},
   "source": [
    "### *Model Evaluation*"
   ]
  },
  {
   "cell_type": "code",
   "execution_count": 26,
   "id": "5a586c80",
   "metadata": {},
   "outputs": [],
   "source": [
    "from sklearn.model_selection import cross_val_score\n",
    "from sklearn.metrics import r2_score,mean_squared_error"
   ]
  },
  {
   "cell_type": "code",
   "execution_count": 27,
   "id": "4499bdaa",
   "metadata": {},
   "outputs": [],
   "source": [
    "class Evaluete():\n",
    "    \n",
    "    def __init__(self,X_data,y_true):\n",
    "            \n",
    "\n",
    "        self.X_data=X_data\n",
    "        self.y_true=y_true\n",
    "\n",
    "        self.model=xgb_reg\n",
    "        self.predict=self.model.predict(self.X_data)\n",
    "    \n",
    "    def mse(self):\n",
    "        \n",
    "        return mean_squared_error(self.y_true,self.predict)\n",
    "\n",
    "    def r2(self):\n",
    "        \n",
    "        return r2_score(self.y_true,self.predict)\n",
    "\n",
    "    def cv_score(self):\n",
    "        \n",
    "        return cross_val_score(self.model,self.X_data,self.y_true,cv=10).mean()\n"
   ]
  },
  {
   "cell_type": "code",
   "execution_count": 28,
   "id": "1f708e6e",
   "metadata": {},
   "outputs": [],
   "source": [
    "mse_xgb_train=Evaluete(X_train_ohe,Y_train).mse()\n",
    "mse_xgb_test=Evaluete(X_test_ohe,Y_test).mse()\n",
    "\n",
    "r2_xgb_train=Evaluete(X_train_ohe,Y_train).r2()\n",
    "r2_xgb_test=Evaluete(X_test_ohe,Y_test).r2()\n",
    "\n",
    "cv_xgb=Evaluete(X_test_ohe,Y_test).cv_score()"
   ]
  },
  {
   "cell_type": "markdown",
   "id": "885e8df0",
   "metadata": {},
   "source": [
    "### *Evaluation Dataframe*"
   ]
  },
  {
   "cell_type": "code",
   "execution_count": 29,
   "id": "4c4dc24d",
   "metadata": {},
   "outputs": [],
   "source": [
    "df_evaluate=pd.DataFrame({\"MSE train \":mse_xgb_train.flatten(),\n",
    "                          \"MSE test\":mse_xgb_test.flatten(),\n",
    "                          \"R2 train\":r2_xgb_train.flatten(),\n",
    "                          \"R2 test\":r2_xgb_test.flatten(),\n",
    "                         \"CV\":cv_xgb})"
   ]
  },
  {
   "cell_type": "code",
   "execution_count": 30,
   "id": "a63ec1dc",
   "metadata": {},
   "outputs": [
    {
     "data": {
      "text/html": [
       "<div>\n",
       "<style scoped>\n",
       "    .dataframe tbody tr th:only-of-type {\n",
       "        vertical-align: middle;\n",
       "    }\n",
       "\n",
       "    .dataframe tbody tr th {\n",
       "        vertical-align: top;\n",
       "    }\n",
       "\n",
       "    .dataframe thead th {\n",
       "        text-align: right;\n",
       "    }\n",
       "</style>\n",
       "<table border=\"1\" class=\"dataframe\">\n",
       "  <thead>\n",
       "    <tr style=\"text-align: right;\">\n",
       "      <th></th>\n",
       "      <th>MSE train</th>\n",
       "      <th>MSE test</th>\n",
       "      <th>R2 train</th>\n",
       "      <th>R2 test</th>\n",
       "      <th>CV</th>\n",
       "    </tr>\n",
       "  </thead>\n",
       "  <tbody>\n",
       "    <tr>\n",
       "      <th>0</th>\n",
       "      <td>1.998535e+06</td>\n",
       "      <td>2.514030e+06</td>\n",
       "      <td>0.985183</td>\n",
       "      <td>0.981887</td>\n",
       "      <td>0.979176</td>\n",
       "    </tr>\n",
       "  </tbody>\n",
       "</table>\n",
       "</div>"
      ],
      "text/plain": [
       "     MSE train       MSE test  R2 train   R2 test        CV\n",
       "0  1.998535e+06  2.514030e+06  0.985183  0.981887  0.979176"
      ]
     },
     "execution_count": 30,
     "metadata": {},
     "output_type": "execute_result"
    }
   ],
   "source": [
    "df_evaluate"
   ]
  },
  {
   "cell_type": "code",
   "execution_count": 39,
   "id": "aaf3039e",
   "metadata": {},
   "outputs": [],
   "source": [
    "sorted_idx = xgb_reg.feature_importances_.argsort()\n",
    "sorted_idx=sorted_idx.flatten()"
   ]
  },
  {
   "cell_type": "code",
   "execution_count": 45,
   "id": "1591ea2c",
   "metadata": {},
   "outputs": [],
   "source": [
    "def plot_importance():\n",
    "    \n",
    "    sns.set_style(style=\"whitegrid\")\n",
    "    fig,(ax)=plt.subplots(1,1,figsize=(20,8))\n",
    "    ax.set_title(\"Importance Features XGBBOST\")\n",
    "    ax.barh(X_test_ohe.columns[sorted_idx], xgb_reg.feature_importances_[sorted_idx])\n",
    "    \n",
    "    return plt.show()"
   ]
  },
  {
   "cell_type": "code",
   "execution_count": 46,
   "id": "9fcbcd68",
   "metadata": {},
   "outputs": [
    {
     "data": {
      "image/png": "[encoded data removed]",
      "text/plain": [
       "<Figure size 1440x576 with 1 Axes>"
      ]
     },
     "metadata": {},
     "output_type": "display_data"
    }
   ],
   "source": [
    "if __name__ == \"__main__\":\n",
    "    plot_importance()"
   ]
  },
  {
   "cell_type": "markdown",
   "id": "08ad2b7e",
   "metadata": {},
   "source": [
    "We observe that the smoker variable has great weight when it comes to predictions. Followed by BMI and age. The children variable has negligible weight just like the user's region.\n",
    "\n",
    "But they complement the predictions. Since the difference between algorithms and humans. It is we humans base our predictions on features of stronger variables. On the other hand, computers base their estimates on strong variables that are not so important. But that complement the value to predict giving closer results. That only using only the most significant variables."
   ]
  },
  {
   "cell_type": "code",
   "execution_count": 47,
   "id": "d3dcca8c",
   "metadata": {},
   "outputs": [],
   "source": [
    "y_pred=xgb_reg.predict(X_test_ohe)\n",
    "y_pred=y_pred.flatten()"
   ]
  },
  {
   "cell_type": "code",
   "execution_count": 48,
   "id": "5ed8faeb",
   "metadata": {},
   "outputs": [],
   "source": [
    "df_test=pd.DataFrame({\"y_true\":Y_test,\n",
    "                      \"y_pred\":y_pred,\n",
    "                      \"smoker\":X_test[\"smoker\"]})"
   ]
  },
  {
   "cell_type": "code",
   "execution_count": 55,
   "id": "fa8cc8ee",
   "metadata": {},
   "outputs": [],
   "source": [
    "def main():\n",
    "    \n",
    "    fig,(ax)=plt.subplots(1,1,figsize=(20,8))\n",
    "    sns.scatterplot(data=df_test,x=\"y_true\",y=\"y_pred\",hue=\"smoker\",palette=\"Set2\")\n",
    "    sns.lineplot(data=df_test,x=\"y_true\",y=\"y_true\",color=\"c\")"
   ]
  },
  {
   "cell_type": "code",
   "execution_count": 56,
   "id": "c2f2aedb",
   "metadata": {},
   "outputs": [
    {
     "data": {
      "image/png": "[encoded data removed]",
      "text/plain": [
       "<Figure size 1440x576 with 1 Axes>"
      ]
     },
     "metadata": {},
     "output_type": "display_data"
    }
   ],
   "source": [
    "if __name__ == \"__main__\":\n",
    "    \n",
    "    main()"
   ]
  },
  {
   "cell_type": "code",
   "execution_count": 60,
   "id": "ac77e674",
   "metadata": {},
   "outputs": [
    {
     "data": {
      "text/html": [
       "<div>\n",
       "<style scoped>\n",
       "    .dataframe tbody tr th:only-of-type {\n",
       "        vertical-align: middle;\n",
       "    }\n",
       "\n",
       "    .dataframe tbody tr th {\n",
       "        vertical-align: top;\n",
       "    }\n",
       "\n",
       "    .dataframe thead th {\n",
       "        text-align: right;\n",
       "    }\n",
       "</style>\n",
       "<table border=\"1\" class=\"dataframe\">\n",
       "  <thead>\n",
       "    <tr style=\"text-align: right;\">\n",
       "      <th></th>\n",
       "      <th>y_true</th>\n",
       "      <th>y_pred</th>\n",
       "      <th>smoker</th>\n",
       "    </tr>\n",
       "  </thead>\n",
       "  <tbody>\n",
       "    <tr>\n",
       "      <th>435</th>\n",
       "      <td>8342.908750</td>\n",
       "      <td>8693.538086</td>\n",
       "      <td>0</td>\n",
       "    </tr>\n",
       "    <tr>\n",
       "      <th>629</th>\n",
       "      <td>5116.500400</td>\n",
       "      <td>5577.990234</td>\n",
       "      <td>0</td>\n",
       "    </tr>\n",
       "    <tr>\n",
       "      <th>332</th>\n",
       "      <td>5028.146600</td>\n",
       "      <td>5741.529297</td>\n",
       "      <td>0</td>\n",
       "    </tr>\n",
       "    <tr>\n",
       "      <th>987</th>\n",
       "      <td>11067.917387</td>\n",
       "      <td>10184.244141</td>\n",
       "      <td>0</td>\n",
       "    </tr>\n",
       "    <tr>\n",
       "      <th>744</th>\n",
       "      <td>12029.286700</td>\n",
       "      <td>11362.739258</td>\n",
       "      <td>0</td>\n",
       "    </tr>\n",
       "    <tr>\n",
       "      <th>875</th>\n",
       "      <td>9487.644200</td>\n",
       "      <td>10311.553711</td>\n",
       "      <td>0</td>\n",
       "    </tr>\n",
       "    <tr>\n",
       "      <th>370</th>\n",
       "      <td>9432.925300</td>\n",
       "      <td>9477.511719</td>\n",
       "      <td>0</td>\n",
       "    </tr>\n",
       "    <tr>\n",
       "      <th>282</th>\n",
       "      <td>3732.625100</td>\n",
       "      <td>3691.402588</td>\n",
       "      <td>0</td>\n",
       "    </tr>\n",
       "    <tr>\n",
       "      <th>348</th>\n",
       "      <td>6610.109700</td>\n",
       "      <td>7017.916992</td>\n",
       "      <td>0</td>\n",
       "    </tr>\n",
       "    <tr>\n",
       "      <th>1055</th>\n",
       "      <td>10450.755883</td>\n",
       "      <td>9851.967773</td>\n",
       "      <td>0</td>\n",
       "    </tr>\n",
       "  </tbody>\n",
       "</table>\n",
       "</div>"
      ],
      "text/plain": [
       "            y_true        y_pred  smoker\n",
       "435    8342.908750   8693.538086       0\n",
       "629    5116.500400   5577.990234       0\n",
       "332    5028.146600   5741.529297       0\n",
       "987   11067.917387  10184.244141       0\n",
       "744   12029.286700  11362.739258       0\n",
       "875    9487.644200  10311.553711       0\n",
       "370    9432.925300   9477.511719       0\n",
       "282    3732.625100   3691.402588       0\n",
       "348    6610.109700   7017.916992       0\n",
       "1055  10450.755883   9851.967773       0"
      ]
     },
     "execution_count": 60,
     "metadata": {},
     "output_type": "execute_result"
    }
   ],
   "source": [
    "df_test.query(\"smoker==0\").sample(n=10,random_state=42)"
   ]
  },
  {
   "cell_type": "code",
   "execution_count": 61,
   "id": "4384b242",
   "metadata": {},
   "outputs": [
    {
     "data": {
      "text/html": [
       "<div>\n",
       "<style scoped>\n",
       "    .dataframe tbody tr th:only-of-type {\n",
       "        vertical-align: middle;\n",
       "    }\n",
       "\n",
       "    .dataframe tbody tr th {\n",
       "        vertical-align: top;\n",
       "    }\n",
       "\n",
       "    .dataframe thead th {\n",
       "        text-align: right;\n",
       "    }\n",
       "</style>\n",
       "<table border=\"1\" class=\"dataframe\">\n",
       "  <thead>\n",
       "    <tr style=\"text-align: right;\">\n",
       "      <th></th>\n",
       "      <th>y_true</th>\n",
       "      <th>y_pred</th>\n",
       "      <th>smoker</th>\n",
       "    </tr>\n",
       "  </thead>\n",
       "  <tbody>\n",
       "    <tr>\n",
       "      <th>1302</th>\n",
       "      <td>37465.34375</td>\n",
       "      <td>36863.539062</td>\n",
       "      <td>1</td>\n",
       "    </tr>\n",
       "    <tr>\n",
       "      <th>1127</th>\n",
       "      <td>17179.52200</td>\n",
       "      <td>20383.900391</td>\n",
       "      <td>1</td>\n",
       "    </tr>\n",
       "    <tr>\n",
       "      <th>1235</th>\n",
       "      <td>15817.98570</td>\n",
       "      <td>17926.035156</td>\n",
       "      <td>1</td>\n",
       "    </tr>\n",
       "    <tr>\n",
       "      <th>1128</th>\n",
       "      <td>42856.83800</td>\n",
       "      <td>42489.253906</td>\n",
       "      <td>1</td>\n",
       "    </tr>\n",
       "    <tr>\n",
       "      <th>1293</th>\n",
       "      <td>36898.73308</td>\n",
       "      <td>35210.808594</td>\n",
       "      <td>1</td>\n",
       "    </tr>\n",
       "    <tr>\n",
       "      <th>1122</th>\n",
       "      <td>33750.29180</td>\n",
       "      <td>35163.371094</td>\n",
       "      <td>1</td>\n",
       "    </tr>\n",
       "    <tr>\n",
       "      <th>1242</th>\n",
       "      <td>19798.05455</td>\n",
       "      <td>23922.166016</td>\n",
       "      <td>1</td>\n",
       "    </tr>\n",
       "    <tr>\n",
       "      <th>1283</th>\n",
       "      <td>33907.54800</td>\n",
       "      <td>35239.062500</td>\n",
       "      <td>1</td>\n",
       "    </tr>\n",
       "    <tr>\n",
       "      <th>1228</th>\n",
       "      <td>36021.01120</td>\n",
       "      <td>36820.976562</td>\n",
       "      <td>1</td>\n",
       "    </tr>\n",
       "    <tr>\n",
       "      <th>1078</th>\n",
       "      <td>34303.16720</td>\n",
       "      <td>35872.996094</td>\n",
       "      <td>1</td>\n",
       "    </tr>\n",
       "  </tbody>\n",
       "</table>\n",
       "</div>"
      ],
      "text/plain": [
       "           y_true        y_pred  smoker\n",
       "1302  37465.34375  36863.539062       1\n",
       "1127  17179.52200  20383.900391       1\n",
       "1235  15817.98570  17926.035156       1\n",
       "1128  42856.83800  42489.253906       1\n",
       "1293  36898.73308  35210.808594       1\n",
       "1122  33750.29180  35163.371094       1\n",
       "1242  19798.05455  23922.166016       1\n",
       "1283  33907.54800  35239.062500       1\n",
       "1228  36021.01120  36820.976562       1\n",
       "1078  34303.16720  35872.996094       1"
      ]
     },
     "execution_count": 61,
     "metadata": {},
     "output_type": "execute_result"
    }
   ],
   "source": [
    "df_test.query(\"smoker==1\").sample(n=10,random_state=42)"
   ]
  },
  {
   "cell_type": "markdown",
   "id": "92189412",
   "metadata": {},
   "source": [
    "As we can see, the predictions are very close to the original value. This indicates that the model is very reliable and generalizes very well. eL XGBOOST is quite a powerful algorithm, capable of giving interesting results in a short period of time. No wonder he is the winner of several Kaggle competitions."
   ]
  },
  {
   "cell_type": "markdown",
   "id": "64e41c76",
   "metadata": {},
   "source": [
    "### *Save Model*"
   ]
  },
  {
   "cell_type": "code",
   "execution_count": 62,
   "id": "e376fc4a",
   "metadata": {},
   "outputs": [],
   "source": [
    "import joblib"
   ]
  },
  {
   "cell_type": "code",
   "execution_count": 63,
   "id": "720d2727",
   "metadata": {},
   "outputs": [
    {
     "data": {
      "text/plain": [
       "['xgb_insurence.pkl']"
      ]
     },
     "execution_count": 63,
     "metadata": {},
     "output_type": "execute_result"
    }
   ],
   "source": [
    "joblib.dump(xgb_reg,\"xgb_insurence.pkl\") # Save Model"
   ]
  }
 ],
 "metadata": {
  "kernelspec": {
   "display_name": "Python 3 (ipykernel)",
   "language": "python",
   "name": "python3"
  },
  "language_info": {
   "codemirror_mode": {
    "name": "ipython",
    "version": 3
   },
   "file_extension": ".py",
   "mimetype": "text/x-python",
   "name": "python",
   "nbconvert_exporter": "python",
   "pygments_lexer": "ipython3",
   "version": "3.9.7"
  }
 },
 "nbformat": 4,
 "nbformat_minor": 5
}
