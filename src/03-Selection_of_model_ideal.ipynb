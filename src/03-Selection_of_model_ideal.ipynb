{
  "nbformat": 4,
  "nbformat_minor": 0,
  "metadata": {
    "colab": {
      "name": "03_Selection_of_model_ideal.ipynb",
      "provenance": [],
      "collapsed_sections": []
    },
    "kernelspec": {
      "name": "python3",
      "display_name": "Python 3"
    },
    "language_info": {
      "name": "python"
    },
    "accelerator": "GPU",
    "gpuClass": "standard"
  },
  "cells": [
    {
      "cell_type": "markdown",
      "source": [
        "### **Load Libraries**"
      ],
      "metadata": {
        "id": "fXqLu_9PCHzA"
      }
    },
    {
      "cell_type": "code",
      "execution_count": null,
      "metadata": {
        "id": "42mAl_1sAeG8"
      },
      "outputs": [],
      "source": [
        "import warnings # ignore warnings\n",
        "import pandas as pd # data manipulation\n",
        "import numpy as np # linear algebra\n",
        "import matplotlib.pyplot as plt # plots\n",
        "import seaborn as sns # plots"
      ]
    },
    {
      "cell_type": "code",
      "source": [
        "warnings.filterwarnings(\"ignore\")"
      ],
      "metadata": {
        "id": "cSVA3RjPAqF8"
      },
      "execution_count": null,
      "outputs": []
    },
    {
      "cell_type": "markdown",
      "source": [
        "### **Load Datset**"
      ],
      "metadata": {
        "id": "ED6IRRt4COb3"
      }
    },
    {
      "cell_type": "code",
      "source": [
        "df=pd.read_csv(\"/content/drive/MyDrive/Datasets/insurence_clearv2.csv\")"
      ],
      "metadata": {
        "id": "L1XaFcLIAtCj"
      },
      "execution_count": null,
      "outputs": []
    },
    {
      "cell_type": "code",
      "source": [
        "df.head()"
      ],
      "metadata": {
        "colab": {
          "base_uri": "https://localhost:8080/",
          "height": 206
        },
        "id": "Oi-3A_k5A2vO",
        "outputId": "416a56b7-11dc-4492-b77d-7fe951504482"
      },
      "execution_count": null,
      "outputs": [
        {
          "output_type": "execute_result",
          "data": {
            "text/plain": [
              "   age     sex     bmi  children smoker     region      charges  \\\n",
              "0   18    male  33.770         1     no  southeast   1725.55230   \n",
              "1   28    male  33.000         3     no  southeast   4449.46200   \n",
              "2   33    male  22.705         0     no  northwest  21984.47061   \n",
              "3   32    male  28.880         0     no  northwest   3866.85520   \n",
              "4   31  female  25.740         0     no  southeast   3756.62160   \n",
              "\n",
              "  medical_problem  \n",
              "0           light  \n",
              "1           light  \n",
              "2          severe  \n",
              "3           light  \n",
              "4           light  "
            ],
            "text/html": [
              "\n",
              "  <div id=\"df-111aab2e-26e2-46b1-a738-d097fe87412a\">\n",
              "    <div class=\"colab-df-container\">\n",
              "      <div>\n",
              "<style scoped>\n",
              "    .dataframe tbody tr th:only-of-type {\n",
              "        vertical-align: middle;\n",
              "    }\n",
              "\n",
              "    .dataframe tbody tr th {\n",
              "        vertical-align: top;\n",
              "    }\n",
              "\n",
              "    .dataframe thead th {\n",
              "        text-align: right;\n",
              "    }\n",
              "</style>\n",
              "<table border=\"1\" class=\"dataframe\">\n",
              "  <thead>\n",
              "    <tr style=\"text-align: right;\">\n",
              "      <th></th>\n",
              "      <th>age</th>\n",
              "      <th>sex</th>\n",
              "      <th>bmi</th>\n",
              "      <th>children</th>\n",
              "      <th>smoker</th>\n",
              "      <th>region</th>\n",
              "      <th>charges</th>\n",
              "      <th>medical_problem</th>\n",
              "    </tr>\n",
              "  </thead>\n",
              "  <tbody>\n",
              "    <tr>\n",
              "      <th>0</th>\n",
              "      <td>18</td>\n",
              "      <td>male</td>\n",
              "      <td>33.770</td>\n",
              "      <td>1</td>\n",
              "      <td>no</td>\n",
              "      <td>southeast</td>\n",
              "      <td>1725.55230</td>\n",
              "      <td>light</td>\n",
              "    </tr>\n",
              "    <tr>\n",
              "      <th>1</th>\n",
              "      <td>28</td>\n",
              "      <td>male</td>\n",
              "      <td>33.000</td>\n",
              "      <td>3</td>\n",
              "      <td>no</td>\n",
              "      <td>southeast</td>\n",
              "      <td>4449.46200</td>\n",
              "      <td>light</td>\n",
              "    </tr>\n",
              "    <tr>\n",
              "      <th>2</th>\n",
              "      <td>33</td>\n",
              "      <td>male</td>\n",
              "      <td>22.705</td>\n",
              "      <td>0</td>\n",
              "      <td>no</td>\n",
              "      <td>northwest</td>\n",
              "      <td>21984.47061</td>\n",
              "      <td>severe</td>\n",
              "    </tr>\n",
              "    <tr>\n",
              "      <th>3</th>\n",
              "      <td>32</td>\n",
              "      <td>male</td>\n",
              "      <td>28.880</td>\n",
              "      <td>0</td>\n",
              "      <td>no</td>\n",
              "      <td>northwest</td>\n",
              "      <td>3866.85520</td>\n",
              "      <td>light</td>\n",
              "    </tr>\n",
              "    <tr>\n",
              "      <th>4</th>\n",
              "      <td>31</td>\n",
              "      <td>female</td>\n",
              "      <td>25.740</td>\n",
              "      <td>0</td>\n",
              "      <td>no</td>\n",
              "      <td>southeast</td>\n",
              "      <td>3756.62160</td>\n",
              "      <td>light</td>\n",
              "    </tr>\n",
              "  </tbody>\n",
              "</table>\n",
              "</div>\n",
              "      <button class=\"colab-df-convert\" onclick=\"convertToInteractive('df-111aab2e-26e2-46b1-a738-d097fe87412a')\"\n",
              "              title=\"Convert this dataframe to an interactive table.\"\n",
              "              style=\"display:none;\">\n",
              "        \n",
              "  <svg xmlns=\"http://www.w3.org/2000/svg\" height=\"24px\"viewBox=\"0 0 24 24\"\n",
              "       width=\"24px\">\n",
              "    <path d=\"M0 0h24v24H0V0z\" fill=\"none\"/>\n",
              "    <path d=\"M18.56 5.44l.94 2.06.94-2.06 2.06-.94-2.06-.94-.94-2.06-.94 2.06-2.06.94zm-11 1L8.5 8.5l.94-2.06 2.06-.94-2.06-.94L8.5 2.5l-.94 2.06-2.06.94zm10 10l.94 2.06.94-2.06 2.06-.94-2.06-.94-.94-2.06-.94 2.06-2.06.94z\"/><path d=\"M17.41 7.96l-1.37-1.37c-.4-.4-.92-.59-1.43-.59-.52 0-1.04.2-1.43.59L10.3 9.45l-7.72 7.72c-.78.78-.78 2.05 0 2.83L4 21.41c.39.39.9.59 1.41.59.51 0 1.02-.2 1.41-.59l7.78-7.78 2.81-2.81c.8-.78.8-2.07 0-2.86zM5.41 20L4 18.59l7.72-7.72 1.47 1.35L5.41 20z\"/>\n",
              "  </svg>\n",
              "      </button>\n",
              "      \n",
              "  <style>\n",
              "    .colab-df-container {\n",
              "      display:flex;\n",
              "      flex-wrap:wrap;\n",
              "      gap: 12px;\n",
              "    }\n",
              "\n",
              "    .colab-df-convert {\n",
              "      background-color: #E8F0FE;\n",
              "      border: none;\n",
              "      border-radius: 50%;\n",
              "      cursor: pointer;\n",
              "      display: none;\n",
              "      fill: #1967D2;\n",
              "      height: 32px;\n",
              "      padding: 0 0 0 0;\n",
              "      width: 32px;\n",
              "    }\n",
              "\n",
              "    .colab-df-convert:hover {\n",
              "      background-color: #E2EBFA;\n",
              "      box-shadow: 0px 1px 2px rgba(60, 64, 67, 0.3), 0px 1px 3px 1px rgba(60, 64, 67, 0.15);\n",
              "      fill: #174EA6;\n",
              "    }\n",
              "\n",
              "    [theme=dark] .colab-df-convert {\n",
              "      background-color: #3B4455;\n",
              "      fill: #D2E3FC;\n",
              "    }\n",
              "\n",
              "    [theme=dark] .colab-df-convert:hover {\n",
              "      background-color: #434B5C;\n",
              "      box-shadow: 0px 1px 3px 1px rgba(0, 0, 0, 0.15);\n",
              "      filter: drop-shadow(0px 1px 2px rgba(0, 0, 0, 0.3));\n",
              "      fill: #FFFFFF;\n",
              "    }\n",
              "  </style>\n",
              "\n",
              "      <script>\n",
              "        const buttonEl =\n",
              "          document.querySelector('#df-111aab2e-26e2-46b1-a738-d097fe87412a button.colab-df-convert');\n",
              "        buttonEl.style.display =\n",
              "          google.colab.kernel.accessAllowed ? 'block' : 'none';\n",
              "\n",
              "        async function convertToInteractive(key) {\n",
              "          const element = document.querySelector('#df-111aab2e-26e2-46b1-a738-d097fe87412a');\n",
              "          const dataTable =\n",
              "            await google.colab.kernel.invokeFunction('convertToInteractive',\n",
              "                                                     [key], {});\n",
              "          if (!dataTable) return;\n",
              "\n",
              "          const docLinkHtml = 'Like what you see? Visit the ' +\n",
              "            '<a target=\"_blank\" href=https://colab.research.google.com/notebooks/data_table.ipynb>data table notebook</a>'\n",
              "            + ' to learn more about interactive tables.';\n",
              "          element.innerHTML = '';\n",
              "          dataTable['output_type'] = 'display_data';\n",
              "          await google.colab.output.renderOutput(dataTable, element);\n",
              "          const docLink = document.createElement('div');\n",
              "          docLink.innerHTML = docLinkHtml;\n",
              "          element.appendChild(docLink);\n",
              "        }\n",
              "      </script>\n",
              "    </div>\n",
              "  </div>\n",
              "  "
            ]
          },
          "metadata": {},
          "execution_count": 4
        }
      ]
    },
    {
      "cell_type": "code",
      "source": [
        "def dataset():\n",
        "    return df.drop([\"charges\"],axis=\"columns\"),df.charges.values\n",
        "\n",
        "X,y=dataset()"
      ],
      "metadata": {
        "id": "veeUE41MRogD"
      },
      "execution_count": null,
      "outputs": []
    },
    {
      "cell_type": "markdown",
      "source": [
        "# **Split data**"
      ],
      "metadata": {
        "id": "rZ5mQsNYS3B1"
      }
    },
    {
      "cell_type": "code",
      "source": [
        "from sklearn.model_selection import train_test_split\n",
        "\n",
        "X_train,X_test,Y_train,Y_test=train_test_split(X,\n",
        "                                               y,\n",
        "                                               test_size=0.33,\n",
        "                                               random_state=42)"
      ],
      "metadata": {
        "id": "Nh7nahYkRslr"
      },
      "execution_count": null,
      "outputs": []
    },
    {
      "cell_type": "markdown",
      "source": [
        "### **Data preprocessing**\n",
        "\n",
        "* **MinMaxScaler**  It consists of adjusting the data on a scale from 0 to 1. With the aim that the variables are comparable to each other. \n",
        "\n",
        "* **OneHotEncoding** It is used for qualitative variables. For example the geographical location or the color of a car.\n",
        "It consists of creating several fictitious variables according to the number of categorical variables. Where a 1 is indicated if said observation belongs to the class. It's a similar thing with truth tables if you're familiar with programming.\n"
      ],
      "metadata": {
        "id": "t4jI7eUcTBWs"
      }
    },
    {
      "cell_type": "code",
      "source": [
        "from sklearn.preprocessing import MinMaxScaler,OneHotEncoder"
      ],
      "metadata": {
        "id": "0V5NIR2cS_S9"
      },
      "execution_count": null,
      "outputs": []
    },
    {
      "cell_type": "markdown",
      "source": [
        "## **Data transform**"
      ],
      "metadata": {
        "id": "yVsDcHc1WhBQ"
      }
    },
    {
      "cell_type": "code",
      "source": [
        "from sklearn.compose import make_column_transformer\n",
        "from sklearn.pipeline import Pipeline"
      ],
      "metadata": {
        "id": "exgYTGS4V9BJ"
      },
      "execution_count": null,
      "outputs": []
    },
    {
      "cell_type": "code",
      "source": [
        "tf_colummns=make_column_transformer((MinMaxScaler(),[\"age\",\"bmi\",\"children\"]), \n",
        "                                   (OneHotEncoder(drop=\"if_binary\"),[\"region\",\"sex\",\n",
        "                                                                     \"smoker\",\"medical_problem\"])) "
      ],
      "metadata": {
        "id": "Z9FTJ7GGWpPI"
      },
      "execution_count": null,
      "outputs": []
    },
    {
      "cell_type": "markdown",
      "source": [
        "# **Selection of Best Model**\n",
        "\n",
        "There are 3 possible states where machine learning models fall.\n",
        "\n",
        "<img src=\"https://app-epicalsoftsite-prod.azurewebsites.net/wp-content/uploads/2019/02/underfitting-overfitting.png\" width=500 height=200>\n",
        "\n",
        "\n",
        "* **Underfitting:** It is due to the lack of variables; therefore, it does not perform well with training and validation data.Due to the lack of variables to consider.\n",
        "\n",
        "* **Perfect Fit:** The model yielded excellent results for both the training and validation data.\n",
        "\n",
        "* **Overfitting:**  Occurs due to outliers and an excessive number of variables. where the model performs well for the training data. But it is unable to adapt to data that it has never seen.\n"
      ],
      "metadata": {
        "id": "VtuSpOFBKKkp"
      }
    },
    {
      "cell_type": "markdown",
      "source": [
        "#### **Linear Regression**\n",
        "\n",
        "<img src=\"https://upload.wikimedia.org/wikipedia/commons/thumb/3/3a/Linear_regression.svg/2560px-Linear_regression.svg.png\" width=600/>\n",
        "\n",
        "\n",
        "\n",
        "A simple linear regression consists of finding the best straight line that fits the set of data.\n",
        "\n",
        "Its mathematical formula is the following: **$y=mx + b$**\n",
        "\n",
        "* $y$ the variable to predict\n",
        "* $m$ represents the variable\n",
        "* $x$ the weight of the coefficient\n",
        "* $b$ the intercept\n",
        "\n",
        "But in this case we will use a multiple linear regression model, where the best hyperplane that fits the data will be found. Because we are dealing with 2 or more predictor variables.\n",
        "\n",
        "The formula is very similar to the simple one with the difference that more coefficients are added accordingly to the number of variables.\n",
        "\n",
        "\n",
        "It has the advantage that it is easy to interpret. It has the disadvantage of requiring a scale adjustment so that the variables can be compared with each other."
      ],
      "metadata": {
        "id": "5BbwJg0XeXOg"
      }
    },
    {
      "cell_type": "code",
      "source": [
        "from sklearn.linear_model import LinearRegression"
      ],
      "metadata": {
        "id": "z9QIGaoOeV31"
      },
      "execution_count": null,
      "outputs": []
    },
    {
      "cell_type": "code",
      "source": [
        "def pipeline_model(model):\n",
        "\n",
        "    return Pipeline([(\"transform\",tf_colummns),(\"model\",model)])"
      ],
      "metadata": {
        "id": "L_jp42SogrcU"
      },
      "execution_count": null,
      "outputs": []
    },
    {
      "cell_type": "code",
      "source": [
        "lm_pipeline=pipeline_model(LinearRegression())"
      ],
      "metadata": {
        "id": "f8aQdZsAgXHb"
      },
      "execution_count": null,
      "outputs": []
    },
    {
      "cell_type": "code",
      "source": [
        "lm_pipeline.fit(X_train,Y_train) # train model"
      ],
      "metadata": {
        "colab": {
          "base_uri": "https://localhost:8080/"
        },
        "id": "vefScErMg-0H",
        "outputId": "aeb5b8c7-6548-4db6-fcf3-d3a22e26a706"
      },
      "execution_count": null,
      "outputs": [
        {
          "output_type": "execute_result",
          "data": {
            "text/plain": [
              "Pipeline(steps=[('transform',\n",
              "                 ColumnTransformer(transformers=[('minmaxscaler',\n",
              "                                                  MinMaxScaler(),\n",
              "                                                  ['age', 'bmi', 'children']),\n",
              "                                                 ('onehotencoder',\n",
              "                                                  OneHotEncoder(drop='if_binary'),\n",
              "                                                  ['region', 'sex', 'smoker',\n",
              "                                                   'medical_problem'])])),\n",
              "                ('model', LinearRegression())])"
            ]
          },
          "metadata": {},
          "execution_count": 13
        }
      ]
    },
    {
      "cell_type": "code",
      "source": [
        "lm_pipeline.score(X_train,Y_train) # evaluate with training data"
      ],
      "metadata": {
        "colab": {
          "base_uri": "https://localhost:8080/"
        },
        "id": "zJTDRN5HFVyW",
        "outputId": "5201a6c8-a229-4291-eb48-da4a09a9fbed"
      },
      "execution_count": null,
      "outputs": [
        {
          "output_type": "execute_result",
          "data": {
            "text/plain": [
              "0.9716253882910304"
            ]
          },
          "metadata": {},
          "execution_count": 14
        }
      ]
    },
    {
      "cell_type": "code",
      "source": [
        "lm_pipeline.score(X_test,Y_test)   # evaluate with test data"
      ],
      "metadata": {
        "colab": {
          "base_uri": "https://localhost:8080/"
        },
        "id": "Y38YuDkYhED6",
        "outputId": "b3c97dd0-4548-4013-ee4a-e8bf90dd65ae"
      },
      "execution_count": null,
      "outputs": [
        {
          "output_type": "execute_result",
          "data": {
            "text/plain": [
              "0.9739106480840141"
            ]
          },
          "metadata": {},
          "execution_count": 15
        }
      ]
    },
    {
      "cell_type": "markdown",
      "source": [
        "## **Ideal Selection of Numbers of Estimators**\n",
        "\n",
        "<img src=\"https://vitalflux.com/wp-content/uploads/2020/12/overfitting-and-underfitting-wrt-model-error-vs-complexity-1024x590.png\" width=600>\n",
        "\n",
        "\n",
        "We will use the **MSE** (mean square error) as a metric, which measures the average error between the value predicted by the model and the original value. It is very sensitive to outliers, which gives us a more realistic view of the error between predictions.\n",
        "Also, in the Characteristics Engineering section, I was in charge of treating outliers, which is why I consider it to be a good metric.\n",
        "\n",
        "We will use this metric to select the ideal range of number of estimators for the GradientBoosting and XGBoost algorithms.\n",
        "\n",
        "* We select the ideal range of estimators that does not show symptoms of overfitting, where it reaches a point where the model only improves on the training data. While for the test ones there is no significant improvement, for which there is no reason to use more estimators, if there is no longer a significant improvement.\n",
        "\n",
        "\n"
      ],
      "metadata": {
        "id": "O5qQ7mEcW_x9"
      }
    },
    {
      "cell_type": "code",
      "source": [
        "from sklearn.metrics import mean_squared_error"
      ],
      "metadata": {
        "id": "2MyI37mDXGss"
      },
      "execution_count": null,
      "outputs": []
    },
    {
      "cell_type": "markdown",
      "source": [
        "# **Assembler Algorithms**\n",
        "\n",
        "<img src=\"https://i0.wp.com/neptune.ai/wp-content/uploads/Gradient-boosting-LightGBM-vs-XGBoost.png?resize=591%2C431&ssl=1\" width=600>\n",
        "\n",
        "They are trees that use weak algorithms, usually decision trees. For GradientBoosting and XGBOOST, each estimator becomes stronger, according to the learning rate provided by the user. Where the predictions are established, to the total average of estimators.\n",
        "\n",
        "They have the advantage that they do not require preprocessing of variables, in this case we will do it to use the same scale as Linear Regression."
      ],
      "metadata": {
        "id": "QAxwpEUDHvNa"
      }
    },
    {
      "cell_type": "markdown",
      "source": [
        "## **Gradient Boosting**\n",
        "\n"
      ],
      "metadata": {
        "id": "96SbaBbiXi5L"
      }
    },
    {
      "cell_type": "code",
      "source": [
        "from sklearn.ensemble import GradientBoostingRegressor"
      ],
      "metadata": {
        "id": "pcic8pflXqLd"
      },
      "execution_count": null,
      "outputs": []
    },
    {
      "cell_type": "code",
      "source": [
        "def evaluate(max_depth,lr):\n",
        "    \n",
        "    estimator_list=[]\n",
        "    mse_train_list=[]\n",
        "    mse_test_list=[]\n",
        "\n",
        "    estimators=np.arange(100,1000,step=2)\n",
        "    for estimator in estimators:\n",
        "      \n",
        "        model=GradientBoostingRegressor(max_depth=max_depth,n_estimators=estimator,learning_rate=lr,random_state=42)\n",
        "        model=pipeline_model(model)\n",
        "        model.fit(X_train,Y_train)\n",
        "        pred_train=model.predict(X_train)\n",
        "        pred_test=model.predict(X_test)\n",
        "        \n",
        "        mse_train=mean_squared_error(Y_train,pred_train)\n",
        "        mse_test=mean_squared_error(Y_test,pred_test)\n",
        "        \n",
        "        estimator_list.append(estimator)\n",
        "        mse_test_list.append(mse_test)\n",
        "        mse_train_list.append(mse_train)\n",
        "\n",
        "        \n",
        "    return estimator_list,mse_test_list,mse_train_list"
      ],
      "metadata": {
        "id": "ewz8sjXKX66h"
      },
      "execution_count": null,
      "outputs": []
    },
    {
      "cell_type": "code",
      "source": [
        "def dataframe_evaluate_trees(max_depth,lr):\n",
        "  \n",
        "    n_trees,mse_test,mse_train=evaluate(max_depth=max_depth,lr=lr)\n",
        "\n",
        "    df_evaluate=pd.DataFrame({\"n_trees\": n_trees,\"mse_test\":mse_test,\"mse_train\":mse_train}) \n",
        "  \n",
        "    return df_evaluate"
      ],
      "metadata": {
        "id": "Mt2f4-Z-YZsw"
      },
      "execution_count": null,
      "outputs": []
    },
    {
      "cell_type": "code",
      "source": [
        "first_evaluete_gbr=dataframe_evaluate_trees(max_depth=3,lr=0.01)"
      ],
      "metadata": {
        "id": "MIldZkYNYlNJ"
      },
      "execution_count": null,
      "outputs": []
    },
    {
      "cell_type": "code",
      "source": [
        "second_evaluete_gbr=dataframe_evaluate_trees(max_depth=4,lr=0.01)"
      ],
      "metadata": {
        "id": "gnK7t8zzyCPr"
      },
      "execution_count": null,
      "outputs": []
    },
    {
      "cell_type": "markdown",
      "source": [
        "### *Ideal number of estimators*"
      ],
      "metadata": {
        "id": "Pzbl7sL5beWT"
      }
    },
    {
      "cell_type": "code",
      "source": [
        "def estimators_plot(df_evaluate_1,df_evaluate_2):\n",
        "\n",
        "  fig,(ax,ax_1)=plt.subplots(1,2,figsize=(20,8))\n",
        "\n",
        "  ax.set_title(\"Max depth 3 \")\n",
        "  ax.plot(df_evaluate_1[\"n_trees\"],df_evaluate_1[\"mse_train\"],label=\"Train MSE\")\n",
        "  ax.plot(df_evaluate_1[\"n_trees\"],df_evaluate_1[\"mse_test\"],label=\"Test MSE\")\n",
        "  ax.set_xlabel(\"n_estimators\")\n",
        "  ax.set_ylabel(\"mse\")\n",
        "    \n",
        "  ax_1.set_title(\"Max depth 4\")\n",
        "  ax_1.plot(df_evaluate_2[\"n_trees\"],df_evaluate_2[\"mse_train\"],label=\"Train MSE\")\n",
        "  ax_1.plot(df_evaluate_2[\"n_trees\"],df_evaluate_2[\"mse_test\"],label=\"Test MSE\")\n",
        "  ax_1.set_xlabel(\"n_estimators\")\n",
        "  ax_1.set_ylabel(\"mse\")\n",
        "    \n",
        "  plt.show()"
      ],
      "metadata": {
        "id": "HJJ13TbZVgoA"
      },
      "execution_count": null,
      "outputs": []
    },
    {
      "cell_type": "code",
      "source": [
        "sns.set_style(style=\"whitegrid\")"
      ],
      "metadata": {
        "id": "8omCQqVWXbxP"
      },
      "execution_count": null,
      "outputs": []
    },
    {
      "cell_type": "code",
      "source": [
        "estimators_plot(first_evaluete_gbr,second_evaluete_gbr)"
      ],
      "metadata": {
        "colab": {
          "base_uri": "https://localhost:8080/",
          "height": 401
        },
        "id": "Jyspj7G_W04r",
        "outputId": "27c180d4-b6ba-4a71-e3fe-2c33488ca35d"
      },
      "execution_count": null,
      "outputs": [
        {
          "output_type": "display_data",
          "data": {
            "text/plain": [
              "<Figure size 1440x576 with 2 Axes>"
            ],
            "image/png": "[encoded data removed]"
          },
          "metadata": {}
        }
      ]
    },
    {
      "cell_type": "markdown",
      "source": [
        "With a maximum depth of 3 there are fewer symptoms of overfitting, that is, the model is only good for training data, while for test data it does not perform well.\n",
        "\n",
        "A good range of estimators to select is between **320** and **360**, since from this amount the MSE does not drastically decrease for the test data, while for the training data it does decrease, which can cause an overfitting."
      ],
      "metadata": {
        "id": "1XFTkO3Kojza"
      }
    },
    {
      "cell_type": "code",
      "source": [
        "first_evaluete_gbr.query(\"n_trees>=330 and n_trees<=360\")"
      ],
      "metadata": {
        "colab": {
          "base_uri": "https://localhost:8080/",
          "height": 551
        },
        "id": "5FZ9Rjtlb2J7",
        "outputId": "9750a860-5c49-43a7-9da8-93ca854509ce"
      },
      "execution_count": null,
      "outputs": [
        {
          "output_type": "execute_result",
          "data": {
            "text/plain": [
              "     n_trees      mse_test     mse_train\n",
              "115      330  3.710098e+06  3.227366e+06\n",
              "116      332  3.692500e+06  3.208361e+06\n",
              "117      334  3.676926e+06  3.190123e+06\n",
              "118      336  3.660602e+06  3.171630e+06\n",
              "119      338  3.644864e+06  3.154494e+06\n",
              "120      340  3.630640e+06  3.137665e+06\n",
              "121      342  3.616476e+06  3.120526e+06\n",
              "122      344  3.602911e+06  3.104378e+06\n",
              "123      346  3.590603e+06  3.088128e+06\n",
              "124      348  3.576738e+06  3.071852e+06\n",
              "125      350  3.564482e+06  3.056335e+06\n",
              "126      352  3.550895e+06  3.041616e+06\n",
              "127      354  3.540603e+06  3.027025e+06\n",
              "128      356  3.527899e+06  3.012596e+06\n",
              "129      358  3.517946e+06  2.998698e+06\n",
              "130      360  3.506375e+06  2.984852e+06"
            ],
            "text/html": [
              "\n",
              "  <div id=\"df-2c8a24c1-7b90-421d-afa6-3e666e4c1ea9\">\n",
              "    <div class=\"colab-df-container\">\n",
              "      <div>\n",
              "<style scoped>\n",
              "    .dataframe tbody tr th:only-of-type {\n",
              "        vertical-align: middle;\n",
              "    }\n",
              "\n",
              "    .dataframe tbody tr th {\n",
              "        vertical-align: top;\n",
              "    }\n",
              "\n",
              "    .dataframe thead th {\n",
              "        text-align: right;\n",
              "    }\n",
              "</style>\n",
              "<table border=\"1\" class=\"dataframe\">\n",
              "  <thead>\n",
              "    <tr style=\"text-align: right;\">\n",
              "      <th></th>\n",
              "      <th>n_trees</th>\n",
              "      <th>mse_test</th>\n",
              "      <th>mse_train</th>\n",
              "    </tr>\n",
              "  </thead>\n",
              "  <tbody>\n",
              "    <tr>\n",
              "      <th>115</th>\n",
              "      <td>330</td>\n",
              "      <td>3.710098e+06</td>\n",
              "      <td>3.227366e+06</td>\n",
              "    </tr>\n",
              "    <tr>\n",
              "      <th>116</th>\n",
              "      <td>332</td>\n",
              "      <td>3.692500e+06</td>\n",
              "      <td>3.208361e+06</td>\n",
              "    </tr>\n",
              "    <tr>\n",
              "      <th>117</th>\n",
              "      <td>334</td>\n",
              "      <td>3.676926e+06</td>\n",
              "      <td>3.190123e+06</td>\n",
              "    </tr>\n",
              "    <tr>\n",
              "      <th>118</th>\n",
              "      <td>336</td>\n",
              "      <td>3.660602e+06</td>\n",
              "      <td>3.171630e+06</td>\n",
              "    </tr>\n",
              "    <tr>\n",
              "      <th>119</th>\n",
              "      <td>338</td>\n",
              "      <td>3.644864e+06</td>\n",
              "      <td>3.154494e+06</td>\n",
              "    </tr>\n",
              "    <tr>\n",
              "      <th>120</th>\n",
              "      <td>340</td>\n",
              "      <td>3.630640e+06</td>\n",
              "      <td>3.137665e+06</td>\n",
              "    </tr>\n",
              "    <tr>\n",
              "      <th>121</th>\n",
              "      <td>342</td>\n",
              "      <td>3.616476e+06</td>\n",
              "      <td>3.120526e+06</td>\n",
              "    </tr>\n",
              "    <tr>\n",
              "      <th>122</th>\n",
              "      <td>344</td>\n",
              "      <td>3.602911e+06</td>\n",
              "      <td>3.104378e+06</td>\n",
              "    </tr>\n",
              "    <tr>\n",
              "      <th>123</th>\n",
              "      <td>346</td>\n",
              "      <td>3.590603e+06</td>\n",
              "      <td>3.088128e+06</td>\n",
              "    </tr>\n",
              "    <tr>\n",
              "      <th>124</th>\n",
              "      <td>348</td>\n",
              "      <td>3.576738e+06</td>\n",
              "      <td>3.071852e+06</td>\n",
              "    </tr>\n",
              "    <tr>\n",
              "      <th>125</th>\n",
              "      <td>350</td>\n",
              "      <td>3.564482e+06</td>\n",
              "      <td>3.056335e+06</td>\n",
              "    </tr>\n",
              "    <tr>\n",
              "      <th>126</th>\n",
              "      <td>352</td>\n",
              "      <td>3.550895e+06</td>\n",
              "      <td>3.041616e+06</td>\n",
              "    </tr>\n",
              "    <tr>\n",
              "      <th>127</th>\n",
              "      <td>354</td>\n",
              "      <td>3.540603e+06</td>\n",
              "      <td>3.027025e+06</td>\n",
              "    </tr>\n",
              "    <tr>\n",
              "      <th>128</th>\n",
              "      <td>356</td>\n",
              "      <td>3.527899e+06</td>\n",
              "      <td>3.012596e+06</td>\n",
              "    </tr>\n",
              "    <tr>\n",
              "      <th>129</th>\n",
              "      <td>358</td>\n",
              "      <td>3.517946e+06</td>\n",
              "      <td>2.998698e+06</td>\n",
              "    </tr>\n",
              "    <tr>\n",
              "      <th>130</th>\n",
              "      <td>360</td>\n",
              "      <td>3.506375e+06</td>\n",
              "      <td>2.984852e+06</td>\n",
              "    </tr>\n",
              "  </tbody>\n",
              "</table>\n",
              "</div>\n",
              "      <button class=\"colab-df-convert\" onclick=\"convertToInteractive('df-2c8a24c1-7b90-421d-afa6-3e666e4c1ea9')\"\n",
              "              title=\"Convert this dataframe to an interactive table.\"\n",
              "              style=\"display:none;\">\n",
              "        \n",
              "  <svg xmlns=\"http://www.w3.org/2000/svg\" height=\"24px\"viewBox=\"0 0 24 24\"\n",
              "       width=\"24px\">\n",
              "    <path d=\"M0 0h24v24H0V0z\" fill=\"none\"/>\n",
              "    <path d=\"M18.56 5.44l.94 2.06.94-2.06 2.06-.94-2.06-.94-.94-2.06-.94 2.06-2.06.94zm-11 1L8.5 8.5l.94-2.06 2.06-.94-2.06-.94L8.5 2.5l-.94 2.06-2.06.94zm10 10l.94 2.06.94-2.06 2.06-.94-2.06-.94-.94-2.06-.94 2.06-2.06.94z\"/><path d=\"M17.41 7.96l-1.37-1.37c-.4-.4-.92-.59-1.43-.59-.52 0-1.04.2-1.43.59L10.3 9.45l-7.72 7.72c-.78.78-.78 2.05 0 2.83L4 21.41c.39.39.9.59 1.41.59.51 0 1.02-.2 1.41-.59l7.78-7.78 2.81-2.81c.8-.78.8-2.07 0-2.86zM5.41 20L4 18.59l7.72-7.72 1.47 1.35L5.41 20z\"/>\n",
              "  </svg>\n",
              "      </button>\n",
              "      \n",
              "  <style>\n",
              "    .colab-df-container {\n",
              "      display:flex;\n",
              "      flex-wrap:wrap;\n",
              "      gap: 12px;\n",
              "    }\n",
              "\n",
              "    .colab-df-convert {\n",
              "      background-color: #E8F0FE;\n",
              "      border: none;\n",
              "      border-radius: 50%;\n",
              "      cursor: pointer;\n",
              "      display: none;\n",
              "      fill: #1967D2;\n",
              "      height: 32px;\n",
              "      padding: 0 0 0 0;\n",
              "      width: 32px;\n",
              "    }\n",
              "\n",
              "    .colab-df-convert:hover {\n",
              "      background-color: #E2EBFA;\n",
              "      box-shadow: 0px 1px 2px rgba(60, 64, 67, 0.3), 0px 1px 3px 1px rgba(60, 64, 67, 0.15);\n",
              "      fill: #174EA6;\n",
              "    }\n",
              "\n",
              "    [theme=dark] .colab-df-convert {\n",
              "      background-color: #3B4455;\n",
              "      fill: #D2E3FC;\n",
              "    }\n",
              "\n",
              "    [theme=dark] .colab-df-convert:hover {\n",
              "      background-color: #434B5C;\n",
              "      box-shadow: 0px 1px 3px 1px rgba(0, 0, 0, 0.15);\n",
              "      filter: drop-shadow(0px 1px 2px rgba(0, 0, 0, 0.3));\n",
              "      fill: #FFFFFF;\n",
              "    }\n",
              "  </style>\n",
              "\n",
              "      <script>\n",
              "        const buttonEl =\n",
              "          document.querySelector('#df-2c8a24c1-7b90-421d-afa6-3e666e4c1ea9 button.colab-df-convert');\n",
              "        buttonEl.style.display =\n",
              "          google.colab.kernel.accessAllowed ? 'block' : 'none';\n",
              "\n",
              "        async function convertToInteractive(key) {\n",
              "          const element = document.querySelector('#df-2c8a24c1-7b90-421d-afa6-3e666e4c1ea9');\n",
              "          const dataTable =\n",
              "            await google.colab.kernel.invokeFunction('convertToInteractive',\n",
              "                                                     [key], {});\n",
              "          if (!dataTable) return;\n",
              "\n",
              "          const docLinkHtml = 'Like what you see? Visit the ' +\n",
              "            '<a target=\"_blank\" href=https://colab.research.google.com/notebooks/data_table.ipynb>data table notebook</a>'\n",
              "            + ' to learn more about interactive tables.';\n",
              "          element.innerHTML = '';\n",
              "          dataTable['output_type'] = 'display_data';\n",
              "          await google.colab.output.renderOutput(dataTable, element);\n",
              "          const docLink = document.createElement('div');\n",
              "          docLink.innerHTML = docLinkHtml;\n",
              "          element.appendChild(docLink);\n",
              "        }\n",
              "      </script>\n",
              "    </div>\n",
              "  </div>\n",
              "  "
            ]
          },
          "metadata": {},
          "execution_count": 25
        }
      ]
    },
    {
      "cell_type": "markdown",
      "source": [
        "\n",
        "Starting from the estimator number 356 there is no longer an improvement for the test data."
      ],
      "metadata": {
        "id": "zWN6f6QyheoS"
      }
    },
    {
      "cell_type": "code",
      "source": [
        "gbr=GradientBoostingRegressor(max_depth=3,\n",
        "                          learning_rate=0.01,\n",
        "                          n_estimators=356,\n",
        "                          random_state=42)"
      ],
      "metadata": {
        "id": "_DVKG_29bif8"
      },
      "execution_count": null,
      "outputs": []
    },
    {
      "cell_type": "code",
      "source": [
        "gbr_pipeline=pipeline_model(gbr)"
      ],
      "metadata": {
        "id": "VT7EMw5Mcfmn"
      },
      "execution_count": null,
      "outputs": []
    },
    {
      "cell_type": "code",
      "source": [
        "gbr_pipeline.fit(X_train,Y_train)"
      ],
      "metadata": {
        "colab": {
          "base_uri": "https://localhost:8080/"
        },
        "id": "7yKZyROpcho-",
        "outputId": "7b829317-6cf9-450b-f3e0-681a33a726b9"
      },
      "execution_count": null,
      "outputs": [
        {
          "output_type": "execute_result",
          "data": {
            "text/plain": [
              "Pipeline(steps=[('transform',\n",
              "                 ColumnTransformer(transformers=[('minmaxscaler',\n",
              "                                                  MinMaxScaler(),\n",
              "                                                  ['age', 'bmi', 'children']),\n",
              "                                                 ('onehotencoder',\n",
              "                                                  OneHotEncoder(drop='if_binary'),\n",
              "                                                  ['region', 'sex', 'smoker',\n",
              "                                                   'medical_problem'])])),\n",
              "                ('model',\n",
              "                 GradientBoostingRegressor(learning_rate=0.01, n_estimators=356,\n",
              "                                           random_state=42))])"
            ]
          },
          "metadata": {},
          "execution_count": 28
        }
      ]
    },
    {
      "cell_type": "code",
      "source": [
        "gbr_pipeline.score(X_train,Y_train) # evaluate with training data"
      ],
      "metadata": {
        "colab": {
          "base_uri": "https://localhost:8080/"
        },
        "id": "-5TwJpF4dCn9",
        "outputId": "37456e45-e61b-4682-82f0-a40e3c7d67a3"
      },
      "execution_count": null,
      "outputs": [
        {
          "output_type": "execute_result",
          "data": {
            "text/plain": [
              "0.9784300549237774"
            ]
          },
          "metadata": {},
          "execution_count": 29
        }
      ]
    },
    {
      "cell_type": "code",
      "source": [
        "gbr_pipeline.score(X_test,Y_test) # evaluate with test data"
      ],
      "metadata": {
        "colab": {
          "base_uri": "https://localhost:8080/"
        },
        "id": "uxgmIN9Zcldm",
        "outputId": "e0bbc55a-b799-4d7d-9b75-cbbda88bcef1"
      },
      "execution_count": null,
      "outputs": [
        {
          "output_type": "execute_result",
          "data": {
            "text/plain": [
              "0.9759846871453317"
            ]
          },
          "metadata": {},
          "execution_count": 30
        }
      ]
    },
    {
      "cell_type": "markdown",
      "source": [
        "# **XGBOOST**\n",
        "\n",
        "It has the advantage of using GPUs for training, so it creates training faster than other algorithms."
      ],
      "metadata": {
        "id": "GgyRWgPLdWGi"
      }
    },
    {
      "cell_type": "code",
      "source": [
        "from xgboost import XGBRegressor"
      ],
      "metadata": {
        "id": "uNTjA5wabxNC"
      },
      "execution_count": null,
      "outputs": []
    },
    {
      "cell_type": "markdown",
      "source": [
        "## *Selection number of estimators XGBOOST*"
      ],
      "metadata": {
        "id": "hH-PfzgQeJIA"
      }
    },
    {
      "cell_type": "code",
      "source": [
        "def evaluate(max_depth,lr):\n",
        "    \n",
        "    estimator_list=[]\n",
        "    mse_train_list=[]\n",
        "    mse_test_list=[]\n",
        "    \n",
        "    estimators=np.arange(100,1000,step=2)\n",
        "    for estimator in estimators:\n",
        "      \n",
        "        model=XGBRegressor(max_depth=max_depth,n_estimators=estimator,learning_rate=lr,random_state=42,verbosity=0)\n",
        "        model=pipeline_model(model)\n",
        "        model.fit(X_train,Y_train)\n",
        "        pred_train=model.predict(X_train)\n",
        "        pred_test=model.predict(X_test)\n",
        "        \n",
        "        mse_train=mean_squared_error(Y_train,pred_train)\n",
        "        mse_test=mean_squared_error(Y_test,pred_test)\n",
        "        \n",
        "        estimator_list.append(estimator)\n",
        "        mse_test_list.append(mse_test)\n",
        "        mse_train_list.append(mse_train)\n",
        "\n",
        "        \n",
        "    return estimator_list,mse_test_list,mse_train_list"
      ],
      "metadata": {
        "id": "jsTqIqgldxlh"
      },
      "execution_count": null,
      "outputs": []
    },
    {
      "cell_type": "code",
      "source": [
        "first_evaluete_xgb=dataframe_evaluate_trees(max_depth=3,lr=0.01)"
      ],
      "metadata": {
        "id": "57XmsP4KefZo"
      },
      "execution_count": null,
      "outputs": []
    },
    {
      "cell_type": "code",
      "source": [
        "second_evaluete_xgb=dataframe_evaluate_trees(max_depth=4,lr=0.01)"
      ],
      "metadata": {
        "id": "u4iDJV6XfORr"
      },
      "execution_count": null,
      "outputs": []
    },
    {
      "cell_type": "code",
      "source": [
        "estimators_plot(first_evaluete_xgb,second_evaluete_xgb)"
      ],
      "metadata": {
        "colab": {
          "base_uri": "https://localhost:8080/",
          "height": 405
        },
        "id": "VvUMzV4NfTmD",
        "outputId": "89bf31ff-a767-463f-8dfd-cd79d613fcae"
      },
      "execution_count": null,
      "outputs": [
        {
          "output_type": "display_data",
          "data": {
            "text/plain": [
              "<Figure size 1440x576 with 2 Axes>"
            ],
            "image/png": "[encoded data removed]"
          },
          "metadata": {}
        }
      ]
    },
    {
      "cell_type": "markdown",
      "source": [
        "Again with a maximum depth of 3 it will generate better results. The ideal number of trees is between **580** and **600**.Since starting from this quantity there is no significant improvement for the test data. We can allow ourselves the opportunity to use more estimators and not appreciate the curve of the overfitting graph. Something that generates a lower MSE since more decision trees were used."
      ],
      "metadata": {
        "id": "D-kU5u7CtE6d"
      }
    },
    {
      "cell_type": "code",
      "source": [
        "first_evaluete_xgb.query(\"n_trees>=580 and n_trees<=600\")"
      ],
      "metadata": {
        "colab": {
          "base_uri": "https://localhost:8080/",
          "height": 394
        },
        "id": "IenIjWWyh9gJ",
        "outputId": "b5c95497-5b33-42a0-a5e6-da432c54f6c1"
      },
      "execution_count": null,
      "outputs": [
        {
          "output_type": "execute_result",
          "data": {
            "text/plain": [
              "     n_trees      mse_test     mse_train\n",
              "240      580  3.010465e+06  2.374972e+06\n",
              "241      582  3.008327e+06  2.370695e+06\n",
              "242      584  3.006988e+06  2.368437e+06\n",
              "243      586  3.005550e+06  2.365191e+06\n",
              "244      588  3.004151e+06  2.362489e+06\n",
              "245      590  3.003320e+06  2.359925e+06\n",
              "246      592  3.002089e+06  2.357800e+06\n",
              "247      594  3.000733e+06  2.355108e+06\n",
              "248      596  2.999866e+06  2.351711e+06\n",
              "249      598  2.999690e+06  2.349483e+06\n",
              "250      600  2.999683e+06  2.347129e+06"
            ],
            "text/html": [
              "\n",
              "  <div id=\"df-9689fd58-1857-47db-9814-c2bb70e47af2\">\n",
              "    <div class=\"colab-df-container\">\n",
              "      <div>\n",
              "<style scoped>\n",
              "    .dataframe tbody tr th:only-of-type {\n",
              "        vertical-align: middle;\n",
              "    }\n",
              "\n",
              "    .dataframe tbody tr th {\n",
              "        vertical-align: top;\n",
              "    }\n",
              "\n",
              "    .dataframe thead th {\n",
              "        text-align: right;\n",
              "    }\n",
              "</style>\n",
              "<table border=\"1\" class=\"dataframe\">\n",
              "  <thead>\n",
              "    <tr style=\"text-align: right;\">\n",
              "      <th></th>\n",
              "      <th>n_trees</th>\n",
              "      <th>mse_test</th>\n",
              "      <th>mse_train</th>\n",
              "    </tr>\n",
              "  </thead>\n",
              "  <tbody>\n",
              "    <tr>\n",
              "      <th>240</th>\n",
              "      <td>580</td>\n",
              "      <td>3.010465e+06</td>\n",
              "      <td>2.374972e+06</td>\n",
              "    </tr>\n",
              "    <tr>\n",
              "      <th>241</th>\n",
              "      <td>582</td>\n",
              "      <td>3.008327e+06</td>\n",
              "      <td>2.370695e+06</td>\n",
              "    </tr>\n",
              "    <tr>\n",
              "      <th>242</th>\n",
              "      <td>584</td>\n",
              "      <td>3.006988e+06</td>\n",
              "      <td>2.368437e+06</td>\n",
              "    </tr>\n",
              "    <tr>\n",
              "      <th>243</th>\n",
              "      <td>586</td>\n",
              "      <td>3.005550e+06</td>\n",
              "      <td>2.365191e+06</td>\n",
              "    </tr>\n",
              "    <tr>\n",
              "      <th>244</th>\n",
              "      <td>588</td>\n",
              "      <td>3.004151e+06</td>\n",
              "      <td>2.362489e+06</td>\n",
              "    </tr>\n",
              "    <tr>\n",
              "      <th>245</th>\n",
              "      <td>590</td>\n",
              "      <td>3.003320e+06</td>\n",
              "      <td>2.359925e+06</td>\n",
              "    </tr>\n",
              "    <tr>\n",
              "      <th>246</th>\n",
              "      <td>592</td>\n",
              "      <td>3.002089e+06</td>\n",
              "      <td>2.357800e+06</td>\n",
              "    </tr>\n",
              "    <tr>\n",
              "      <th>247</th>\n",
              "      <td>594</td>\n",
              "      <td>3.000733e+06</td>\n",
              "      <td>2.355108e+06</td>\n",
              "    </tr>\n",
              "    <tr>\n",
              "      <th>248</th>\n",
              "      <td>596</td>\n",
              "      <td>2.999866e+06</td>\n",
              "      <td>2.351711e+06</td>\n",
              "    </tr>\n",
              "    <tr>\n",
              "      <th>249</th>\n",
              "      <td>598</td>\n",
              "      <td>2.999690e+06</td>\n",
              "      <td>2.349483e+06</td>\n",
              "    </tr>\n",
              "    <tr>\n",
              "      <th>250</th>\n",
              "      <td>600</td>\n",
              "      <td>2.999683e+06</td>\n",
              "      <td>2.347129e+06</td>\n",
              "    </tr>\n",
              "  </tbody>\n",
              "</table>\n",
              "</div>\n",
              "      <button class=\"colab-df-convert\" onclick=\"convertToInteractive('df-9689fd58-1857-47db-9814-c2bb70e47af2')\"\n",
              "              title=\"Convert this dataframe to an interactive table.\"\n",
              "              style=\"display:none;\">\n",
              "        \n",
              "  <svg xmlns=\"http://www.w3.org/2000/svg\" height=\"24px\"viewBox=\"0 0 24 24\"\n",
              "       width=\"24px\">\n",
              "    <path d=\"M0 0h24v24H0V0z\" fill=\"none\"/>\n",
              "    <path d=\"M18.56 5.44l.94 2.06.94-2.06 2.06-.94-2.06-.94-.94-2.06-.94 2.06-2.06.94zm-11 1L8.5 8.5l.94-2.06 2.06-.94-2.06-.94L8.5 2.5l-.94 2.06-2.06.94zm10 10l.94 2.06.94-2.06 2.06-.94-2.06-.94-.94-2.06-.94 2.06-2.06.94z\"/><path d=\"M17.41 7.96l-1.37-1.37c-.4-.4-.92-.59-1.43-.59-.52 0-1.04.2-1.43.59L10.3 9.45l-7.72 7.72c-.78.78-.78 2.05 0 2.83L4 21.41c.39.39.9.59 1.41.59.51 0 1.02-.2 1.41-.59l7.78-7.78 2.81-2.81c.8-.78.8-2.07 0-2.86zM5.41 20L4 18.59l7.72-7.72 1.47 1.35L5.41 20z\"/>\n",
              "  </svg>\n",
              "      </button>\n",
              "      \n",
              "  <style>\n",
              "    .colab-df-container {\n",
              "      display:flex;\n",
              "      flex-wrap:wrap;\n",
              "      gap: 12px;\n",
              "    }\n",
              "\n",
              "    .colab-df-convert {\n",
              "      background-color: #E8F0FE;\n",
              "      border: none;\n",
              "      border-radius: 50%;\n",
              "      cursor: pointer;\n",
              "      display: none;\n",
              "      fill: #1967D2;\n",
              "      height: 32px;\n",
              "      padding: 0 0 0 0;\n",
              "      width: 32px;\n",
              "    }\n",
              "\n",
              "    .colab-df-convert:hover {\n",
              "      background-color: #E2EBFA;\n",
              "      box-shadow: 0px 1px 2px rgba(60, 64, 67, 0.3), 0px 1px 3px 1px rgba(60, 64, 67, 0.15);\n",
              "      fill: #174EA6;\n",
              "    }\n",
              "\n",
              "    [theme=dark] .colab-df-convert {\n",
              "      background-color: #3B4455;\n",
              "      fill: #D2E3FC;\n",
              "    }\n",
              "\n",
              "    [theme=dark] .colab-df-convert:hover {\n",
              "      background-color: #434B5C;\n",
              "      box-shadow: 0px 1px 3px 1px rgba(0, 0, 0, 0.15);\n",
              "      filter: drop-shadow(0px 1px 2px rgba(0, 0, 0, 0.3));\n",
              "      fill: #FFFFFF;\n",
              "    }\n",
              "  </style>\n",
              "\n",
              "      <script>\n",
              "        const buttonEl =\n",
              "          document.querySelector('#df-9689fd58-1857-47db-9814-c2bb70e47af2 button.colab-df-convert');\n",
              "        buttonEl.style.display =\n",
              "          google.colab.kernel.accessAllowed ? 'block' : 'none';\n",
              "\n",
              "        async function convertToInteractive(key) {\n",
              "          const element = document.querySelector('#df-9689fd58-1857-47db-9814-c2bb70e47af2');\n",
              "          const dataTable =\n",
              "            await google.colab.kernel.invokeFunction('convertToInteractive',\n",
              "                                                     [key], {});\n",
              "          if (!dataTable) return;\n",
              "\n",
              "          const docLinkHtml = 'Like what you see? Visit the ' +\n",
              "            '<a target=\"_blank\" href=https://colab.research.google.com/notebooks/data_table.ipynb>data table notebook</a>'\n",
              "            + ' to learn more about interactive tables.';\n",
              "          element.innerHTML = '';\n",
              "          dataTable['output_type'] = 'display_data';\n",
              "          await google.colab.output.renderOutput(dataTable, element);\n",
              "          const docLink = document.createElement('div');\n",
              "          docLink.innerHTML = docLinkHtml;\n",
              "          element.appendChild(docLink);\n",
              "        }\n",
              "      </script>\n",
              "    </div>\n",
              "  </div>\n",
              "  "
            ]
          },
          "metadata": {},
          "execution_count": 40
        }
      ]
    },
    {
      "cell_type": "markdown",
      "source": [
        "We use a quantity of 596, since starting from this quantity there is no significant improvement. That justifies the use of more estimators."
      ],
      "metadata": {
        "id": "PzLeu9aNi2M9"
      }
    },
    {
      "cell_type": "code",
      "source": [
        "xgb_reg=XGBRegressor(max_depth=3,\n",
        "                     learning_rate=0.01,\n",
        "                     n_estimators=596,\n",
        "                     verbosity=0,\n",
        "                     random_state=42)\n",
        "\n",
        "xgb_pipeline=pipeline_model(xgb_reg)"
      ],
      "metadata": {
        "id": "Jf7JM25cjBsk"
      },
      "execution_count": null,
      "outputs": []
    },
    {
      "cell_type": "code",
      "source": [
        "xgb_pipeline.fit(X_train,Y_train) # train model"
      ],
      "metadata": {
        "colab": {
          "base_uri": "https://localhost:8080/"
        },
        "id": "tNPxLHbfjpw7",
        "outputId": "4d58f04a-9c80-4943-db2a-46af6befeae2"
      },
      "execution_count": null,
      "outputs": [
        {
          "output_type": "execute_result",
          "data": {
            "text/plain": [
              "Pipeline(steps=[('transform',\n",
              "                 ColumnTransformer(transformers=[('minmaxscaler',\n",
              "                                                  MinMaxScaler(),\n",
              "                                                  ['age', 'bmi', 'children']),\n",
              "                                                 ('onehotencoder',\n",
              "                                                  OneHotEncoder(drop='if_binary'),\n",
              "                                                  ['region', 'sex', 'smoker',\n",
              "                                                   'medical_problem'])])),\n",
              "                ('model',\n",
              "                 XGBRegressor(learning_rate=0.01, n_estimators=596,\n",
              "                              random_state=42, verbosity=0))])"
            ]
          },
          "metadata": {},
          "execution_count": 42
        }
      ]
    },
    {
      "cell_type": "code",
      "source": [
        "xgb_pipeline.score(X_train,Y_train) # evaluation with train data"
      ],
      "metadata": {
        "colab": {
          "base_uri": "https://localhost:8080/"
        },
        "id": "lmBiBP0FjwI5",
        "outputId": "d860c8dd-fca7-4406-b38e-5caf946d9bca"
      },
      "execution_count": null,
      "outputs": [
        {
          "output_type": "execute_result",
          "data": {
            "text/plain": [
              "0.9831619347981969"
            ]
          },
          "metadata": {},
          "execution_count": 43
        }
      ]
    },
    {
      "cell_type": "code",
      "source": [
        "xgb_pipeline.score(X_test,Y_test) # evaluation with test data"
      ],
      "metadata": {
        "colab": {
          "base_uri": "https://localhost:8080/"
        },
        "id": "_UlO9o_bjz-S",
        "outputId": "5e68e636-9c14-4a3b-c09f-c7b06ee4062b"
      },
      "execution_count": null,
      "outputs": [
        {
          "output_type": "execute_result",
          "data": {
            "text/plain": [
              "0.9795791427981901"
            ]
          },
          "metadata": {},
          "execution_count": 44
        }
      ]
    },
    {
      "cell_type": "code",
      "source": [
        "from sklearn.metrics import r2_score\n",
        "from sklearn.model_selection import cross_val_score"
      ],
      "metadata": {
        "id": "NfBXa0gSfZk2"
      },
      "execution_count": null,
      "outputs": []
    },
    {
      "cell_type": "code",
      "source": [
        "class Evaluete():\n",
        "\n",
        "  def __init__(self,model,X_data,y_true):\n",
        "\n",
        "    self.X_data=X_data\n",
        "    self.y_true=y_true\n",
        "\n",
        "    self.model=model\n",
        "    self.predict=self.model.predict(self.X_data)\n",
        "\n",
        "\n",
        "  def mse(self):\n",
        "\n",
        "    return mean_squared_error(self.y_true,self.predict)\n",
        "\n",
        "  def r2(self):\n",
        "\n",
        "    return r2_score(self.y_true,self.predict)\n",
        "\n",
        "  def cv_score(self):\n",
        "    \n",
        "    return cross_val_score(self.model,self.X_data,self.y_true,cv=10).mean()\n",
        "  "
      ],
      "metadata": {
        "id": "WZJ8KsEwd3BG"
      },
      "execution_count": null,
      "outputs": []
    },
    {
      "cell_type": "code",
      "source": [
        "metrics_lm_train=Evaluete(lm_pipeline,X_train,Y_train)\n",
        "metrics_gbr_train=Evaluete(gbr_pipeline,X_train,Y_train)\n",
        "metrics_xgb_train=Evaluete(xgb_pipeline,X_train,Y_train)"
      ],
      "metadata": {
        "id": "4A3W-recvSGQ"
      },
      "execution_count": null,
      "outputs": []
    },
    {
      "cell_type": "code",
      "source": [
        "metrics_lm_test=Evaluete(lm_pipeline,X_test,Y_test)\n",
        "metrics_gbr_test=Evaluete(gbr_pipeline,X_test,Y_test)\n",
        "metrics_xgb_test=Evaluete(xgb_pipeline,X_test,Y_test)"
      ],
      "metadata": {
        "id": "nvwzz9Qtvgsd"
      },
      "execution_count": null,
      "outputs": []
    },
    {
      "cell_type": "markdown",
      "source": [
        "### **MSE**\n",
        "\n",
        "Measures the average error between the original and predicted values."
      ],
      "metadata": {
        "id": "o3RGHQejhTEn"
      }
    },
    {
      "cell_type": "code",
      "source": [
        "\n",
        "\n",
        "mse_lm_train=metrics_lm_train.mse()\n",
        "mse_lm_test=metrics_lm_test.mse()\n",
        "\n",
        "mse_gbr_train=metrics_gbr_train.mse()\n",
        "mse_gbr_test=metrics_gbr_test.mse()\n",
        "\n",
        "mse_xgb_train=metrics_xgb_train.mse()\n",
        "mse_xgb_test=metrics_xgb_test.mse()\n"
      ],
      "metadata": {
        "id": "OgLMj0ABk1r1"
      },
      "execution_count": null,
      "outputs": []
    },
    {
      "cell_type": "markdown",
      "source": [
        "## **$R²$**\n",
        "\n",
        "\n",
        "It measures the degree of fit between the original value and the predictions. The closer it is to 1, the closer the original and predicted values ​​will be."
      ],
      "metadata": {
        "id": "401nHQMThZTO"
      }
    },
    {
      "cell_type": "code",
      "source": [
        "r2_lm_train=metrics_lm_train.r2()\n",
        "r2_lm_test=metrics_lm_test.r2()\n",
        "\n",
        "r2_gbr_train=metrics_gbr_train.r2()\n",
        "r2_gbr_test=metrics_gbr_test.r2()\n",
        "\n",
        "r2_xgb_train=metrics_xgb_train.r2()\n",
        "r2_xgb_test=metrics_xgb_test.r2()\n"
      ],
      "metadata": {
        "id": "AegqVTc5hXyo"
      },
      "execution_count": null,
      "outputs": []
    },
    {
      "cell_type": "markdown",
      "source": [
        "### **Cross Validation**"
      ],
      "metadata": {
        "id": "xSA8UEnKlI0S"
      }
    },
    {
      "cell_type": "markdown",
      "source": [
        "It measures the degree of generalization of the model. It divides the data into several subsets by the amount said by the user. To subsequently obtain the average value of generalization."
      ],
      "metadata": {
        "id": "ElAcU5IZkJ_q"
      }
    },
    {
      "cell_type": "code",
      "source": [
        "\n",
        "cv_lm_test=metrics_lm_test.cv_score()\n",
        "\n",
        "cv_gbr_test=metrics_gbr_test.cv_score()\n",
        "\n",
        "cv_xgb_test=metrics_xgb_test.cv_score()"
      ],
      "metadata": {
        "id": "L15mlOyMlRBN"
      },
      "execution_count": null,
      "outputs": []
    },
    {
      "cell_type": "markdown",
      "source": [
        "### **Dataframe evaluation**"
      ],
      "metadata": {
        "id": "STCqQNHBluDh"
      }
    },
    {
      "cell_type": "code",
      "source": [
        "models_names=[\"Linear Regression\",\"Gradient Boosting\",\"XGBOOST\"]\n",
        "\n",
        "mse_train=[mse_lm_train,mse_gbr_train,mse_xgb_train]\n",
        "mse_test=[mse_lm_test,mse_gbr_test,mse_xgb_test]\n",
        "\n",
        "r2_train=[r2_lm_train,r2_gbr_train,r2_xgb_train]\n",
        "r2_test=[r2_lm_test,r2_gbr_test,r2_xgb_test]\n",
        "\n",
        "cv=[cv_lm_test,cv_gbr_test,cv_xgb_test]\n",
        "\n",
        "evaluate_df=pd.DataFrame({\"Model\":models_names,\n",
        "                          \"MSE train\":mse_train,\n",
        "                          \"MSE test\":mse_test,\n",
        "                          \"R2 train\":r2_train,\n",
        "                          \"R2 test\":r2_test,\n",
        "                          \"CV\":cv})"
      ],
      "metadata": {
        "id": "StxVuJVuli9j"
      },
      "execution_count": null,
      "outputs": []
    },
    {
      "cell_type": "code",
      "source": [
        "evaluate_df"
      ],
      "metadata": {
        "colab": {
          "base_uri": "https://localhost:8080/",
          "height": 143
        },
        "id": "20yHi37ql2lz",
        "outputId": "ba317a7a-8c7a-47ba-9875-ba387c24b523"
      },
      "execution_count": null,
      "outputs": [
        {
          "output_type": "execute_result",
          "data": {
            "text/plain": [
              "               Model     MSE train      MSE test  R2 train   R2 test        CV\n",
              "0  Linear Regression  3.962979e+06  3.832580e+06  0.971625  0.973911  0.966669\n",
              "1  Gradient Boosting  3.012596e+06  3.527899e+06  0.978430  0.975985  0.972753\n",
              "2            XGBOOST  2.351711e+06  2.999866e+06  0.983162  0.979579  0.974445"
            ],
            "text/html": [
              "\n",
              "  <div id=\"df-ea3dfd48-6cb1-4368-8a3b-0f49aaaffdc8\">\n",
              "    <div class=\"colab-df-container\">\n",
              "      <div>\n",
              "<style scoped>\n",
              "    .dataframe tbody tr th:only-of-type {\n",
              "        vertical-align: middle;\n",
              "    }\n",
              "\n",
              "    .dataframe tbody tr th {\n",
              "        vertical-align: top;\n",
              "    }\n",
              "\n",
              "    .dataframe thead th {\n",
              "        text-align: right;\n",
              "    }\n",
              "</style>\n",
              "<table border=\"1\" class=\"dataframe\">\n",
              "  <thead>\n",
              "    <tr style=\"text-align: right;\">\n",
              "      <th></th>\n",
              "      <th>Model</th>\n",
              "      <th>MSE train</th>\n",
              "      <th>MSE test</th>\n",
              "      <th>R2 train</th>\n",
              "      <th>R2 test</th>\n",
              "      <th>CV</th>\n",
              "    </tr>\n",
              "  </thead>\n",
              "  <tbody>\n",
              "    <tr>\n",
              "      <th>0</th>\n",
              "      <td>Linear Regression</td>\n",
              "      <td>3.962979e+06</td>\n",
              "      <td>3.832580e+06</td>\n",
              "      <td>0.971625</td>\n",
              "      <td>0.973911</td>\n",
              "      <td>0.966669</td>\n",
              "    </tr>\n",
              "    <tr>\n",
              "      <th>1</th>\n",
              "      <td>Gradient Boosting</td>\n",
              "      <td>3.012596e+06</td>\n",
              "      <td>3.527899e+06</td>\n",
              "      <td>0.978430</td>\n",
              "      <td>0.975985</td>\n",
              "      <td>0.972753</td>\n",
              "    </tr>\n",
              "    <tr>\n",
              "      <th>2</th>\n",
              "      <td>XGBOOST</td>\n",
              "      <td>2.351711e+06</td>\n",
              "      <td>2.999866e+06</td>\n",
              "      <td>0.983162</td>\n",
              "      <td>0.979579</td>\n",
              "      <td>0.974445</td>\n",
              "    </tr>\n",
              "  </tbody>\n",
              "</table>\n",
              "</div>\n",
              "      <button class=\"colab-df-convert\" onclick=\"convertToInteractive('df-ea3dfd48-6cb1-4368-8a3b-0f49aaaffdc8')\"\n",
              "              title=\"Convert this dataframe to an interactive table.\"\n",
              "              style=\"display:none;\">\n",
              "        \n",
              "  <svg xmlns=\"http://www.w3.org/2000/svg\" height=\"24px\"viewBox=\"0 0 24 24\"\n",
              "       width=\"24px\">\n",
              "    <path d=\"M0 0h24v24H0V0z\" fill=\"none\"/>\n",
              "    <path d=\"M18.56 5.44l.94 2.06.94-2.06 2.06-.94-2.06-.94-.94-2.06-.94 2.06-2.06.94zm-11 1L8.5 8.5l.94-2.06 2.06-.94-2.06-.94L8.5 2.5l-.94 2.06-2.06.94zm10 10l.94 2.06.94-2.06 2.06-.94-2.06-.94-.94-2.06-.94 2.06-2.06.94z\"/><path d=\"M17.41 7.96l-1.37-1.37c-.4-.4-.92-.59-1.43-.59-.52 0-1.04.2-1.43.59L10.3 9.45l-7.72 7.72c-.78.78-.78 2.05 0 2.83L4 21.41c.39.39.9.59 1.41.59.51 0 1.02-.2 1.41-.59l7.78-7.78 2.81-2.81c.8-.78.8-2.07 0-2.86zM5.41 20L4 18.59l7.72-7.72 1.47 1.35L5.41 20z\"/>\n",
              "  </svg>\n",
              "      </button>\n",
              "      \n",
              "  <style>\n",
              "    .colab-df-container {\n",
              "      display:flex;\n",
              "      flex-wrap:wrap;\n",
              "      gap: 12px;\n",
              "    }\n",
              "\n",
              "    .colab-df-convert {\n",
              "      background-color: #E8F0FE;\n",
              "      border: none;\n",
              "      border-radius: 50%;\n",
              "      cursor: pointer;\n",
              "      display: none;\n",
              "      fill: #1967D2;\n",
              "      height: 32px;\n",
              "      padding: 0 0 0 0;\n",
              "      width: 32px;\n",
              "    }\n",
              "\n",
              "    .colab-df-convert:hover {\n",
              "      background-color: #E2EBFA;\n",
              "      box-shadow: 0px 1px 2px rgba(60, 64, 67, 0.3), 0px 1px 3px 1px rgba(60, 64, 67, 0.15);\n",
              "      fill: #174EA6;\n",
              "    }\n",
              "\n",
              "    [theme=dark] .colab-df-convert {\n",
              "      background-color: #3B4455;\n",
              "      fill: #D2E3FC;\n",
              "    }\n",
              "\n",
              "    [theme=dark] .colab-df-convert:hover {\n",
              "      background-color: #434B5C;\n",
              "      box-shadow: 0px 1px 3px 1px rgba(0, 0, 0, 0.15);\n",
              "      filter: drop-shadow(0px 1px 2px rgba(0, 0, 0, 0.3));\n",
              "      fill: #FFFFFF;\n",
              "    }\n",
              "  </style>\n",
              "\n",
              "      <script>\n",
              "        const buttonEl =\n",
              "          document.querySelector('#df-ea3dfd48-6cb1-4368-8a3b-0f49aaaffdc8 button.colab-df-convert');\n",
              "        buttonEl.style.display =\n",
              "          google.colab.kernel.accessAllowed ? 'block' : 'none';\n",
              "\n",
              "        async function convertToInteractive(key) {\n",
              "          const element = document.querySelector('#df-ea3dfd48-6cb1-4368-8a3b-0f49aaaffdc8');\n",
              "          const dataTable =\n",
              "            await google.colab.kernel.invokeFunction('convertToInteractive',\n",
              "                                                     [key], {});\n",
              "          if (!dataTable) return;\n",
              "\n",
              "          const docLinkHtml = 'Like what you see? Visit the ' +\n",
              "            '<a target=\"_blank\" href=https://colab.research.google.com/notebooks/data_table.ipynb>data table notebook</a>'\n",
              "            + ' to learn more about interactive tables.';\n",
              "          element.innerHTML = '';\n",
              "          dataTable['output_type'] = 'display_data';\n",
              "          await google.colab.output.renderOutput(dataTable, element);\n",
              "          const docLink = document.createElement('div');\n",
              "          docLink.innerHTML = docLinkHtml;\n",
              "          element.appendChild(docLink);\n",
              "        }\n",
              "      </script>\n",
              "    </div>\n",
              "  </div>\n",
              "  "
            ]
          },
          "metadata": {},
          "execution_count": 53
        }
      ]
    },
    {
      "cell_type": "code",
      "source": [
        "fig,(ax_bar_1,ax_bar_2)=plt.subplots(1,2,figsize=(20,8))\n",
        "\n",
        "ax_bar_1.set_title(\"Train MSE\")\n",
        "sns.barplot(data=evaluate_df,x=\"Model\",y=\"MSE train\",palette=\"Set2\",ax=ax_bar_1)\n",
        "\n",
        "ax_bar_2.set_title(\"Test MSE\")\n",
        "sns.barplot(data=evaluate_df,x=\"Model\",y=\"MSE test\",palette=\"Set2\",ax=ax_bar_2)\n",
        "\n",
        "\n",
        "plt.show()"
      ],
      "metadata": {
        "colab": {
          "base_uri": "https://localhost:8080/",
          "height": 401
        },
        "id": "5mBRPoCx1TCf",
        "outputId": "b229e3fa-f2e4-45ac-f46a-e54477e42e09"
      },
      "execution_count": null,
      "outputs": [
        {
          "output_type": "display_data",
          "data": {
            "text/plain": [
              "<Figure size 1440x576 with 2 Axes>"
            ],
            "image/png": "[encoded data removed]"
          },
          "metadata": {}
        }
      ]
    },
    {
      "cell_type": "markdown",
      "source": [
        "The **XGBOOST** has a better RMSE for training and validation data than its competitors."
      ],
      "metadata": {
        "id": "9xf-O9rnWS2c"
      }
    },
    {
      "cell_type": "code",
      "source": [
        "pred_lm=lm_pipeline.predict(X_test)\n",
        "pred_gbr=gbr_pipeline.predict(X_test)\n",
        "pred_xgb=xgb_pipeline.predict(X_test)"
      ],
      "metadata": {
        "id": "aIC6LD0_2dpK"
      },
      "execution_count": null,
      "outputs": []
    },
    {
      "cell_type": "code",
      "source": [
        "\n",
        "df_test=pd.DataFrame({\"true_values\":Y_test,\n",
        "                        \"pred_lm\":pred_lm,\n",
        "                      \"pred_gbr\":pred_gbr,\n",
        "                      \"pred_xgb\":pred_xgb,\n",
        "                      \"smoker\":X_test[\"smoker\"]\n",
        "                     })"
      ],
      "metadata": {
        "id": "3dYaQAGimZu_"
      },
      "execution_count": null,
      "outputs": []
    },
    {
      "cell_type": "code",
      "source": [
        "fig,(ax_0,ax_1,ax_2)=plt.subplots(1,3,figsize=(20,8))\n",
        "sns.set_style(style=\"whitegrid\")\n",
        "\n",
        "ax_0.set_title(\"Linear Regression Regression\")\n",
        "sns.scatterplot(data=df_test,x=\"true_values\",y=\"pred_lm\",color=\"red\",hue=\"smoker\",ax=ax_0,palette=\"Set2\")\n",
        "sns.lineplot(data=df_test,x=\"true_values\",y=\"true_values\",color=\"c\",ax=ax_0)\n",
        "\n",
        "\n",
        "ax_1.set_title(\"GradientBoosting\")\n",
        "sns.scatterplot(data=df_test,x=\"true_values\",y=\"pred_gbr\",color=\"red\",hue=\"smoker\",ax=ax_1,palette=\"Set2\")\n",
        "sns.lineplot(data=df_test,x=\"true_values\",y=\"true_values\",color=\"c\",ax=ax_1)\n",
        "\n",
        "ax_2.set_title(\"XGBOOST\")\n",
        "sns.scatterplot(data=df_test,x=\"true_values\",y=\"pred_xgb\",color=\"red\",hue=\"smoker\",ax=ax_2,palette=\"Set2\")\n",
        "sns.lineplot(data=df_test,x=\"true_values\",y=\"true_values\",color=\"c\",ax=ax_2)\n",
        "\n",
        "plt.show()"
      ],
      "metadata": {
        "colab": {
          "base_uri": "https://localhost:8080/",
          "height": 392
        },
        "id": "npejWUOwmrw-",
        "outputId": "45ab2f12-0634-4aed-e0e3-600496dc2522"
      },
      "execution_count": null,
      "outputs": [
        {
          "output_type": "display_data",
          "data": {
            "text/plain": [
              "<Figure size 1440x576 with 3 Axes>"
            ],
            "image/png": "[encoded data removed]"
          },
          "metadata": {}
        }
      ]
    },
    {
      "cell_type": "markdown",
      "source": [
        "## **Conclusion** \n",
        "\n",
        "All 3 algorithms give excellent results. Any of them can perfectly solve the problem.\n",
        "\n",
        "**XGBOOST** Offers better metrics for test and training data.It also has the advantage that it does not require scaling for continuous variables, since it works based on mathematical inequalities. We can use the original data without any problem. "
      ],
      "metadata": {
        "id": "Gl-A1_KNVQCQ"
      }
    }
  ]
}