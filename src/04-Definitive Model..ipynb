{
 "cells": [
  {
   "cell_type": "markdown",
   "id": "d036c602",
   "metadata": {},
   "source": [
    "## **Import libraries**"
   ]
  },
  {
   "cell_type": "code",
   "execution_count": 42,
   "id": "f6adac72",
   "metadata": {},
   "outputs": [],
   "source": [
    "import pandas as pd # Data Manupulation\n",
    "import matplotlib.pyplot as plt # Plots\n",
    "import seaborn as sns # Plots\n",
    "import warnings # Ignore Warnings\n",
    "import shap # Feature importances"
   ]
  },
  {
   "cell_type": "code",
   "execution_count": 2,
   "id": "694b22a9",
   "metadata": {},
   "outputs": [],
   "source": [
    "warnings.filterwarnings(\"ignore\") # Ignore Warnings"
   ]
  },
  {
   "cell_type": "markdown",
   "id": "8bad8851",
   "metadata": {},
   "source": [
    "### **Load Data**"
   ]
  },
  {
   "cell_type": "code",
   "execution_count": 3,
   "id": "d1461106",
   "metadata": {},
   "outputs": [],
   "source": [
    "df=pd.read_csv(\"insurence_clearv2.csv\")"
   ]
  },
  {
   "cell_type": "markdown",
   "id": "d015dafa",
   "metadata": {},
   "source": [
    "###  *Split Inputs and Outputs*"
   ]
  },
  {
   "cell_type": "code",
   "execution_count": 4,
   "id": "62807f17",
   "metadata": {},
   "outputs": [],
   "source": [
    "def load_inputs_outputs():\n",
    "    \n",
    "    return df.drop([\"charges\"],axis=\"columns\"),df.charges.values\n",
    "\n",
    "X,y=load_inputs_outputs()"
   ]
  },
  {
   "cell_type": "markdown",
   "id": "b3a85a13",
   "metadata": {},
   "source": [
    "### *Split data*"
   ]
  },
  {
   "cell_type": "code",
   "execution_count": 5,
   "id": "50a4573c",
   "metadata": {},
   "outputs": [],
   "source": [
    "from sklearn.model_selection import train_test_split"
   ]
  },
  {
   "cell_type": "code",
   "execution_count": 6,
   "id": "b9b39e5d",
   "metadata": {},
   "outputs": [],
   "source": [
    "X_train,X_test,Y_train,Y_test=train_test_split(X,y,\n",
    "                                               test_size=0.33, # 33% for testing\n",
    "                                               random_state=42)"
   ]
  },
  {
   "cell_type": "code",
   "execution_count": 7,
   "id": "1c0374d9",
   "metadata": {},
   "outputs": [
    {
     "data": {
      "text/plain": [
       "(896, 442)"
      ]
     },
     "execution_count": 7,
     "metadata": {},
     "output_type": "execute_result"
    }
   ],
   "source": [
    "X_train.shape[0],X_test.shape[0]"
   ]
  },
  {
   "cell_type": "markdown",
   "id": "52c9bfbc",
   "metadata": {},
   "source": [
    "#### *Data preprocessing*\n",
    "\n",
    "**Note** Decision trees do not require normalization of their inputs; and since XGBoost is essentially an ensemble algorithm comprised of decision trees, it does not require normalization for the inputs either.\n",
    "\n",
    "We will only perform **One Hot Encoding transformation** for categorical variable."
   ]
  },
  {
   "cell_type": "markdown",
   "id": "255b3269",
   "metadata": {},
   "source": [
    "#### *One Hot Encoding*\n",
    "\n",
    "<img src=\"https://miro.medium.com/max/1400/1*ggtP4a5YaRx6l09KQaYOnw.png\">\n",
    "\n",
    "It is used for qualitative categorical variables, for example in the image the color variable.\n",
    "Where dummy variables are created according to the number of categories of the variables, a 1 is assigned where it complies with the condition and the others are filled with 0.\n",
    "\n",
    " Instead of just replacing the labels with random numbers it can affect the performance of the model, for this type of variables. Since we would be giving more weight to the categories that have the highest value. In addition, the One Hot Encoding transformation has the advantage at the geometric level, since there is already the same distance between the categories."
   ]
  },
  {
   "cell_type": "code",
   "execution_count": 8,
   "id": "f2b77459",
   "metadata": {},
   "outputs": [],
   "source": [
    "class Preprocessing_OHE():\n",
    "    \n",
    "    def __init__(self,X_data):\n",
    "        self.X_data=X_data\n",
    "    \n",
    "    \n",
    "    def binary(self):\n",
    "        \n",
    "        self.X_data[\"sex\"]=self.X_data[\"sex\"].apply(lambda x: 1 if x == \"male\"  else 0)\n",
    "        self.X_data[\"smoker\"]=self.X_data[\"smoker\"].apply(lambda x: 1 if x == \"yes\"  else 0)\n",
    "        self.X_data[\"medical_problem\"]=self.X_data[\"medical_problem\"].apply(lambda x: 1 if x == \"severe\"  else 0)\n",
    "        \n",
    "        return self.X_data\n",
    "    \n",
    "    def multinomial(self):\n",
    "        \n",
    "        return pd.get_dummies(self.X_data,columns=[\"region\"])"
   ]
  },
  {
   "cell_type": "markdown",
   "id": "6f985c18",
   "metadata": {},
   "source": [
    "   ### *Preprocessing Training Data*"
   ]
  },
  {
   "cell_type": "code",
   "execution_count": 9,
   "id": "3390f79c",
   "metadata": {},
   "outputs": [],
   "source": [
    "X_train_preprocesing=Preprocessing_OHE(X_train)"
   ]
  },
  {
   "cell_type": "code",
   "execution_count": 10,
   "id": "72a3e4d4",
   "metadata": {},
   "outputs": [],
   "source": [
    "X_train_ohe=X_train_preprocesing.binary()\n",
    "X_train_ohe=X_train_preprocesing.multinomial()"
   ]
  },
  {
   "cell_type": "code",
   "execution_count": 11,
   "id": "8a434103",
   "metadata": {
    "scrolled": true
   },
   "outputs": [
    {
     "data": {
      "text/html": [
       "<div>\n",
       "<style scoped>\n",
       "    .dataframe tbody tr th:only-of-type {\n",
       "        vertical-align: middle;\n",
       "    }\n",
       "\n",
       "    .dataframe tbody tr th {\n",
       "        vertical-align: top;\n",
       "    }\n",
       "\n",
       "    .dataframe thead th {\n",
       "        text-align: right;\n",
       "    }\n",
       "</style>\n",
       "<table border=\"1\" class=\"dataframe\">\n",
       "  <thead>\n",
       "    <tr style=\"text-align: right;\">\n",
       "      <th></th>\n",
       "      <th>age</th>\n",
       "      <th>sex</th>\n",
       "      <th>bmi</th>\n",
       "      <th>children</th>\n",
       "      <th>smoker</th>\n",
       "      <th>medical_problem</th>\n",
       "      <th>region_northeast</th>\n",
       "      <th>region_northwest</th>\n",
       "      <th>region_southeast</th>\n",
       "      <th>region_southwest</th>\n",
       "    </tr>\n",
       "  </thead>\n",
       "  <tbody>\n",
       "    <tr>\n",
       "      <th>1046</th>\n",
       "      <td>18</td>\n",
       "      <td>1</td>\n",
       "      <td>48.950</td>\n",
       "      <td>0</td>\n",
       "      <td>0</td>\n",
       "      <td>0</td>\n",
       "      <td>0</td>\n",
       "      <td>0</td>\n",
       "      <td>1</td>\n",
       "      <td>0</td>\n",
       "    </tr>\n",
       "    <tr>\n",
       "      <th>682</th>\n",
       "      <td>55</td>\n",
       "      <td>1</td>\n",
       "      <td>32.775</td>\n",
       "      <td>0</td>\n",
       "      <td>0</td>\n",
       "      <td>0</td>\n",
       "      <td>0</td>\n",
       "      <td>1</td>\n",
       "      <td>0</td>\n",
       "      <td>0</td>\n",
       "    </tr>\n",
       "    <tr>\n",
       "      <th>1037</th>\n",
       "      <td>19</td>\n",
       "      <td>0</td>\n",
       "      <td>25.745</td>\n",
       "      <td>1</td>\n",
       "      <td>0</td>\n",
       "      <td>0</td>\n",
       "      <td>0</td>\n",
       "      <td>1</td>\n",
       "      <td>0</td>\n",
       "      <td>0</td>\n",
       "    </tr>\n",
       "    <tr>\n",
       "      <th>490</th>\n",
       "      <td>38</td>\n",
       "      <td>0</td>\n",
       "      <td>34.800</td>\n",
       "      <td>2</td>\n",
       "      <td>0</td>\n",
       "      <td>0</td>\n",
       "      <td>0</td>\n",
       "      <td>0</td>\n",
       "      <td>0</td>\n",
       "      <td>1</td>\n",
       "    </tr>\n",
       "    <tr>\n",
       "      <th>39</th>\n",
       "      <td>18</td>\n",
       "      <td>0</td>\n",
       "      <td>35.625</td>\n",
       "      <td>0</td>\n",
       "      <td>0</td>\n",
       "      <td>0</td>\n",
       "      <td>1</td>\n",
       "      <td>0</td>\n",
       "      <td>0</td>\n",
       "      <td>0</td>\n",
       "    </tr>\n",
       "  </tbody>\n",
       "</table>\n",
       "</div>"
      ],
      "text/plain": [
       "      age  sex     bmi  children  smoker  medical_problem  region_northeast  \\\n",
       "1046   18    1  48.950         0       0                0                 0   \n",
       "682    55    1  32.775         0       0                0                 0   \n",
       "1037   19    0  25.745         1       0                0                 0   \n",
       "490    38    0  34.800         2       0                0                 0   \n",
       "39     18    0  35.625         0       0                0                 1   \n",
       "\n",
       "      region_northwest  region_southeast  region_southwest  \n",
       "1046                 0                 1                 0  \n",
       "682                  1                 0                 0  \n",
       "1037                 1                 0                 0  \n",
       "490                  0                 0                 1  \n",
       "39                   0                 0                 0  "
      ]
     },
     "execution_count": 11,
     "metadata": {},
     "output_type": "execute_result"
    }
   ],
   "source": [
    "X_train_ohe.head()"
   ]
  },
  {
   "cell_type": "markdown",
   "id": "292c0c9d",
   "metadata": {},
   "source": [
    "### *Preprocessing Testing Data*"
   ]
  },
  {
   "cell_type": "code",
   "execution_count": 12,
   "id": "c531bea1",
   "metadata": {},
   "outputs": [],
   "source": [
    "X_test_preprocesing=Preprocessing_OHE(X_test)"
   ]
  },
  {
   "cell_type": "code",
   "execution_count": 13,
   "id": "f74d0747",
   "metadata": {},
   "outputs": [],
   "source": [
    "X_test_ohe=X_test_preprocesing.binary()\n",
    "X_test_ohe=X_test_preprocesing.multinomial()"
   ]
  },
  {
   "cell_type": "code",
   "execution_count": 14,
   "id": "c1fc9910",
   "metadata": {},
   "outputs": [
    {
     "data": {
      "text/html": [
       "<div>\n",
       "<style scoped>\n",
       "    .dataframe tbody tr th:only-of-type {\n",
       "        vertical-align: middle;\n",
       "    }\n",
       "\n",
       "    .dataframe tbody tr th {\n",
       "        vertical-align: top;\n",
       "    }\n",
       "\n",
       "    .dataframe thead th {\n",
       "        text-align: right;\n",
       "    }\n",
       "</style>\n",
       "<table border=\"1\" class=\"dataframe\">\n",
       "  <thead>\n",
       "    <tr style=\"text-align: right;\">\n",
       "      <th></th>\n",
       "      <th>age</th>\n",
       "      <th>sex</th>\n",
       "      <th>bmi</th>\n",
       "      <th>children</th>\n",
       "      <th>smoker</th>\n",
       "      <th>medical_problem</th>\n",
       "      <th>region_northeast</th>\n",
       "      <th>region_northwest</th>\n",
       "      <th>region_southeast</th>\n",
       "      <th>region_southwest</th>\n",
       "    </tr>\n",
       "  </thead>\n",
       "  <tbody>\n",
       "    <tr>\n",
       "      <th>764</th>\n",
       "      <td>57</td>\n",
       "      <td>1</td>\n",
       "      <td>18.335</td>\n",
       "      <td>0</td>\n",
       "      <td>0</td>\n",
       "      <td>0</td>\n",
       "      <td>1</td>\n",
       "      <td>0</td>\n",
       "      <td>0</td>\n",
       "      <td>0</td>\n",
       "    </tr>\n",
       "    <tr>\n",
       "      <th>887</th>\n",
       "      <td>45</td>\n",
       "      <td>1</td>\n",
       "      <td>20.350</td>\n",
       "      <td>3</td>\n",
       "      <td>0</td>\n",
       "      <td>0</td>\n",
       "      <td>0</td>\n",
       "      <td>0</td>\n",
       "      <td>1</td>\n",
       "      <td>0</td>\n",
       "    </tr>\n",
       "    <tr>\n",
       "      <th>890</th>\n",
       "      <td>23</td>\n",
       "      <td>1</td>\n",
       "      <td>24.510</td>\n",
       "      <td>0</td>\n",
       "      <td>0</td>\n",
       "      <td>0</td>\n",
       "      <td>1</td>\n",
       "      <td>0</td>\n",
       "      <td>0</td>\n",
       "      <td>0</td>\n",
       "    </tr>\n",
       "    <tr>\n",
       "      <th>1293</th>\n",
       "      <td>19</td>\n",
       "      <td>0</td>\n",
       "      <td>32.490</td>\n",
       "      <td>0</td>\n",
       "      <td>1</td>\n",
       "      <td>1</td>\n",
       "      <td>0</td>\n",
       "      <td>1</td>\n",
       "      <td>0</td>\n",
       "      <td>0</td>\n",
       "    </tr>\n",
       "    <tr>\n",
       "      <th>259</th>\n",
       "      <td>24</td>\n",
       "      <td>0</td>\n",
       "      <td>27.600</td>\n",
       "      <td>0</td>\n",
       "      <td>0</td>\n",
       "      <td>1</td>\n",
       "      <td>0</td>\n",
       "      <td>0</td>\n",
       "      <td>0</td>\n",
       "      <td>1</td>\n",
       "    </tr>\n",
       "  </tbody>\n",
       "</table>\n",
       "</div>"
      ],
      "text/plain": [
       "      age  sex     bmi  children  smoker  medical_problem  region_northeast  \\\n",
       "764    57    1  18.335         0       0                0                 1   \n",
       "887    45    1  20.350         3       0                0                 0   \n",
       "890    23    1  24.510         0       0                0                 1   \n",
       "1293   19    0  32.490         0       1                1                 0   \n",
       "259    24    0  27.600         0       0                1                 0   \n",
       "\n",
       "      region_northwest  region_southeast  region_southwest  \n",
       "764                  0                 0                 0  \n",
       "887                  0                 1                 0  \n",
       "890                  0                 0                 0  \n",
       "1293                 1                 0                 0  \n",
       "259                  0                 0                 1  "
      ]
     },
     "execution_count": 14,
     "metadata": {},
     "output_type": "execute_result"
    }
   ],
   "source": [
    "X_test_ohe.head()"
   ]
  },
  {
   "cell_type": "markdown",
   "id": "d32d3132",
   "metadata": {},
   "source": [
    "\n",
    "<h1><center>XGBOOST</center></h1>\n",
    "\n",
    "<img src=\"https://media.springernature.com/lw685/springer-static/image/art%3A10.1007%2Fs11276-020-02428-7/MediaObjects/11276_2020_2428_Fig3_HTML.png\">"
   ]
  },
  {
   "cell_type": "markdown",
   "id": "e0962a1a",
   "metadata": {},
   "source": [
    "It is part of the assembly algorithms. Which is a type of algorithms that uses weaker models, generally decision trees. The functioning of this model can be summed up with the following phrase: **\"Unity is strength\".**\n",
    "\n",
    "\n",
    "Unlike its brother the random forest which is another ensemble algorithm, it will improve each estimator in such a way that each estimator becomes better than the previous one according to the learning rate.\n",
    "\n",
    "\n",
    "For this particular problem, which is regression, that is, to predict values with a decimal, each estimator performs the prediction to subsequently obtain the average prediction for each estimator."
   ]
  },
  {
   "cell_type": "code",
   "execution_count": 15,
   "id": "147b3471",
   "metadata": {},
   "outputs": [],
   "source": [
    "from xgboost import XGBRegressor"
   ]
  },
  {
   "cell_type": "markdown",
   "id": "4e01b793",
   "metadata": {},
   "source": [
    "### **Explanation parameters**"
   ]
  },
  {
   "cell_type": "markdown",
   "id": "d2a00a8e",
   "metadata": {},
   "source": [
    "* max_depth: Maximum depth of each decision tree.\n",
    "\n",
    "* n_estimators: Number of estimators,that is base algorithms.\n",
    "\n",
    "* learning_rate: Room for improvement for each decision tree, this parameter goes from 0 to 1.\n",
    "\n",
    "* random_state: For example, if I want to run this algorithm again, it will give me a different result, due to the random state"
   ]
  },
  {
   "cell_type": "markdown",
   "id": "32761aae",
   "metadata": {},
   "source": [
    "#### *Creation of Model*"
   ]
  },
  {
   "cell_type": "code",
   "execution_count": 17,
   "id": "edd1015d",
   "metadata": {},
   "outputs": [],
   "source": [
    "xgb_reg=XGBRegressor(max_depth=3,\n",
    "                     learning_rate=0.01,\n",
    "                     n_estimators=596,\n",
    "                     random_state=42)"
   ]
  },
  {
   "cell_type": "markdown",
   "id": "c9ae1697",
   "metadata": {},
   "source": [
    "We assign the same parameters that we use to choose the ideal model."
   ]
  },
  {
   "cell_type": "markdown",
   "id": "a5bbaefb",
   "metadata": {},
   "source": [
    "#### *Train Model*"
   ]
  },
  {
   "cell_type": "code",
   "execution_count": 18,
   "id": "9ff516f3",
   "metadata": {},
   "outputs": [
    {
     "data": {
      "text/plain": [
       "XGBRegressor(base_score=0.5, booster='gbtree', callbacks=None,\n",
       "             colsample_bylevel=1, colsample_bynode=1, colsample_bytree=1,\n",
       "             early_stopping_rounds=None, enable_categorical=False,\n",
       "             eval_metric=None, gamma=0, gpu_id=-1, grow_policy='depthwise',\n",
       "             importance_type=None, interaction_constraints='',\n",
       "             learning_rate=0.01, max_bin=256, max_cat_to_onehot=4,\n",
       "             max_delta_step=0, max_depth=3, max_leaves=0, min_child_weight=1,\n",
       "             missing=nan, monotone_constraints='()', n_estimators=596, n_jobs=0,\n",
       "             num_parallel_tree=1, predictor='auto', random_state=42,\n",
       "             reg_alpha=0, reg_lambda=1, ...)"
      ]
     },
     "execution_count": 18,
     "metadata": {},
     "output_type": "execute_result"
    }
   ],
   "source": [
    "xgb_reg.fit(X_train_ohe,Y_train) "
   ]
  },
  {
   "cell_type": "markdown",
   "id": "0e38ad7d",
   "metadata": {},
   "source": [
    "### *Model Evaluation*"
   ]
  },
  {
   "cell_type": "code",
   "execution_count": 19,
   "id": "5a586c80",
   "metadata": {},
   "outputs": [],
   "source": [
    "from sklearn.model_selection import cross_val_score\n",
    "from sklearn.metrics import r2_score,mean_squared_error"
   ]
  },
  {
   "cell_type": "markdown",
   "id": "1577ec5e",
   "metadata": {},
   "source": [
    "<h1><center>Mean Square Error</center></h1>\n",
    "\n",
    "<img src=\"https://vitalflux.com/wp-content/uploads/2020/09/Regression-terminologies-Page-2-1024x619.png\" width=400>"
   ]
  },
  {
   "cell_type": "markdown",
   "id": "04c10c23",
   "metadata": {},
   "source": [
    "It is the average error between the value predicted by the model with respect to the model."
   ]
  },
  {
   "cell_type": "markdown",
   "id": "b15aadde",
   "metadata": {},
   "source": [
    "\n",
    "<h1><center>Cross Validation</center></h1>\n",
    "\n",
    "<img src=\"https://scikit-learn.org/stable/_images/grid_search_cross_validation.png\" width=400>"
   ]
  },
  {
   "cell_type": "markdown",
   "id": "4bf03353",
   "metadata": {},
   "source": [
    "It consists of subsampling the data according to the number requested by the user. In order to obtain an average of generalization of the data."
   ]
  },
  {
   "cell_type": "code",
   "execution_count": 34,
   "id": "4499bdaa",
   "metadata": {},
   "outputs": [],
   "source": [
    "class Evaluete():\n",
    "    \n",
    "    def __init__(self,X_data,y_true):\n",
    "            \n",
    "\n",
    "        self.X_data=X_data\n",
    "        self.y_true=y_true\n",
    "\n",
    "        self.model=xgb_reg\n",
    "        self.predict=self.model.predict(self.X_data)\n",
    "    \n",
    "    def mse(self):\n",
    "        \n",
    "        return mean_squared_error(self.y_true,self.predict).flatten()\n",
    "\n",
    "    def r2(self):\n",
    "        \n",
    "        return r2_score(self.y_true,self.predict).flatten()\n",
    "\n",
    "    def cv_score(self):\n",
    "        \n",
    "        return cross_val_score(self.model,self.X_data,self.y_true,cv=10).mean().flatten()\n"
   ]
  },
  {
   "cell_type": "markdown",
   "id": "6f67e815",
   "metadata": {},
   "source": [
    "### *Train Evaluation*"
   ]
  },
  {
   "cell_type": "code",
   "execution_count": 35,
   "id": "f8f6de04",
   "metadata": {},
   "outputs": [],
   "source": [
    "train_eval=Evaluete(X_train_ohe,Y_train)"
   ]
  },
  {
   "cell_type": "code",
   "execution_count": 36,
   "id": "f48e73d9",
   "metadata": {},
   "outputs": [],
   "source": [
    "mse_train=train_eval.mse()\n",
    "r2_train=train_eval.r2()\n",
    "cv_train=train_eval.cv_score()"
   ]
  },
  {
   "cell_type": "markdown",
   "id": "a31e2615",
   "metadata": {},
   "source": [
    "### *Test Evaluation*"
   ]
  },
  {
   "cell_type": "code",
   "execution_count": 37,
   "id": "0af91ea4",
   "metadata": {},
   "outputs": [],
   "source": [
    "test_eval=Evaluete(X_test_ohe,Y_test)"
   ]
  },
  {
   "cell_type": "code",
   "execution_count": 38,
   "id": "60d6127b",
   "metadata": {},
   "outputs": [],
   "source": [
    "mse_test=test_eval.mse()\n",
    "r2_test=test_eval.r2()\n",
    "cv_test=test_eval.cv_score()"
   ]
  },
  {
   "cell_type": "markdown",
   "id": "885e8df0",
   "metadata": {},
   "source": [
    "### *Evaluation Dataframe*"
   ]
  },
  {
   "cell_type": "code",
   "execution_count": 39,
   "id": "97c652f2",
   "metadata": {},
   "outputs": [],
   "source": [
    "features_df={\"mse_train\":mse_train,\n",
    "         \"mse_test\":mse_test,\n",
    "         \"r2_train\":r2_train,\n",
    "         \"r2_test\":r2_test,\n",
    "         \"cv_train\":cv_train,\n",
    "         \"cv_test\":cv_test}"
   ]
  },
  {
   "cell_type": "code",
   "execution_count": 40,
   "id": "4c4dc24d",
   "metadata": {},
   "outputs": [],
   "source": [
    "df_evaluate=pd.DataFrame(features_df)"
   ]
  },
  {
   "cell_type": "code",
   "execution_count": 41,
   "id": "a63ec1dc",
   "metadata": {},
   "outputs": [
    {
     "data": {
      "text/html": [
       "<div>\n",
       "<style scoped>\n",
       "    .dataframe tbody tr th:only-of-type {\n",
       "        vertical-align: middle;\n",
       "    }\n",
       "\n",
       "    .dataframe tbody tr th {\n",
       "        vertical-align: top;\n",
       "    }\n",
       "\n",
       "    .dataframe thead th {\n",
       "        text-align: right;\n",
       "    }\n",
       "</style>\n",
       "<table border=\"1\" class=\"dataframe\">\n",
       "  <thead>\n",
       "    <tr style=\"text-align: right;\">\n",
       "      <th></th>\n",
       "      <th>mse_train</th>\n",
       "      <th>mse_test</th>\n",
       "      <th>r2_train</th>\n",
       "      <th>r2_test</th>\n",
       "      <th>cv_train</th>\n",
       "      <th>cv_test</th>\n",
       "    </tr>\n",
       "  </thead>\n",
       "  <tbody>\n",
       "    <tr>\n",
       "      <th>0</th>\n",
       "      <td>2.351711e+06</td>\n",
       "      <td>3.023848e+06</td>\n",
       "      <td>0.983162</td>\n",
       "      <td>0.979416</td>\n",
       "      <td>0.975549</td>\n",
       "      <td>0.974433</td>\n",
       "    </tr>\n",
       "  </tbody>\n",
       "</table>\n",
       "</div>"
      ],
      "text/plain": [
       "      mse_train      mse_test  r2_train   r2_test  cv_train   cv_test\n",
       "0  2.351711e+06  3.023848e+06  0.983162  0.979416  0.975549  0.974433"
      ]
     },
     "execution_count": 41,
     "metadata": {},
     "output_type": "execute_result"
    }
   ],
   "source": [
    "df_evaluate"
   ]
  },
  {
   "cell_type": "code",
   "execution_count": 45,
   "id": "aaf3039e",
   "metadata": {},
   "outputs": [],
   "source": [
    "explainer = shap.TreeExplainer(xgb_reg)\n",
    "shap_values = explainer.shap_values(X_test_ohe)"
   ]
  },
  {
   "cell_type": "markdown",
   "id": "bd9c361d",
   "metadata": {},
   "source": [
    "### **Plot Importance**"
   ]
  },
  {
   "cell_type": "code",
   "execution_count": 46,
   "id": "1591ea2c",
   "metadata": {},
   "outputs": [],
   "source": [
    "def plot_importance():\n",
    "    \n",
    "    sns.set_style(style=\"whitegrid\")\n",
    "    shap.summary_plot(shap_values, X_test_ohe, plot_type=\"bar\")\n",
    "    \n",
    "    return plt.show()"
   ]
  },
  {
   "cell_type": "code",
   "execution_count": 47,
   "id": "9fcbcd68",
   "metadata": {},
   "outputs": [
    {
     "data": {
      "image/png": "[encoded data removed]",
      "text/plain": [
       "<Figure size 576x396 with 1 Axes>"
      ]
     },
     "metadata": {},
     "output_type": "display_data"
    }
   ],
   "source": [
    "if __name__ == \"__main__\":\n",
    "    plot_importance()"
   ]
  },
  {
   "cell_type": "code",
   "execution_count": 49,
   "id": "eadf07fc",
   "metadata": {},
   "outputs": [
    {
     "data": {
      "image/png": "[encoded data removed]",
      "text/plain": [
       "<Figure size 576x396 with 2 Axes>"
      ]
     },
     "metadata": {},
     "output_type": "display_data"
    }
   ],
   "source": [
    "shap.summary_plot(shap_values, X_test_ohe)"
   ]
  },
  {
   "cell_type": "markdown",
   "id": "08ad2b7e",
   "metadata": {},
   "source": [
    "* We note that the **medical problem** variable that we created in the Featurew Engineering section. It has great weight when estimating the price of the insurance, since if we have a very serious problem, the cost of the insurance will not increase more.\n",
    "\n",
    "* The **smoker** variable also has great weight, since people generally have a worse state of health.\n",
    "\n",
    "* The variable **age** adds value to the predictions. Since it can be understood that elderly people require more medical care."
   ]
  },
  {
   "cell_type": "markdown",
   "id": "951fcd37",
   "metadata": {},
   "source": [
    "The other variables may not have as much relevance compared to the previous variables that I mentioned earlier. But they can complement the value of the prediction. And that the difference between humans and machines when making predictions is that we rely on only relevant variables, while machines use these variables and also those that are not so significant, since they look for patterns unknown to the naked eye ."
   ]
  },
  {
   "cell_type": "markdown",
   "id": "c81da0bb",
   "metadata": {},
   "source": [
    "#### **We make predictions**"
   ]
  },
  {
   "cell_type": "code",
   "execution_count": 50,
   "id": "d3dcca8c",
   "metadata": {},
   "outputs": [],
   "source": [
    "y_pred=xgb_reg.predict(X_test_ohe)\n",
    "y_pred=y_pred.flatten()"
   ]
  },
  {
   "cell_type": "code",
   "execution_count": 56,
   "id": "f8476029",
   "metadata": {},
   "outputs": [],
   "source": [
    "X_test[\"smoker\"]=X_test[\"smoker\"].apply(lambda x: \"yes\" if x ==1 else \"no\")"
   ]
  },
  {
   "cell_type": "code",
   "execution_count": 57,
   "id": "5ed8faeb",
   "metadata": {},
   "outputs": [],
   "source": [
    "df_test=pd.DataFrame({\"y_true\":Y_test,\n",
    "                      \"y_pred\":y_pred,\n",
    "                      \"smoker\":X_test[\"smoker\"]})"
   ]
  },
  {
   "cell_type": "code",
   "execution_count": 62,
   "id": "fa8cc8ee",
   "metadata": {},
   "outputs": [],
   "source": [
    "def main():\n",
    "    \n",
    "    fig,(ax)=plt.subplots(1,1,figsize=(20,8))\n",
    "    \n",
    "    ax.set_title(\"True Values vs Predictions\")\n",
    "    sns.scatterplot(data=df_test,x=\"y_true\",y=\"y_pred\",hue=\"smoker\",palette=\"Set2\")\n",
    "    sns.lineplot(data=df_test,x=\"y_true\",y=\"y_true\",color=\"c\")"
   ]
  },
  {
   "cell_type": "code",
   "execution_count": 63,
   "id": "c2f2aedb",
   "metadata": {},
   "outputs": [
    {
     "data": {
      "image/png": "[encoded data removed]",
      "text/plain": [
       "<Figure size 1440x576 with 1 Axes>"
      ]
     },
     "metadata": {},
     "output_type": "display_data"
    }
   ],
   "source": [
    "if __name__ == \"__main__\":\n",
    "    \n",
    "    main()"
   ]
  },
  {
   "cell_type": "code",
   "execution_count": 71,
   "id": "ac77e674",
   "metadata": {},
   "outputs": [
    {
     "data": {
      "text/html": [
       "<div>\n",
       "<style scoped>\n",
       "    .dataframe tbody tr th:only-of-type {\n",
       "        vertical-align: middle;\n",
       "    }\n",
       "\n",
       "    .dataframe tbody tr th {\n",
       "        vertical-align: top;\n",
       "    }\n",
       "\n",
       "    .dataframe thead th {\n",
       "        text-align: right;\n",
       "    }\n",
       "</style>\n",
       "<table border=\"1\" class=\"dataframe\">\n",
       "  <thead>\n",
       "    <tr style=\"text-align: right;\">\n",
       "      <th></th>\n",
       "      <th>y_true</th>\n",
       "      <th>y_pred</th>\n",
       "      <th>smoker</th>\n",
       "    </tr>\n",
       "  </thead>\n",
       "  <tbody>\n",
       "    <tr>\n",
       "      <th>435</th>\n",
       "      <td>11538.421000</td>\n",
       "      <td>11405.943359</td>\n",
       "      <td>no</td>\n",
       "    </tr>\n",
       "    <tr>\n",
       "      <th>629</th>\n",
       "      <td>4350.514400</td>\n",
       "      <td>4753.903320</td>\n",
       "      <td>no</td>\n",
       "    </tr>\n",
       "    <tr>\n",
       "      <th>332</th>\n",
       "      <td>7323.734819</td>\n",
       "      <td>2895.726562</td>\n",
       "      <td>no</td>\n",
       "    </tr>\n",
       "    <tr>\n",
       "      <th>987</th>\n",
       "      <td>2699.568350</td>\n",
       "      <td>3137.377686</td>\n",
       "      <td>no</td>\n",
       "    </tr>\n",
       "    <tr>\n",
       "      <th>744</th>\n",
       "      <td>13470.804400</td>\n",
       "      <td>13154.744141</td>\n",
       "      <td>no</td>\n",
       "    </tr>\n",
       "    <tr>\n",
       "      <th>875</th>\n",
       "      <td>4561.188500</td>\n",
       "      <td>5020.006348</td>\n",
       "      <td>no</td>\n",
       "    </tr>\n",
       "    <tr>\n",
       "      <th>370</th>\n",
       "      <td>2201.097100</td>\n",
       "      <td>3332.743408</td>\n",
       "      <td>no</td>\n",
       "    </tr>\n",
       "    <tr>\n",
       "      <th>282</th>\n",
       "      <td>3180.510100</td>\n",
       "      <td>3602.754883</td>\n",
       "      <td>no</td>\n",
       "    </tr>\n",
       "    <tr>\n",
       "      <th>348</th>\n",
       "      <td>7345.084000</td>\n",
       "      <td>7451.192871</td>\n",
       "      <td>no</td>\n",
       "    </tr>\n",
       "    <tr>\n",
       "      <th>1055</th>\n",
       "      <td>22395.744240</td>\n",
       "      <td>22174.378906</td>\n",
       "      <td>no</td>\n",
       "    </tr>\n",
       "    <tr>\n",
       "      <th>664</th>\n",
       "      <td>16069.084750</td>\n",
       "      <td>14824.206055</td>\n",
       "      <td>no</td>\n",
       "    </tr>\n",
       "    <tr>\n",
       "      <th>427</th>\n",
       "      <td>8825.086000</td>\n",
       "      <td>8889.758789</td>\n",
       "      <td>no</td>\n",
       "    </tr>\n",
       "    <tr>\n",
       "      <th>984</th>\n",
       "      <td>12479.708950</td>\n",
       "      <td>11993.656250</td>\n",
       "      <td>no</td>\n",
       "    </tr>\n",
       "    <tr>\n",
       "      <th>81</th>\n",
       "      <td>11881.358000</td>\n",
       "      <td>11811.742188</td>\n",
       "      <td>no</td>\n",
       "    </tr>\n",
       "    <tr>\n",
       "      <th>1032</th>\n",
       "      <td>11931.125250</td>\n",
       "      <td>11788.847656</td>\n",
       "      <td>no</td>\n",
       "    </tr>\n",
       "    <tr>\n",
       "      <th>312</th>\n",
       "      <td>9264.797000</td>\n",
       "      <td>9379.272461</td>\n",
       "      <td>no</td>\n",
       "    </tr>\n",
       "    <tr>\n",
       "      <th>695</th>\n",
       "      <td>13129.603450</td>\n",
       "      <td>13375.526367</td>\n",
       "      <td>no</td>\n",
       "    </tr>\n",
       "    <tr>\n",
       "      <th>755</th>\n",
       "      <td>9487.644200</td>\n",
       "      <td>9834.326172</td>\n",
       "      <td>no</td>\n",
       "    </tr>\n",
       "    <tr>\n",
       "      <th>1048</th>\n",
       "      <td>7201.700850</td>\n",
       "      <td>7080.818848</td>\n",
       "      <td>no</td>\n",
       "    </tr>\n",
       "    <tr>\n",
       "      <th>919</th>\n",
       "      <td>2203.735950</td>\n",
       "      <td>2895.726562</td>\n",
       "      <td>no</td>\n",
       "    </tr>\n",
       "  </tbody>\n",
       "</table>\n",
       "</div>"
      ],
      "text/plain": [
       "            y_true        y_pred smoker\n",
       "435   11538.421000  11405.943359     no\n",
       "629    4350.514400   4753.903320     no\n",
       "332    7323.734819   2895.726562     no\n",
       "987    2699.568350   3137.377686     no\n",
       "744   13470.804400  13154.744141     no\n",
       "875    4561.188500   5020.006348     no\n",
       "370    2201.097100   3332.743408     no\n",
       "282    3180.510100   3602.754883     no\n",
       "348    7345.084000   7451.192871     no\n",
       "1055  22395.744240  22174.378906     no\n",
       "664   16069.084750  14824.206055     no\n",
       "427    8825.086000   8889.758789     no\n",
       "984   12479.708950  11993.656250     no\n",
       "81    11881.358000  11811.742188     no\n",
       "1032  11931.125250  11788.847656     no\n",
       "312    9264.797000   9379.272461     no\n",
       "695   13129.603450  13375.526367     no\n",
       "755    9487.644200   9834.326172     no\n",
       "1048   7201.700850   7080.818848     no\n",
       "919    2203.735950   2895.726562     no"
      ]
     },
     "execution_count": 71,
     "metadata": {},
     "output_type": "execute_result"
    }
   ],
   "source": [
    "df_test.query(\"smoker=='no'\").sample(n=20,random_state=42)"
   ]
  },
  {
   "cell_type": "code",
   "execution_count": 72,
   "id": "4384b242",
   "metadata": {},
   "outputs": [
    {
     "data": {
      "text/html": [
       "<div>\n",
       "<style scoped>\n",
       "    .dataframe tbody tr th:only-of-type {\n",
       "        vertical-align: middle;\n",
       "    }\n",
       "\n",
       "    .dataframe tbody tr th {\n",
       "        vertical-align: top;\n",
       "    }\n",
       "\n",
       "    .dataframe thead th {\n",
       "        text-align: right;\n",
       "    }\n",
       "</style>\n",
       "<table border=\"1\" class=\"dataframe\">\n",
       "  <thead>\n",
       "    <tr style=\"text-align: right;\">\n",
       "      <th></th>\n",
       "      <th>y_true</th>\n",
       "      <th>y_pred</th>\n",
       "      <th>smoker</th>\n",
       "    </tr>\n",
       "  </thead>\n",
       "  <tbody>\n",
       "    <tr>\n",
       "      <th>1302</th>\n",
       "      <td>37465.34375</td>\n",
       "      <td>36379.675781</td>\n",
       "      <td>yes</td>\n",
       "    </tr>\n",
       "    <tr>\n",
       "      <th>1127</th>\n",
       "      <td>17179.52200</td>\n",
       "      <td>18797.785156</td>\n",
       "      <td>yes</td>\n",
       "    </tr>\n",
       "    <tr>\n",
       "      <th>1235</th>\n",
       "      <td>15817.98570</td>\n",
       "      <td>16316.422852</td>\n",
       "      <td>yes</td>\n",
       "    </tr>\n",
       "    <tr>\n",
       "      <th>1128</th>\n",
       "      <td>42856.83800</td>\n",
       "      <td>42300.078125</td>\n",
       "      <td>yes</td>\n",
       "    </tr>\n",
       "    <tr>\n",
       "      <th>1293</th>\n",
       "      <td>36898.73308</td>\n",
       "      <td>35282.058594</td>\n",
       "      <td>yes</td>\n",
       "    </tr>\n",
       "    <tr>\n",
       "      <th>1122</th>\n",
       "      <td>33750.29180</td>\n",
       "      <td>34576.773438</td>\n",
       "      <td>yes</td>\n",
       "    </tr>\n",
       "    <tr>\n",
       "      <th>1242</th>\n",
       "      <td>19798.05455</td>\n",
       "      <td>18954.109375</td>\n",
       "      <td>yes</td>\n",
       "    </tr>\n",
       "    <tr>\n",
       "      <th>1283</th>\n",
       "      <td>33907.54800</td>\n",
       "      <td>35073.332031</td>\n",
       "      <td>yes</td>\n",
       "    </tr>\n",
       "    <tr>\n",
       "      <th>1228</th>\n",
       "      <td>36021.01120</td>\n",
       "      <td>36221.644531</td>\n",
       "      <td>yes</td>\n",
       "    </tr>\n",
       "    <tr>\n",
       "      <th>1078</th>\n",
       "      <td>34303.16720</td>\n",
       "      <td>35501.222656</td>\n",
       "      <td>yes</td>\n",
       "    </tr>\n",
       "    <tr>\n",
       "      <th>1159</th>\n",
       "      <td>37079.37200</td>\n",
       "      <td>38193.539062</td>\n",
       "      <td>yes</td>\n",
       "    </tr>\n",
       "    <tr>\n",
       "      <th>1175</th>\n",
       "      <td>23807.24060</td>\n",
       "      <td>23034.773438</td>\n",
       "      <td>yes</td>\n",
       "    </tr>\n",
       "    <tr>\n",
       "      <th>1173</th>\n",
       "      <td>48000.00000</td>\n",
       "      <td>47527.250000</td>\n",
       "      <td>yes</td>\n",
       "    </tr>\n",
       "    <tr>\n",
       "      <th>1207</th>\n",
       "      <td>40419.01910</td>\n",
       "      <td>41705.316406</td>\n",
       "      <td>yes</td>\n",
       "    </tr>\n",
       "    <tr>\n",
       "      <th>1280</th>\n",
       "      <td>34672.14720</td>\n",
       "      <td>37186.882812</td>\n",
       "      <td>yes</td>\n",
       "    </tr>\n",
       "    <tr>\n",
       "      <th>1253</th>\n",
       "      <td>41999.52000</td>\n",
       "      <td>43585.941406</td>\n",
       "      <td>yes</td>\n",
       "    </tr>\n",
       "    <tr>\n",
       "      <th>1314</th>\n",
       "      <td>37607.52770</td>\n",
       "      <td>39269.695312</td>\n",
       "      <td>yes</td>\n",
       "    </tr>\n",
       "    <tr>\n",
       "      <th>1299</th>\n",
       "      <td>23887.66270</td>\n",
       "      <td>23491.943359</td>\n",
       "      <td>yes</td>\n",
       "    </tr>\n",
       "    <tr>\n",
       "      <th>1133</th>\n",
       "      <td>16297.84600</td>\n",
       "      <td>16030.650391</td>\n",
       "      <td>yes</td>\n",
       "    </tr>\n",
       "    <tr>\n",
       "      <th>1158</th>\n",
       "      <td>39125.33225</td>\n",
       "      <td>40006.363281</td>\n",
       "      <td>yes</td>\n",
       "    </tr>\n",
       "  </tbody>\n",
       "</table>\n",
       "</div>"
      ],
      "text/plain": [
       "           y_true        y_pred smoker\n",
       "1302  37465.34375  36379.675781    yes\n",
       "1127  17179.52200  18797.785156    yes\n",
       "1235  15817.98570  16316.422852    yes\n",
       "1128  42856.83800  42300.078125    yes\n",
       "1293  36898.73308  35282.058594    yes\n",
       "1122  33750.29180  34576.773438    yes\n",
       "1242  19798.05455  18954.109375    yes\n",
       "1283  33907.54800  35073.332031    yes\n",
       "1228  36021.01120  36221.644531    yes\n",
       "1078  34303.16720  35501.222656    yes\n",
       "1159  37079.37200  38193.539062    yes\n",
       "1175  23807.24060  23034.773438    yes\n",
       "1173  48000.00000  47527.250000    yes\n",
       "1207  40419.01910  41705.316406    yes\n",
       "1280  34672.14720  37186.882812    yes\n",
       "1253  41999.52000  43585.941406    yes\n",
       "1314  37607.52770  39269.695312    yes\n",
       "1299  23887.66270  23491.943359    yes\n",
       "1133  16297.84600  16030.650391    yes\n",
       "1158  39125.33225  40006.363281    yes"
      ]
     },
     "execution_count": 72,
     "metadata": {},
     "output_type": "execute_result"
    }
   ],
   "source": [
    "df_test.query(\"smoker=='yes'\").sample(n=20,random_state=42)"
   ]
  },
  {
   "cell_type": "markdown",
   "id": "c3723cae",
   "metadata": {},
   "source": [
    "The algorithm generates quite robust predictions, very close to the original value. Which this model is apt to solve the problem.\n",
    "\n",
    "As a curious fact, XGBOOST is one of the most powerful algorithms within Machine Learning, it will generate interesting results in such a short time. He is the winner of multiple competitions on the kaggle platform. It has the advantage that we can use a GPU for training, speeding up the training process, something it shares with Deep Learning frameworks."
   ]
  },
  {
   "cell_type": "markdown",
   "id": "64e41c76",
   "metadata": {},
   "source": [
    "### *Save Model*"
   ]
  },
  {
   "cell_type": "code",
   "execution_count": 73,
   "id": "e376fc4a",
   "metadata": {},
   "outputs": [],
   "source": [
    "import joblib"
   ]
  },
  {
   "cell_type": "code",
   "execution_count": 74,
   "id": "720d2727",
   "metadata": {},
   "outputs": [
    {
     "data": {
      "text/plain": [
       "['xgb_insurence.v2.pkl']"
      ]
     },
     "execution_count": 74,
     "metadata": {},
     "output_type": "execute_result"
    }
   ],
   "source": [
    "joblib.dump(xgb_reg,\"xgb_insurence.v2.pkl\") "
   ]
  }
 ],
 "metadata": {
  "kernelspec": {
   "display_name": "Python 3 (ipykernel)",
   "language": "python",
   "name": "python3"
  },
  "language_info": {
   "codemirror_mode": {
    "name": "ipython",
    "version": 3
   },
   "file_extension": ".py",
   "mimetype": "text/x-python",
   "name": "python",
   "nbconvert_exporter": "python",
   "pygments_lexer": "ipython3",
   "version": "3.9.7"
  }
 },
 "nbformat": 4,
 "nbformat_minor": 5
}
