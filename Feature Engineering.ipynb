{
 "cells": [
  {
   "cell_type": "markdown",
   "id": "77189aaf",
   "metadata": {
    "papermill": {
     "duration": 0.018052,
     "end_time": "2022-06-15T21:10:27.338998",
     "exception": false,
     "start_time": "2022-06-15T21:10:27.320946",
     "status": "completed"
    },
    "tags": []
   },
   "source": [
    "##  **Import libraries**"
   ]
  },
  {
   "cell_type": "code",
   "execution_count": 1,
   "id": "47e26850",
   "metadata": {
    "execution": {
     "iopub.execute_input": "2022-06-15T21:10:27.374791Z",
     "iopub.status.busy": "2022-06-15T21:10:27.374113Z",
     "iopub.status.idle": "2022-06-15T21:10:30.667792Z",
     "shell.execute_reply": "2022-06-15T21:10:30.666618Z"
    },
    "papermill": {
     "duration": 3.314617,
     "end_time": "2022-06-15T21:10:30.670243",
     "exception": false,
     "start_time": "2022-06-15T21:10:27.355626",
     "status": "completed"
    },
    "tags": []
   },
   "outputs": [],
   "source": [
    "import pandas as pd # data manipulation\n",
    "import numpy as np # linear algebra\n",
    "import matplotlib.pyplot as plt # plots\n",
    "import seaborn as sns # plots\n",
    "import warnings # Ignore warning messages"
   ]
  },
  {
   "cell_type": "code",
   "execution_count": 2,
   "id": "882f47d5",
   "metadata": {
    "execution": {
     "iopub.execute_input": "2022-06-15T21:10:30.705410Z",
     "iopub.status.busy": "2022-06-15T21:10:30.705105Z",
     "iopub.status.idle": "2022-06-15T21:10:30.709028Z",
     "shell.execute_reply": "2022-06-15T21:10:30.708270Z"
    },
    "papermill": {
     "duration": 0.023089,
     "end_time": "2022-06-15T21:10:30.710608",
     "exception": false,
     "start_time": "2022-06-15T21:10:30.687519",
     "status": "completed"
    },
    "tags": []
   },
   "outputs": [],
   "source": [
    "warnings.filterwarnings(\"ignore\")"
   ]
  },
  {
   "cell_type": "markdown",
   "id": "2adc44ee",
   "metadata": {
    "papermill": {
     "duration": 0.016433,
     "end_time": "2022-06-15T21:10:30.743551",
     "exception": false,
     "start_time": "2022-06-15T21:10:30.727118",
     "status": "completed"
    },
    "tags": []
   },
   "source": [
    "### **Load Data**"
   ]
  },
  {
   "cell_type": "code",
   "execution_count": 3,
   "id": "c2128786",
   "metadata": {
    "execution": {
     "iopub.execute_input": "2022-06-15T21:10:30.777446Z",
     "iopub.status.busy": "2022-06-15T21:10:30.777193Z",
     "iopub.status.idle": "2022-06-15T21:10:30.793254Z",
     "shell.execute_reply": "2022-06-15T21:10:30.792470Z"
    },
    "papermill": {
     "duration": 0.035305,
     "end_time": "2022-06-15T21:10:30.795301",
     "exception": false,
     "start_time": "2022-06-15T21:10:30.759996",
     "status": "completed"
    },
    "tags": []
   },
   "outputs": [],
   "source": [
    "df=pd.read_csv(\"insurance.csv\")"
   ]
  },
  {
   "cell_type": "markdown",
   "id": "181ca6f7",
   "metadata": {
    "papermill": {
     "duration": 0.022262,
     "end_time": "2022-06-15T21:10:33.450184",
     "exception": false,
     "start_time": "2022-06-15T21:10:33.427922",
     "status": "completed"
    },
    "tags": []
   },
   "source": [
    "Using the histogram and the box plot. We confirm the presence of outliers. So we have to give it special processing.\n",
    "\n",
    "Technically we can give outliers the same treatment as missing values.\n",
    "\n",
    "* **Delete** those values.\n",
    "* **Replace** them with a **statistical measure**.\n",
    "* Use a **model**. So that it generates values closer to the real ones."
   ]
  },
  {
   "cell_type": "markdown",
   "id": "0602e0f1",
   "metadata": {
    "papermill": {
     "duration": 0.021391,
     "end_time": "2022-06-15T21:10:33.807549",
     "exception": false,
     "start_time": "2022-06-15T21:10:33.786158",
     "status": "completed"
    },
    "tags": []
   },
   "source": [
    "## **Feature engineering**"
   ]
  },
  {
   "cell_type": "code",
   "execution_count": 4,
   "id": "5d1843c2",
   "metadata": {
    "execution": {
     "iopub.execute_input": "2022-06-15T21:10:33.853378Z",
     "iopub.status.busy": "2022-06-15T21:10:33.852742Z",
     "iopub.status.idle": "2022-06-15T21:10:33.858608Z",
     "shell.execute_reply": "2022-06-15T21:10:33.857779Z"
    },
    "papermill": {
     "duration": 0.03052,
     "end_time": "2022-06-15T21:10:33.860336",
     "exception": false,
     "start_time": "2022-06-15T21:10:33.829816",
     "status": "completed"
    },
    "tags": []
   },
   "outputs": [],
   "source": [
    "class lower_upper_limits():\n",
    "    \n",
    "    def __init__(self,dataset,feature,limit):\n",
    "        \n",
    "        self.dataset=dataset\n",
    "        self.mean=dataset[feature].mean()\n",
    "        self.std=dataset[feature].std()\n",
    "        \n",
    "        self.limit=limit\n",
    "     \n",
    "\n",
    "    def upper_limit(self):\n",
    "    \n",
    "        return self.mean+self.limit*self.std\n",
    "    \n",
    "    \n",
    "    def lower_limit(self):\n",
    "        \n",
    "        return self.mean-self.limit*self.std\n",
    "    "
   ]
  },
  {
   "cell_type": "code",
   "execution_count": 5,
   "id": "aa1d8344",
   "metadata": {},
   "outputs": [
    {
     "data": {
      "text/html": [
       "<div>\n",
       "<style scoped>\n",
       "    .dataframe tbody tr th:only-of-type {\n",
       "        vertical-align: middle;\n",
       "    }\n",
       "\n",
       "    .dataframe tbody tr th {\n",
       "        vertical-align: top;\n",
       "    }\n",
       "\n",
       "    .dataframe thead th {\n",
       "        text-align: right;\n",
       "    }\n",
       "</style>\n",
       "<table border=\"1\" class=\"dataframe\">\n",
       "  <thead>\n",
       "    <tr style=\"text-align: right;\">\n",
       "      <th></th>\n",
       "      <th>count</th>\n",
       "      <th>mean</th>\n",
       "      <th>std</th>\n",
       "      <th>min</th>\n",
       "      <th>25%</th>\n",
       "      <th>50%</th>\n",
       "      <th>75%</th>\n",
       "      <th>max</th>\n",
       "    </tr>\n",
       "    <tr>\n",
       "      <th>sex</th>\n",
       "      <th></th>\n",
       "      <th></th>\n",
       "      <th></th>\n",
       "      <th></th>\n",
       "      <th></th>\n",
       "      <th></th>\n",
       "      <th></th>\n",
       "      <th></th>\n",
       "    </tr>\n",
       "  </thead>\n",
       "  <tbody>\n",
       "    <tr>\n",
       "      <th>female</th>\n",
       "      <td>662.0</td>\n",
       "      <td>30.377749</td>\n",
       "      <td>6.046023</td>\n",
       "      <td>16.815</td>\n",
       "      <td>26.125</td>\n",
       "      <td>30.1075</td>\n",
       "      <td>34.31375</td>\n",
       "      <td>48.07</td>\n",
       "    </tr>\n",
       "    <tr>\n",
       "      <th>male</th>\n",
       "      <td>676.0</td>\n",
       "      <td>30.943129</td>\n",
       "      <td>6.140435</td>\n",
       "      <td>15.960</td>\n",
       "      <td>26.410</td>\n",
       "      <td>30.6875</td>\n",
       "      <td>34.99250</td>\n",
       "      <td>53.13</td>\n",
       "    </tr>\n",
       "  </tbody>\n",
       "</table>\n",
       "</div>"
      ],
      "text/plain": [
       "        count       mean       std     min     25%      50%       75%    max\n",
       "sex                                                                         \n",
       "female  662.0  30.377749  6.046023  16.815  26.125  30.1075  34.31375  48.07\n",
       "male    676.0  30.943129  6.140435  15.960  26.410  30.6875  34.99250  53.13"
      ]
     },
     "execution_count": 5,
     "metadata": {},
     "output_type": "execute_result"
    }
   ],
   "source": [
    "df.groupby(\"sex\").describe()[\"bmi\"]"
   ]
  },
  {
   "cell_type": "markdown",
   "id": "2ec5cf23",
   "metadata": {},
   "source": [
    "#### *Selected from the best interval*"
   ]
  },
  {
   "cell_type": "code",
   "execution_count": 14,
   "id": "f02700f6",
   "metadata": {},
   "outputs": [],
   "source": [
    "def selected_interval_upper(dataframe,feature,limits):\n",
    "    \n",
    "\n",
    "    for limit in limits:\n",
    "        \n",
    "        upper_limit=lower_upper_limits(dataframe,feature,limit).upper_limit()\n",
    "        \n",
    "        \n",
    "        print(limit,upper_limit)\n",
    "    \n",
    "def selected_interval_lower(dataframe,feature,limits):\n",
    "    \n",
    "    \n",
    "    for limit in limits:\n",
    "        \n",
    "        upper_limit=lower_upper_limits(df,\"bmi\",limit).lower_limit()\n",
    "        \n",
    "        print(limit,upper_limit)\n",
    " \n",
    "    "
   ]
  },
  {
   "cell_type": "markdown",
   "id": "02ee3a17",
   "metadata": {
    "papermill": {
     "duration": 0.021596,
     "end_time": "2022-06-15T21:10:34.062279",
     "exception": false,
     "start_time": "2022-06-15T21:10:34.040683",
     "status": "completed"
    },
    "tags": []
   },
   "source": [
    "### **Upper limit**"
   ]
  },
  {
   "cell_type": "code",
   "execution_count": 8,
   "id": "70fba29e",
   "metadata": {},
   "outputs": [],
   "source": [
    "upper_intervals=np.arange(2,4,step=0.2)\n",
    "upper_intervals=upper_intervals.round(2)"
   ]
  },
  {
   "cell_type": "code",
   "execution_count": 10,
   "id": "fe746ca2",
   "metadata": {},
   "outputs": [
    {
     "name": "stdout",
     "output_type": "stream",
     "text": [
      "2.0 42.85977068434457\n",
      "2.2 44.07940806668037\n",
      "2.4 45.29904544901618\n",
      "2.6 46.51868283135198\n",
      "2.8 47.738320213687786\n",
      "3.0 48.95795759602359\n",
      "3.2 50.177594978359394\n",
      "3.4 51.3972323606952\n",
      "3.6 52.616869743031\n",
      "3.8 53.8365071253668\n"
     ]
    }
   ],
   "source": [
    "selected_interval_upper(df,\"bmi\",upper_intervals)"
   ]
  },
  {
   "cell_type": "markdown",
   "id": "048d65d2",
   "metadata": {},
   "source": [
    "With an interval of 3 it gives a good value. To be able to replace outliers."
   ]
  },
  {
   "cell_type": "markdown",
   "id": "79f758ef",
   "metadata": {},
   "source": [
    "### *Replaces values greater than the upper range*"
   ]
  },
  {
   "cell_type": "code",
   "execution_count": 11,
   "id": "10f77489",
   "metadata": {
    "execution": {
     "iopub.execute_input": "2022-06-15T21:10:34.205118Z",
     "iopub.status.busy": "2022-06-15T21:10:34.204556Z",
     "iopub.status.idle": "2022-06-15T21:10:34.211313Z",
     "shell.execute_reply": "2022-06-15T21:10:34.210584Z"
    },
    "papermill": {
     "duration": 0.031381,
     "end_time": "2022-06-15T21:10:34.213026",
     "exception": false,
     "start_time": "2022-06-15T21:10:34.181645",
     "status": "completed"
    },
    "tags": []
   },
   "outputs": [],
   "source": [
    "df[\"bmi\"]=np.where(df[\"bmi\"]>48.95,48.95,df[\"bmi\"])"
   ]
  },
  {
   "cell_type": "markdown",
   "id": "4d5fe929",
   "metadata": {
    "papermill": {
     "duration": 0.022287,
     "end_time": "2022-06-15T21:10:34.257433",
     "exception": false,
     "start_time": "2022-06-15T21:10:34.235146",
     "status": "completed"
    },
    "tags": []
   },
   "source": [
    "### **Lower limit**"
   ]
  },
  {
   "cell_type": "markdown",
   "id": "7f617a30",
   "metadata": {},
   "source": [
    "\n",
    "### *Replaces values ​​less than the lower range*"
   ]
  },
  {
   "cell_type": "code",
   "execution_count": 12,
   "id": "287c4103",
   "metadata": {},
   "outputs": [],
   "source": [
    "lower_intervals=np.arange(2,4,step=0.2)\n",
    "lower_intervals=upper_intervals.round(2)"
   ]
  },
  {
   "cell_type": "code",
   "execution_count": 15,
   "id": "f9b541fd",
   "metadata": {},
   "outputs": [
    {
     "name": "stdout",
     "output_type": "stream",
     "text": [
      "2.0 18.506082727141177\n",
      "2.2 17.291050117941992\n",
      "2.4 16.076017508742808\n",
      "2.6 14.860984899543622\n",
      "2.8 13.64595229034444\n",
      "3.0 12.430919681145252\n",
      "3.2 11.215887071946067\n",
      "3.4 10.000854462746883\n",
      "3.6 8.785821853547699\n",
      "3.8 7.570789244348514\n"
     ]
    }
   ],
   "source": [
    "selected_interval_lower(df,\"bmi\",lower_intervals)"
   ]
  },
  {
   "cell_type": "markdown",
   "id": "7afdf24a",
   "metadata": {},
   "source": [
    "The appropriate interval value is 2. Since considered with the minimum BMI values ​​regardless of sex is 18."
   ]
  },
  {
   "cell_type": "code",
   "execution_count": 16,
   "id": "5301c0e2",
   "metadata": {
    "execution": {
     "iopub.execute_input": "2022-06-15T21:10:34.443594Z",
     "iopub.status.busy": "2022-06-15T21:10:34.443273Z",
     "iopub.status.idle": "2022-06-15T21:10:34.449043Z",
     "shell.execute_reply": "2022-06-15T21:10:34.448347Z"
    },
    "papermill": {
     "duration": 0.030095,
     "end_time": "2022-06-15T21:10:34.450645",
     "exception": false,
     "start_time": "2022-06-15T21:10:34.420550",
     "status": "completed"
    },
    "tags": []
   },
   "outputs": [],
   "source": [
    "df[\"bmi\"]=np.where(df[\"bmi\"]<18,18,df[\"bmi\"])"
   ]
  },
  {
   "cell_type": "code",
   "execution_count": 17,
   "id": "1f0d0341",
   "metadata": {},
   "outputs": [],
   "source": [
    "sns.set_style(style=\"whitegrid\")"
   ]
  },
  {
   "cell_type": "code",
   "execution_count": 18,
   "id": "6b27ca26",
   "metadata": {
    "execution": {
     "iopub.execute_input": "2022-06-15T21:10:34.549742Z",
     "iopub.status.busy": "2022-06-15T21:10:34.549488Z",
     "iopub.status.idle": "2022-06-15T21:10:34.631752Z",
     "shell.execute_reply": "2022-06-15T21:10:34.630927Z"
    },
    "papermill": {
     "duration": 0.10722,
     "end_time": "2022-06-15T21:10:34.634006",
     "exception": false,
     "start_time": "2022-06-15T21:10:34.526786",
     "status": "completed"
    },
    "tags": []
   },
   "outputs": [
    {
     "data": {
      "image/png": "[encoded data removed]",
      "text/plain": [
       "<Figure size 1440x576 with 1 Axes>"
      ]
     },
     "metadata": {},
     "output_type": "display_data"
    }
   ],
   "source": [
    "plt.subplots(1,1,figsize=(20,8))\n",
    "sns.histplot(data=df,x=\"bmi\")\n",
    "plt.show()"
   ]
  },
  {
   "cell_type": "code",
   "execution_count": 19,
   "id": "034f59da",
   "metadata": {
    "execution": {
     "iopub.execute_input": "2022-06-15T21:10:34.731132Z",
     "iopub.status.busy": "2022-06-15T21:10:34.730816Z",
     "iopub.status.idle": "2022-06-15T21:10:34.740633Z",
     "shell.execute_reply": "2022-06-15T21:10:34.739842Z"
    },
    "papermill": {
     "duration": 0.035073,
     "end_time": "2022-06-15T21:10:34.742376",
     "exception": false,
     "start_time": "2022-06-15T21:10:34.707303",
     "status": "completed"
    },
    "tags": []
   },
   "outputs": [],
   "source": [
    "smoker_no_split=df.query(\"smoker=='no'\")\n",
    "smoker_yes_split=df.query(\"smoker=='yes'\")"
   ]
  },
  {
   "cell_type": "markdown",
   "id": "2252849b",
   "metadata": {},
   "source": [
    "\n",
    "We still see outliers. Therefore, I will decide to divide the dataset based on the age of the user. For better cleaning."
   ]
  },
  {
   "cell_type": "markdown",
   "id": "0988c67e",
   "metadata": {
    "papermill": {
     "duration": 0.022348,
     "end_time": "2022-06-15T21:10:34.787379",
     "exception": false,
     "start_time": "2022-06-15T21:10:34.765031",
     "status": "completed"
    },
    "tags": []
   },
   "source": [
    "### **Smoker no split**"
   ]
  },
  {
   "cell_type": "markdown",
   "id": "9afd5449",
   "metadata": {
    "papermill": {
     "duration": 0.022755,
     "end_time": "2022-06-15T21:10:34.832249",
     "exception": false,
     "start_time": "2022-06-15T21:10:34.809494",
     "status": "completed"
    },
    "tags": []
   },
   "source": [
    "#### **Upper limit**"
   ]
  },
  {
   "cell_type": "code",
   "execution_count": 20,
   "id": "7880ef98",
   "metadata": {
    "execution": {
     "iopub.execute_input": "2022-06-15T21:10:34.882827Z",
     "iopub.status.busy": "2022-06-15T21:10:34.882478Z",
     "iopub.status.idle": "2022-06-15T21:10:34.891437Z",
     "shell.execute_reply": "2022-06-15T21:10:34.890577Z"
    },
    "papermill": {
     "duration": 0.036191,
     "end_time": "2022-06-15T21:10:34.893225",
     "exception": false,
     "start_time": "2022-06-15T21:10:34.857034",
     "status": "completed"
    },
    "tags": []
   },
   "outputs": [
    {
     "data": {
      "text/plain": [
       "20421.831936246064"
      ]
     },
     "execution_count": 20,
     "metadata": {},
     "output_type": "execute_result"
    }
   ],
   "source": [
    "lower_upper_limits(smoker_no_split,\"charges\",2).upper_limit()"
   ]
  },
  {
   "cell_type": "markdown",
   "id": "3fe20c26",
   "metadata": {},
   "source": [
    "Using an interval of 2 gives good results. In addition, for this case, the values ​​that are out of the normal, we are going to transform them by null values ​​and later we are going to replace said value, using a linear model. Since there are variables that are highly correlated."
   ]
  },
  {
   "cell_type": "markdown",
   "id": "9ade2d83",
   "metadata": {
    "papermill": {
     "duration": 0.023609,
     "end_time": "2022-06-15T21:10:34.939957",
     "exception": false,
     "start_time": "2022-06-15T21:10:34.916348",
     "status": "completed"
    },
    "tags": []
   },
   "source": [
    "#### *Transform the outliers to null*"
   ]
  },
  {
   "cell_type": "code",
   "execution_count": 21,
   "id": "30ae291a",
   "metadata": {
    "execution": {
     "iopub.execute_input": "2022-06-15T21:10:34.989295Z",
     "iopub.status.busy": "2022-06-15T21:10:34.988653Z",
     "iopub.status.idle": "2022-06-15T21:10:34.994768Z",
     "shell.execute_reply": "2022-06-15T21:10:34.993931Z"
    },
    "papermill": {
     "duration": 0.032309,
     "end_time": "2022-06-15T21:10:34.996649",
     "exception": false,
     "start_time": "2022-06-15T21:10:34.964340",
     "status": "completed"
    },
    "tags": []
   },
   "outputs": [],
   "source": [
    "smoker_no_split[\"charges\"]=smoker_no_split[\"charges\"].apply(lambda x: np.nan if x > 20000 else x)"
   ]
  },
  {
   "cell_type": "markdown",
   "id": "80357d66",
   "metadata": {
    "papermill": {
     "duration": 0.022012,
     "end_time": "2022-06-15T21:10:35.041405",
     "exception": false,
     "start_time": "2022-06-15T21:10:35.019393",
     "status": "completed"
    },
    "tags": []
   },
   "source": [
    "### *Calculate the percentage of null values*"
   ]
  },
  {
   "cell_type": "code",
   "execution_count": 22,
   "id": "641fbb37",
   "metadata": {
    "execution": {
     "iopub.execute_input": "2022-06-15T21:10:35.087689Z",
     "iopub.status.busy": "2022-06-15T21:10:35.087388Z",
     "iopub.status.idle": "2022-06-15T21:10:35.097348Z",
     "shell.execute_reply": "2022-06-15T21:10:35.096413Z"
    },
    "papermill": {
     "duration": 0.035426,
     "end_time": "2022-06-15T21:10:35.099164",
     "exception": false,
     "start_time": "2022-06-15T21:10:35.063738",
     "status": "completed"
    },
    "tags": []
   },
   "outputs": [
    {
     "data": {
      "text/plain": [
       "charges     4.559043\n",
       "age         0.000000\n",
       "sex         0.000000\n",
       "bmi         0.000000\n",
       "children    0.000000\n",
       "smoker      0.000000\n",
       "region      0.000000\n",
       "dtype: float64"
      ]
     },
     "execution_count": 22,
     "metadata": {},
     "output_type": "execute_result"
    }
   ],
   "source": [
    "((smoker_no_split.isnull().sum() / len(df))*100).sort_values(ascending = False)"
   ]
  },
  {
   "cell_type": "code",
   "execution_count": 25,
   "id": "7ac0a376",
   "metadata": {
    "execution": {
     "iopub.execute_input": "2022-06-15T21:10:35.145148Z",
     "iopub.status.busy": "2022-06-15T21:10:35.144725Z",
     "iopub.status.idle": "2022-06-15T21:10:35.149742Z",
     "shell.execute_reply": "2022-06-15T21:10:35.149081Z"
    },
    "papermill": {
     "duration": 0.030076,
     "end_time": "2022-06-15T21:10:35.151522",
     "exception": false,
     "start_time": "2022-06-15T21:10:35.121446",
     "status": "completed"
    },
    "tags": []
   },
   "outputs": [],
   "source": [
    "\n",
    "\n",
    "def scatter_plot(dataframe,x,y):\n",
    "    \n",
    "\n",
    "    sns.lmplot(data=dataframe,x=x,y=y)\n",
    "    plt.show()"
   ]
  },
  {
   "cell_type": "code",
   "execution_count": 26,
   "id": "95e7a912",
   "metadata": {
    "execution": {
     "iopub.execute_input": "2022-06-15T21:10:35.197015Z",
     "iopub.status.busy": "2022-06-15T21:10:35.196737Z",
     "iopub.status.idle": "2022-06-15T21:10:35.262187Z",
     "shell.execute_reply": "2022-06-15T21:10:35.261515Z"
    },
    "papermill": {
     "duration": 0.090193,
     "end_time": "2022-06-15T21:10:35.263813",
     "exception": false,
     "start_time": "2022-06-15T21:10:35.173620",
     "status": "completed"
    },
    "tags": []
   },
   "outputs": [
    {
     "data": {
      "image/png": "[encoded data removed]",
      "text/plain": [
       "<Figure size 360x360 with 1 Axes>"
      ]
     },
     "metadata": {},
     "output_type": "display_data"
    }
   ],
   "source": [
    "scatter_plot(smoker_no_split,\"age\",\"charges\")"
   ]
  },
  {
   "cell_type": "markdown",
   "id": "bf165dd1",
   "metadata": {
    "papermill": {
     "duration": 0.022657,
     "end_time": "2022-06-15T21:10:35.355448",
     "exception": false,
     "start_time": "2022-06-15T21:10:35.332791",
     "status": "completed"
    },
    "tags": []
   },
   "source": [
    "### Divide according to age."
   ]
  },
  {
   "cell_type": "code",
   "execution_count": 27,
   "id": "67b7466e",
   "metadata": {
    "execution": {
     "iopub.execute_input": "2022-06-15T21:10:35.402456Z",
     "iopub.status.busy": "2022-06-15T21:10:35.402157Z",
     "iopub.status.idle": "2022-06-15T21:10:35.415189Z",
     "shell.execute_reply": "2022-06-15T21:10:35.414486Z"
    },
    "papermill": {
     "duration": 0.038436,
     "end_time": "2022-06-15T21:10:35.416845",
     "exception": false,
     "start_time": "2022-06-15T21:10:35.378409",
     "status": "completed"
    },
    "tags": []
   },
   "outputs": [],
   "source": [
    "young_adults_split=smoker_no_split.query(\"age<30\")\n",
    "adults_split=smoker_no_split.query(\"age>=30 and age<50\")\n",
    "old_adults_split=smoker_no_split.query(\"age>=50\")"
   ]
  },
  {
   "cell_type": "code",
   "execution_count": 28,
   "id": "1e633759",
   "metadata": {
    "execution": {
     "iopub.execute_input": "2022-06-15T21:10:35.464460Z",
     "iopub.status.busy": "2022-06-15T21:10:35.464193Z",
     "iopub.status.idle": "2022-06-15T21:10:35.468335Z",
     "shell.execute_reply": "2022-06-15T21:10:35.467514Z"
    },
    "papermill": {
     "duration": 0.029832,
     "end_time": "2022-06-15T21:10:35.470166",
     "exception": false,
     "start_time": "2022-06-15T21:10:35.440334",
     "status": "completed"
    },
    "tags": []
   },
   "outputs": [],
   "source": [
    "def outlires_to_nan(dataframe,upper_limit):\n",
    "    \n",
    "    return dataframe[\"charges\"].apply(lambda x: np.nan if x>upper_limit else x)"
   ]
  },
  {
   "cell_type": "code",
   "execution_count": 29,
   "id": "4af2f80f",
   "metadata": {
    "execution": {
     "iopub.execute_input": "2022-06-15T21:10:35.516889Z",
     "iopub.status.busy": "2022-06-15T21:10:35.516618Z",
     "iopub.status.idle": "2022-06-15T21:10:35.523227Z",
     "shell.execute_reply": "2022-06-15T21:10:35.522422Z"
    },
    "papermill": {
     "duration": 0.032131,
     "end_time": "2022-06-15T21:10:35.525063",
     "exception": false,
     "start_time": "2022-06-15T21:10:35.492932",
     "status": "completed"
    },
    "tags": []
   },
   "outputs": [],
   "source": [
    "young_adults_split[\"charges\"]=outlires_to_nan(young_adults_split,7000)\n",
    "adults_split[\"charges\"]=outlires_to_nan(adults_split,10000)\n",
    "old_adults_split[\"charges\"]=outlires_to_nan(old_adults_split,18000)"
   ]
  },
  {
   "cell_type": "code",
   "execution_count": 30,
   "id": "7ed4c49d",
   "metadata": {
    "execution": {
     "iopub.execute_input": "2022-06-15T21:10:35.571961Z",
     "iopub.status.busy": "2022-06-15T21:10:35.571682Z",
     "iopub.status.idle": "2022-06-15T21:10:35.579175Z",
     "shell.execute_reply": "2022-06-15T21:10:35.578521Z"
    },
    "papermill": {
     "duration": 0.032701,
     "end_time": "2022-06-15T21:10:35.580761",
     "exception": false,
     "start_time": "2022-06-15T21:10:35.548060",
     "status": "completed"
    },
    "tags": []
   },
   "outputs": [],
   "source": [
    "smoker_no_split=pd.concat([young_adults_split,\n",
    "                           adults_split,\n",
    "                           old_adults_split])"
   ]
  },
  {
   "cell_type": "code",
   "execution_count": 31,
   "id": "fb690d28",
   "metadata": {
    "execution": {
     "iopub.execute_input": "2022-06-15T21:10:35.628436Z",
     "iopub.status.busy": "2022-06-15T21:10:35.628188Z",
     "iopub.status.idle": "2022-06-15T21:10:35.687643Z",
     "shell.execute_reply": "2022-06-15T21:10:35.686824Z"
    },
    "papermill": {
     "duration": 0.085843,
     "end_time": "2022-06-15T21:10:35.689800",
     "exception": false,
     "start_time": "2022-06-15T21:10:35.603957",
     "status": "completed"
    },
    "tags": []
   },
   "outputs": [
    {
     "data": {
      "image/png": "[encoded data removed]",
      "text/plain": [
       "<Figure size 360x360 with 1 Axes>"
      ]
     },
     "metadata": {},
     "output_type": "display_data"
    }
   ],
   "source": [
    "scatter_plot(smoker_no_split,\"age\",\"charges\")"
   ]
  },
  {
   "cell_type": "markdown",
   "id": "5177fe85",
   "metadata": {},
   "source": [
    "Now the data set is devoid of outliers. But to avoid data loss, we are going to create a model to be able to substitute null values. To have a better closeness than to replace them with a statistical measure."
   ]
  },
  {
   "cell_type": "markdown",
   "id": "e9c379c7",
   "metadata": {
    "papermill": {
     "duration": 0.024138,
     "end_time": "2022-06-15T21:10:35.737903",
     "exception": false,
     "start_time": "2022-06-15T21:10:35.713765",
     "status": "completed"
    },
    "tags": []
   },
   "source": [
    "\n",
    "### *Replace null values*\n",
    "\n",
    "I will obtain by creating a linear regression model. To replace those values. Since the variables of age and insurance charge. It has a linear trend for non-smokers."
   ]
  },
  {
   "cell_type": "code",
   "execution_count": 32,
   "id": "e8bee6f6",
   "metadata": {
    "execution": {
     "iopub.execute_input": "2022-06-15T21:10:35.786263Z",
     "iopub.status.busy": "2022-06-15T21:10:35.785981Z",
     "iopub.status.idle": "2022-06-15T21:10:35.795015Z",
     "shell.execute_reply": "2022-06-15T21:10:35.794351Z"
    },
    "papermill": {
     "duration": 0.035263,
     "end_time": "2022-06-15T21:10:35.796661",
     "exception": false,
     "start_time": "2022-06-15T21:10:35.761398",
     "status": "completed"
    },
    "tags": []
   },
   "outputs": [],
   "source": [
    "smoker_no_clear=smoker_no_split.dropna() # Eliminate nan values\n",
    "smoker_no_nan=smoker_no_split[smoker_no_split[\"charges\"].isnull()] # Select nan values"
   ]
  },
  {
   "cell_type": "code",
   "execution_count": 33,
   "id": "969ca394",
   "metadata": {
    "execution": {
     "iopub.execute_input": "2022-06-15T21:10:35.845129Z",
     "iopub.status.busy": "2022-06-15T21:10:35.844816Z",
     "iopub.status.idle": "2022-06-15T21:10:35.849654Z",
     "shell.execute_reply": "2022-06-15T21:10:35.848896Z"
    },
    "papermill": {
     "duration": 0.031209,
     "end_time": "2022-06-15T21:10:35.851412",
     "exception": false,
     "start_time": "2022-06-15T21:10:35.820203",
     "status": "completed"
    },
    "tags": []
   },
   "outputs": [],
   "source": [
    "X=smoker_no_clear.drop([\"charges\",\"smoker\"],axis=\"columns\")\n",
    "y=smoker_no_clear.charges"
   ]
  },
  {
   "cell_type": "markdown",
   "id": "29e76781",
   "metadata": {
    "papermill": {
     "duration": 0.023881,
     "end_time": "2022-06-15T21:10:35.898778",
     "exception": false,
     "start_time": "2022-06-15T21:10:35.874897",
     "status": "completed"
    },
    "tags": []
   },
   "source": [
    "### *Split data in train and test*"
   ]
  },
  {
   "cell_type": "code",
   "execution_count": 34,
   "id": "3a969b21",
   "metadata": {
    "execution": {
     "iopub.execute_input": "2022-06-15T21:10:35.948558Z",
     "iopub.status.busy": "2022-06-15T21:10:35.947852Z",
     "iopub.status.idle": "2022-06-15T21:10:35.952437Z",
     "shell.execute_reply": "2022-06-15T21:10:35.951753Z"
    },
    "papermill": {
     "duration": 0.031048,
     "end_time": "2022-06-15T21:10:35.954112",
     "exception": false,
     "start_time": "2022-06-15T21:10:35.923064",
     "status": "completed"
    },
    "tags": []
   },
   "outputs": [],
   "source": [
    "from sklearn.model_selection import train_test_split,cross_val_score"
   ]
  },
  {
   "cell_type": "code",
   "execution_count": 35,
   "id": "6b463991",
   "metadata": {
    "execution": {
     "iopub.execute_input": "2022-06-15T21:10:36.002991Z",
     "iopub.status.busy": "2022-06-15T21:10:36.002665Z",
     "iopub.status.idle": "2022-06-15T21:10:36.010974Z",
     "shell.execute_reply": "2022-06-15T21:10:36.010158Z"
    },
    "papermill": {
     "duration": 0.034623,
     "end_time": "2022-06-15T21:10:36.012688",
     "exception": false,
     "start_time": "2022-06-15T21:10:35.978065",
     "status": "completed"
    },
    "tags": []
   },
   "outputs": [
    {
     "data": {
      "text/plain": [
       "((636, 5), (314, 5))"
      ]
     },
     "execution_count": 35,
     "metadata": {},
     "output_type": "execute_result"
    }
   ],
   "source": [
    "X_train,X_test,Y_train,Y_test=train_test_split(X,y,test_size=0.33,random_state=0)\n",
    "\n",
    "X_train.shape,X_test.shape"
   ]
  },
  {
   "cell_type": "code",
   "execution_count": 36,
   "id": "717f91c7",
   "metadata": {
    "execution": {
     "iopub.execute_input": "2022-06-15T21:10:36.061566Z",
     "iopub.status.busy": "2022-06-15T21:10:36.061310Z",
     "iopub.status.idle": "2022-06-15T21:10:36.070651Z",
     "shell.execute_reply": "2022-06-15T21:10:36.069988Z"
    },
    "papermill": {
     "duration": 0.035474,
     "end_time": "2022-06-15T21:10:36.072398",
     "exception": false,
     "start_time": "2022-06-15T21:10:36.036924",
     "status": "completed"
    },
    "tags": []
   },
   "outputs": [],
   "source": [
    "from sklearn.pipeline import Pipeline\n",
    "from sklearn.compose import make_column_transformer #  Variables transform"
   ]
  },
  {
   "cell_type": "code",
   "execution_count": 37,
   "id": "0c7e08cb",
   "metadata": {
    "execution": {
     "iopub.execute_input": "2022-06-15T21:10:36.129971Z",
     "iopub.status.busy": "2022-06-15T21:10:36.129652Z",
     "iopub.status.idle": "2022-06-15T21:10:36.133235Z",
     "shell.execute_reply": "2022-06-15T21:10:36.132509Z"
    },
    "papermill": {
     "duration": 0.038489,
     "end_time": "2022-06-15T21:10:36.135006",
     "exception": false,
     "start_time": "2022-06-15T21:10:36.096517",
     "status": "completed"
    },
    "tags": []
   },
   "outputs": [],
   "source": [
    "from sklearn.preprocessing import OneHotEncoder,MinMaxScaler"
   ]
  },
  {
   "cell_type": "code",
   "execution_count": 38,
   "id": "c2f5b1ac",
   "metadata": {
    "execution": {
     "iopub.execute_input": "2022-06-15T21:10:36.183959Z",
     "iopub.status.busy": "2022-06-15T21:10:36.183674Z",
     "iopub.status.idle": "2022-06-15T21:10:36.187615Z",
     "shell.execute_reply": "2022-06-15T21:10:36.186925Z"
    },
    "papermill": {
     "duration": 0.030033,
     "end_time": "2022-06-15T21:10:36.189365",
     "exception": false,
     "start_time": "2022-06-15T21:10:36.159332",
     "status": "completed"
    },
    "tags": []
   },
   "outputs": [],
   "source": [
    "tf_col=make_column_transformer((MinMaxScaler(),[\"age\",\"bmi\",\"children\"]),\n",
    "                              (OneHotEncoder(drop=\"if_binary\"),[\"sex\",\"region\"]))"
   ]
  },
  {
   "cell_type": "markdown",
   "id": "66529d4d",
   "metadata": {
    "papermill": {
     "duration": 0.023726,
     "end_time": "2022-06-15T21:10:36.237013",
     "exception": false,
     "start_time": "2022-06-15T21:10:36.213287",
     "status": "completed"
    },
    "tags": []
   },
   "source": [
    "### *Linear Model*"
   ]
  },
  {
   "cell_type": "code",
   "execution_count": 39,
   "id": "369392e1",
   "metadata": {
    "execution": {
     "iopub.execute_input": "2022-06-15T21:10:36.285129Z",
     "iopub.status.busy": "2022-06-15T21:10:36.284851Z",
     "iopub.status.idle": "2022-06-15T21:10:36.288295Z",
     "shell.execute_reply": "2022-06-15T21:10:36.287544Z"
    },
    "papermill": {
     "duration": 0.029356,
     "end_time": "2022-06-15T21:10:36.289940",
     "exception": false,
     "start_time": "2022-06-15T21:10:36.260584",
     "status": "completed"
    },
    "tags": []
   },
   "outputs": [],
   "source": [
    "from sklearn.linear_model import LinearRegression"
   ]
  },
  {
   "cell_type": "code",
   "execution_count": 40,
   "id": "5e5f8c56",
   "metadata": {
    "execution": {
     "iopub.execute_input": "2022-06-15T21:10:36.337769Z",
     "iopub.status.busy": "2022-06-15T21:10:36.337523Z",
     "iopub.status.idle": "2022-06-15T21:10:36.371597Z",
     "shell.execute_reply": "2022-06-15T21:10:36.370794Z"
    },
    "papermill": {
     "duration": 0.060171,
     "end_time": "2022-06-15T21:10:36.373445",
     "exception": false,
     "start_time": "2022-06-15T21:10:36.313274",
     "status": "completed"
    },
    "tags": []
   },
   "outputs": [
    {
     "data": {
      "text/plain": [
       "Pipeline(steps=[('preprocessor',\n",
       "                 ColumnTransformer(transformers=[('minmaxscaler',\n",
       "                                                  MinMaxScaler(),\n",
       "                                                  ['age', 'bmi', 'children']),\n",
       "                                                 ('onehotencoder',\n",
       "                                                  OneHotEncoder(drop='if_binary'),\n",
       "                                                  ['sex', 'region'])])),\n",
       "                ('linear_model', LinearRegression())])"
      ]
     },
     "execution_count": 40,
     "metadata": {},
     "output_type": "execute_result"
    }
   ],
   "source": [
    "lm=Pipeline([(\"preprocessor\",tf_col),(\"linear_model\",LinearRegression())])\n",
    "\n",
    "lm.fit(X_train,Y_train)"
   ]
  },
  {
   "cell_type": "code",
   "execution_count": 41,
   "id": "19327578",
   "metadata": {
    "execution": {
     "iopub.execute_input": "2022-06-15T21:10:36.422326Z",
     "iopub.status.busy": "2022-06-15T21:10:36.422078Z",
     "iopub.status.idle": "2022-06-15T21:10:36.433561Z",
     "shell.execute_reply": "2022-06-15T21:10:36.432741Z"
    },
    "papermill": {
     "duration": 0.037696,
     "end_time": "2022-06-15T21:10:36.435210",
     "exception": false,
     "start_time": "2022-06-15T21:10:36.397514",
     "status": "completed"
    },
    "tags": []
   },
   "outputs": [
    {
     "data": {
      "text/plain": [
       "0.979297797969041"
      ]
     },
     "execution_count": 41,
     "metadata": {},
     "output_type": "execute_result"
    }
   ],
   "source": [
    "lm.score(X_train,Y_train)"
   ]
  },
  {
   "cell_type": "code",
   "execution_count": 42,
   "id": "059f12b3",
   "metadata": {
    "execution": {
     "iopub.execute_input": "2022-06-15T21:10:36.483673Z",
     "iopub.status.busy": "2022-06-15T21:10:36.483428Z",
     "iopub.status.idle": "2022-06-15T21:10:36.492875Z",
     "shell.execute_reply": "2022-06-15T21:10:36.492076Z"
    },
    "papermill": {
     "duration": 0.036439,
     "end_time": "2022-06-15T21:10:36.495348",
     "exception": false,
     "start_time": "2022-06-15T21:10:36.458909",
     "status": "completed"
    },
    "tags": []
   },
   "outputs": [
    {
     "data": {
      "text/plain": [
       "0.9818515223070252"
      ]
     },
     "execution_count": 42,
     "metadata": {},
     "output_type": "execute_result"
    }
   ],
   "source": [
    "lm.score(X_test,Y_test)"
   ]
  },
  {
   "cell_type": "markdown",
   "id": "ab286ed0",
   "metadata": {
    "papermill": {
     "duration": 0.024349,
     "end_time": "2022-06-15T21:10:36.543360",
     "exception": false,
     "start_time": "2022-06-15T21:10:36.519011",
     "status": "completed"
    },
    "tags": []
   },
   "source": [
    "### *Cross validation*"
   ]
  },
  {
   "cell_type": "code",
   "execution_count": 43,
   "id": "50f16e88",
   "metadata": {
    "execution": {
     "iopub.execute_input": "2022-06-15T21:10:36.592250Z",
     "iopub.status.busy": "2022-06-15T21:10:36.591994Z",
     "iopub.status.idle": "2022-06-15T21:10:36.649261Z",
     "shell.execute_reply": "2022-06-15T21:10:36.648435Z"
    },
    "papermill": {
     "duration": 0.083525,
     "end_time": "2022-06-15T21:10:36.650978",
     "exception": false,
     "start_time": "2022-06-15T21:10:36.567453",
     "status": "completed"
    },
    "tags": []
   },
   "outputs": [
    {
     "data": {
      "text/plain": [
       "0.9806776769021471"
      ]
     },
     "execution_count": 43,
     "metadata": {},
     "output_type": "execute_result"
    }
   ],
   "source": [
    "cross_val_score(lm,X_test,Y_test,cv=5).mean()"
   ]
  },
  {
   "cell_type": "markdown",
   "id": "aa811457",
   "metadata": {
    "papermill": {
     "duration": 0.02398,
     "end_time": "2022-06-15T21:10:36.698787",
     "exception": false,
     "start_time": "2022-06-15T21:10:36.674807",
     "status": "completed"
    },
    "tags": []
   },
   "source": [
    "The generalization value was quite high. By which the linear model can describe 97% of the observations. We can use it to substitute missing values to avoid excessive data loss."
   ]
  },
  {
   "cell_type": "markdown",
   "id": "e824d573",
   "metadata": {
    "papermill": {
     "duration": 0.02365,
     "end_time": "2022-06-15T21:10:36.747060",
     "exception": false,
     "start_time": "2022-06-15T21:10:36.723410",
     "status": "completed"
    },
    "tags": []
   },
   "source": [
    "### *Substitution of null values*"
   ]
  },
  {
   "cell_type": "code",
   "execution_count": 44,
   "id": "be25b07a",
   "metadata": {
    "execution": {
     "iopub.execute_input": "2022-06-15T21:10:36.796958Z",
     "iopub.status.busy": "2022-06-15T21:10:36.796622Z",
     "iopub.status.idle": "2022-06-15T21:10:36.806307Z",
     "shell.execute_reply": "2022-06-15T21:10:36.805643Z"
    },
    "papermill": {
     "duration": 0.036722,
     "end_time": "2022-06-15T21:10:36.807901",
     "exception": false,
     "start_time": "2022-06-15T21:10:36.771179",
     "status": "completed"
    },
    "tags": []
   },
   "outputs": [],
   "source": [
    "new_data=smoker_no_nan.drop([\"charges\"],axis=\"columns\")\n",
    "smoker_no_nan[\"charges\"]=lm.predict(new_data)"
   ]
  },
  {
   "cell_type": "code",
   "execution_count": 45,
   "id": "90db8715",
   "metadata": {
    "execution": {
     "iopub.execute_input": "2022-06-15T21:10:36.858045Z",
     "iopub.status.busy": "2022-06-15T21:10:36.857418Z",
     "iopub.status.idle": "2022-06-15T21:10:36.868920Z",
     "shell.execute_reply": "2022-06-15T21:10:36.868028Z"
    },
    "papermill": {
     "duration": 0.038448,
     "end_time": "2022-06-15T21:10:36.870954",
     "exception": false,
     "start_time": "2022-06-15T21:10:36.832506",
     "status": "completed"
    },
    "tags": []
   },
   "outputs": [
    {
     "data": {
      "text/html": [
       "<div>\n",
       "<style scoped>\n",
       "    .dataframe tbody tr th:only-of-type {\n",
       "        vertical-align: middle;\n",
       "    }\n",
       "\n",
       "    .dataframe tbody tr th {\n",
       "        vertical-align: top;\n",
       "    }\n",
       "\n",
       "    .dataframe thead th {\n",
       "        text-align: right;\n",
       "    }\n",
       "</style>\n",
       "<table border=\"1\" class=\"dataframe\">\n",
       "  <thead>\n",
       "    <tr style=\"text-align: right;\">\n",
       "      <th></th>\n",
       "      <th>age</th>\n",
       "      <th>sex</th>\n",
       "      <th>bmi</th>\n",
       "      <th>children</th>\n",
       "      <th>smoker</th>\n",
       "      <th>region</th>\n",
       "      <th>charges</th>\n",
       "    </tr>\n",
       "  </thead>\n",
       "  <tbody>\n",
       "    <tr>\n",
       "      <th>102</th>\n",
       "      <td>18</td>\n",
       "      <td>female</td>\n",
       "      <td>30.115</td>\n",
       "      <td>0</td>\n",
       "      <td>no</td>\n",
       "      <td>northeast</td>\n",
       "      <td>1516.455194</td>\n",
       "    </tr>\n",
       "    <tr>\n",
       "      <th>143</th>\n",
       "      <td>29</td>\n",
       "      <td>male</td>\n",
       "      <td>29.735</td>\n",
       "      <td>2</td>\n",
       "      <td>no</td>\n",
       "      <td>northwest</td>\n",
       "      <td>4585.151560</td>\n",
       "    </tr>\n",
       "    <tr>\n",
       "      <th>219</th>\n",
       "      <td>24</td>\n",
       "      <td>female</td>\n",
       "      <td>23.210</td>\n",
       "      <td>0</td>\n",
       "      <td>no</td>\n",
       "      <td>southeast</td>\n",
       "      <td>2404.761100</td>\n",
       "    </tr>\n",
       "    <tr>\n",
       "      <th>291</th>\n",
       "      <td>29</td>\n",
       "      <td>male</td>\n",
       "      <td>29.640</td>\n",
       "      <td>1</td>\n",
       "      <td>no</td>\n",
       "      <td>northeast</td>\n",
       "      <td>4411.947852</td>\n",
       "    </tr>\n",
       "    <tr>\n",
       "      <th>305</th>\n",
       "      <td>29</td>\n",
       "      <td>male</td>\n",
       "      <td>33.345</td>\n",
       "      <td>2</td>\n",
       "      <td>no</td>\n",
       "      <td>northwest</td>\n",
       "      <td>4610.707459</td>\n",
       "    </tr>\n",
       "  </tbody>\n",
       "</table>\n",
       "</div>"
      ],
      "text/plain": [
       "     age     sex     bmi  children smoker     region      charges\n",
       "102   18  female  30.115         0     no  northeast  1516.455194\n",
       "143   29    male  29.735         2     no  northwest  4585.151560\n",
       "219   24  female  23.210         0     no  southeast  2404.761100\n",
       "291   29    male  29.640         1     no  northeast  4411.947852\n",
       "305   29    male  33.345         2     no  northwest  4610.707459"
      ]
     },
     "execution_count": 45,
     "metadata": {},
     "output_type": "execute_result"
    }
   ],
   "source": [
    "smoker_no_nan.head()"
   ]
  },
  {
   "cell_type": "code",
   "execution_count": 46,
   "id": "b63044d6",
   "metadata": {
    "execution": {
     "iopub.execute_input": "2022-06-15T21:10:36.921740Z",
     "iopub.status.busy": "2022-06-15T21:10:36.921434Z",
     "iopub.status.idle": "2022-06-15T21:10:36.928852Z",
     "shell.execute_reply": "2022-06-15T21:10:36.928110Z"
    },
    "papermill": {
     "duration": 0.034904,
     "end_time": "2022-06-15T21:10:36.930440",
     "exception": false,
     "start_time": "2022-06-15T21:10:36.895536",
     "status": "completed"
    },
    "tags": []
   },
   "outputs": [
    {
     "data": {
      "text/plain": [
       "age         0\n",
       "sex         0\n",
       "bmi         0\n",
       "children    0\n",
       "smoker      0\n",
       "region      0\n",
       "charges     0\n",
       "dtype: int64"
      ]
     },
     "execution_count": 46,
     "metadata": {},
     "output_type": "execute_result"
    }
   ],
   "source": [
    "smoker_no_nan.isnull().sum()"
   ]
  },
  {
   "cell_type": "code",
   "execution_count": 47,
   "id": "b0911eaf",
   "metadata": {
    "execution": {
     "iopub.execute_input": "2022-06-15T21:10:36.980394Z",
     "iopub.status.busy": "2022-06-15T21:10:36.979794Z",
     "iopub.status.idle": "2022-06-15T21:10:36.986774Z",
     "shell.execute_reply": "2022-06-15T21:10:36.986119Z"
    },
    "papermill": {
     "duration": 0.033869,
     "end_time": "2022-06-15T21:10:36.988426",
     "exception": false,
     "start_time": "2022-06-15T21:10:36.954557",
     "status": "completed"
    },
    "tags": []
   },
   "outputs": [],
   "source": [
    "smoker_no_clear=pd.concat([smoker_no_clear,\n",
    "                           smoker_no_nan])"
   ]
  },
  {
   "cell_type": "markdown",
   "id": "6308d5b6",
   "metadata": {},
   "source": [
    "### *Smoker yes splitt*"
   ]
  },
  {
   "cell_type": "code",
   "execution_count": 48,
   "id": "cd236de6",
   "metadata": {
    "execution": {
     "iopub.execute_input": "2022-06-15T21:10:37.037779Z",
     "iopub.status.busy": "2022-06-15T21:10:37.037531Z",
     "iopub.status.idle": "2022-06-15T21:10:37.089403Z",
     "shell.execute_reply": "2022-06-15T21:10:37.088719Z"
    },
    "papermill": {
     "duration": 0.078363,
     "end_time": "2022-06-15T21:10:37.090932",
     "exception": false,
     "start_time": "2022-06-15T21:10:37.012569",
     "status": "completed"
    },
    "tags": []
   },
   "outputs": [
    {
     "data": {
      "image/png": "[encoded data removed]",
      "text/plain": [
       "<Figure size 1440x576 with 1 Axes>"
      ]
     },
     "metadata": {},
     "output_type": "display_data"
    }
   ],
   "source": [
    "plt.figure(figsize=(20,8))\n",
    "sns.histplot(data=smoker_yes_split,x=\"charges\")\n",
    "plt.show()"
   ]
  },
  {
   "cell_type": "markdown",
   "id": "ad588852",
   "metadata": {},
   "source": [
    "### *We replace the outliers*"
   ]
  },
  {
   "cell_type": "code",
   "execution_count": 52,
   "id": "8db40e55",
   "metadata": {
    "execution": {
     "iopub.execute_input": "2022-06-15T21:10:37.141680Z",
     "iopub.status.busy": "2022-06-15T21:10:37.141418Z",
     "iopub.status.idle": "2022-06-15T21:10:37.146119Z",
     "shell.execute_reply": "2022-06-15T21:10:37.145430Z"
    },
    "papermill": {
     "duration": 0.031635,
     "end_time": "2022-06-15T21:10:37.147710",
     "exception": false,
     "start_time": "2022-06-15T21:10:37.116075",
     "status": "completed"
    },
    "tags": []
   },
   "outputs": [],
   "source": [
    "smoker_yes_split[\"charges\"]=smoker_yes_split[\"charges\"].apply(lambda x: 48000 if x > 48000 else x)"
   ]
  },
  {
   "cell_type": "code",
   "execution_count": 53,
   "id": "f7424ea5",
   "metadata": {},
   "outputs": [
    {
     "data": {
      "image/png": "[encoded data removed]",
      "text/plain": [
       "<Figure size 1440x576 with 1 Axes>"
      ]
     },
     "metadata": {},
     "output_type": "display_data"
    }
   ],
   "source": [
    "plt.figure(figsize=(20,8))\n",
    "sns.histplot(data=smoker_yes_split,x=\"charges\")\n",
    "plt.show()"
   ]
  },
  {
   "cell_type": "code",
   "execution_count": 55,
   "id": "ed5b07b8",
   "metadata": {},
   "outputs": [],
   "source": [
    "smoker_yes_clear=smoker_yes_split"
   ]
  },
  {
   "cell_type": "code",
   "execution_count": 56,
   "id": "9ea0ea40",
   "metadata": {},
   "outputs": [],
   "source": [
    "df_clear=pd.concat([smoker_no_clear,smoker_yes_clear])"
   ]
  },
  {
   "cell_type": "markdown",
   "id": "ff99070b",
   "metadata": {},
   "source": [
    "#### *We save the dataset with the clean data*"
   ]
  },
  {
   "cell_type": "code",
   "execution_count": 57,
   "id": "ceccbe13",
   "metadata": {
    "execution": {
     "iopub.execute_input": "2022-06-15T21:10:37.649577Z",
     "iopub.status.busy": "2022-06-15T21:10:37.649306Z",
     "iopub.status.idle": "2022-06-15T21:10:37.661919Z",
     "shell.execute_reply": "2022-06-15T21:10:37.661097Z"
    },
    "papermill": {
     "duration": 0.040416,
     "end_time": "2022-06-15T21:10:37.663933",
     "exception": false,
     "start_time": "2022-06-15T21:10:37.623517",
     "status": "completed"
    },
    "tags": []
   },
   "outputs": [],
   "source": [
    "df_clear.to_csv(\"insurence_clear.csv\")"
   ]
  }
 ],
 "metadata": {
  "kernelspec": {
   "display_name": "Python 3 (ipykernel)",
   "language": "python",
   "name": "python3"
  },
  "language_info": {
   "codemirror_mode": {
    "name": "ipython",
    "version": 3
   },
   "file_extension": ".py",
   "mimetype": "text/x-python",
   "name": "python",
   "nbconvert_exporter": "python",
   "pygments_lexer": "ipython3",
   "version": "3.9.7"
  },
  "papermill": {
   "default_parameters": {},
   "duration": 20.008432,
   "end_time": "2022-06-15T21:10:38.708757",
   "environment_variables": {},
   "exception": null,
   "input_path": "__notebook__.ipynb",
   "output_path": "__notebook__.ipynb",
   "parameters": {},
   "start_time": "2022-06-15T21:10:18.700325",
   "version": "2.3.4"
  }
 },
 "nbformat": 4,
 "nbformat_minor": 5
}
